{
 "cells": [
  {
   "cell_type": "markdown",
   "metadata": {},
   "source": [
    "简单工厂模式，又称为静态工厂方法(static factory method)\n",
    "\n",
    "根据参数的不同返回不同类的实例。简单工厂模型专门定义一个类来负责创建其它类的实例\n",
    "被创建的实例通常都具有共同的父类。\n",
    "\n",
    "实现创建和使用分离"
   ]
  },
  {
   "cell_type": "markdown",
   "metadata": {},
   "source": [
    "开闭原则"
   ]
  },
  {
   "cell_type": "markdown",
   "metadata": {},
   "source": [
    "当实例的类型越来越多的时候，代码会越来越混乱"
   ]
  }
 ],
 "metadata": {
  "kernelspec": {
   "display_name": "base",
   "language": "python",
   "name": "python3"
  },
  "language_info": {
   "name": "python",
   "version": "3.12.4"
  }
 },
 "nbformat": 4,
 "nbformat_minor": 2
}
