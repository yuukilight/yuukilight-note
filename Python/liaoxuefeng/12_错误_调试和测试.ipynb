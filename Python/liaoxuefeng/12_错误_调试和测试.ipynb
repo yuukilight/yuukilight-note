{
 "cells": [
  {
   "cell_type": "markdown",
   "id": "71eccd3e",
   "metadata": {},
   "source": [
    "在程序运行过程中，总会遇到各种各样的错误。\n",
    "\n",
    "有的错误是程序编写有问题造成的，比如本来应该输出整数结果输出了字符串，这种错误我们通常称之为bug，bug是必须修复的。\n",
    "\n",
    "有的错误是用户输入造成的，比如让用户输入email地址，结果得到一个空字符串，这种错误可以通过检查用户输入来做相应的处理。\n",
    "\n",
    "还有一类错误是完全无法在程序运行过程中预测的，比如写入文件的时候，磁盘满了，写不进去了，或者从网络抓取数据，网络突然断掉了。这类错误也称为异常，在程序中通常是必须处理的，否则，程序会因为各种问题终止并退出。\n",
    "\n",
    "Python内置了一套异常处理机制，来帮助我们进行错误处理。\n",
    "\n",
    "此外，我们也需要跟踪程序的执行，查看变量的值是否正确，这个过程称为调试。Python的pdb可以让我们以单步方式执行代码。\n",
    "\n",
    "最后，编写测试也很重要。有了良好的测试，就可以在程序修改后反复运行，确保程序输出符合我们编写的测试。"
   ]
  },
  {
   "cell_type": "markdown",
   "id": "1a7bf0f5",
   "metadata": {
    "vscode": {
     "languageId": "plaintext"
    }
   },
   "source": [
    "## 12.1 错误处理\n",
    "\n",
    "常规的处理方法是当程序出错时返回一个错误码，但是错误码可能与程序正常输出弄混，处理起来并不直观，需要大量的代码进行判断。\n",
    "\n",
    "并且出错时，还需要一层一层的查看代码，直到某个函数可以处理该错误。\n",
    "\n",
    "所以高级语言通常都内置了一套```try...except...finally...```的错误处理机制，Python也不例外。"
   ]
  },
  {
   "cell_type": "markdown",
   "id": "b0878d07",
   "metadata": {},
   "source": [
    "### try\n",
    "\n",
    "让我们用一个例子来看看try的机制："
   ]
  },
  {
   "cell_type": "code",
   "execution_count": 1,
   "id": "bb99ef5c",
   "metadata": {},
   "outputs": [
    {
     "name": "stdout",
     "output_type": "stream",
     "text": [
      "try...\n",
      "except: division by zero\n",
      "finally...\n",
      "END\n"
     ]
    }
   ],
   "source": [
    "try:\n",
    "    print('try...')\n",
    "    r = 10 / 0\n",
    "    print('result:', r)\n",
    "except ZeroDivisionError as e:\n",
    "    print('except:', e)\n",
    "finally:\n",
    "    print('finally...')\n",
    "print('END')"
   ]
  },
  {
   "cell_type": "code",
   "execution_count": 2,
   "id": "51ffdc5e",
   "metadata": {},
   "outputs": [
    {
     "name": "stdout",
     "output_type": "stream",
     "text": [
      "try...\n",
      "result: 5.0\n",
      "finally...\n",
      "END\n"
     ]
    }
   ],
   "source": [
    "try:\n",
    "    print('try...')\n",
    "    r = 10 / 2\n",
    "    print('result:', r)\n",
    "except ZeroDivisionError as e:\n",
    "    print('except:', e)\n",
    "finally:\n",
    "    print('finally...')\n",
    "print('END')"
   ]
  },
  {
   "cell_type": "markdown",
   "id": "fd35e9f1",
   "metadata": {},
   "source": [
    "将可能出错的代码放在 ```try``` 中, 如果出错则停止执行 ```try``` 中出错代码后续的代码。\n",
    "\n",
    "```except``` 由于捕获到```ZeroDivisionError```, 因此执行\n",
    "\n",
    "无论出错与否，最后都会执行 ```finally``` 中的代码。\n",
    "\n",
    "错误应该有很多种类，如果发生了不同类型的错误，应该由不同的except语句块处理。没错，可以有多个except来捕获不同类型的错误：\n",
    "```python\n",
    "try:\n",
    "    print('try...')\n",
    "    r = 10 / int('a')\n",
    "    print('result:', r)\n",
    "except ValueError as e:\n",
    "    print('ValueError:', e)\n",
    "except ZeroDivisionError as e:\n",
    "    print('ZeroDivisionError:', e)\n",
    "finally:\n",
    "    print('finally...')\n",
    "print('END')\n",
    "```\n",
    "int()函数可能会抛出ValueError，所以我们用一个except捕获ValueError，用另一个except捕获ZeroDivisionError。\n",
    "\n",
    "此外，如果没有错误发生，可以在except语句块后面加一个else，当没有错误发生时，会自动执行else语句：\n",
    "```python\n",
    "try:\n",
    "    print('try...')\n",
    "    r = 10 / int('2')\n",
    "    print('result:', r)\n",
    "except ValueError as e:\n",
    "    print('ValueError:', e)\n",
    "except ZeroDivisionError as e:\n",
    "    print('ZeroDivisionError:', e)\n",
    "else:\n",
    "    print('no error!')\n",
    "finally:\n",
    "    print('finally...')\n",
    "print('END')\n",
    "```\n",
    "Python 的错误也是一种 class, 也就是捕获到某个类别的异常后。其派生类也都会被一同捕获。\n",
    "例如：\n",
    "```python\n",
    "try:\n",
    "    foo()\n",
    "except ValueError as e:\n",
    "    print('ValueError')\n",
    "except UnicodeError as e:\n",
    "    print('UnicodeError')\n",
    "```\n",
    "第二个except永远也捕获不到UnicodeError，因为UnicodeError是ValueError的子类，如果有，也被第一个except给捕获了。\n",
    "\n",
    "Python所有的错误都是从BaseException类派生的，常见的错误类型和继承关系看[这里](https://docs.python.org/3/library/exceptions.html#exception-hierarchy).\n",
    "\n",
    "使用 ```try...except```, 捕获错误有一个巨大的好处，就是可以跨越多层调用，比如函数```main()```调用```bar()```，```bar()```调用```foo()```，结果```foo()```出错了，这时，只要```main()```捕获到了，就可以处理：\n",
    "\n",
    "```python\n",
    "def foo(s):\n",
    "    return 10 / int(s)\n",
    "\n",
    "def bar(s):\n",
    "    return foo(s) * 2\n",
    "\n",
    "def main():\n",
    "    try:\n",
    "        bar('0')\n",
    "    except Exception as e:\n",
    "        print('Error:', e)\n",
    "    finally:\n",
    "        print('finally...')\n",
    "```\n",
    "也就是说，不需要在每个可能出错的地方去捕获错误，只要在合适的层次去捕获错误就可以了。这样一来，就大大减少了写try...except...finally的麻烦。"
   ]
  },
  {
   "cell_type": "markdown",
   "id": "0fe1f051",
   "metadata": {},
   "source": [
    "### 调用栈\n",
    "如果错误没有被捕获，它就会一直往上抛，最后被Python解释器捕获，打印一个错误信息，然后程序退出。\n",
    "\n",
    "### 记录错误\n",
    "Python内置的logging模块可以非常容易地记录错误信息：\n",
    "例如：\n",
    "```python\n",
    "import logging\n",
    "\n",
    "def foo(s):\n",
    "    return 10 / int(s)\n",
    "\n",
    "def bar(s):\n",
    "    return foo(s) * 2\n",
    "\n",
    "def main():\n",
    "    try:\n",
    "        bar('0')\n",
    "    except Exception as e:\n",
    "        logging.exception(e)\n",
    "\n",
    "main()\n",
    "print('END')\n",
    "```\n",
    "同样是出错，但程序打印完错误信息后会继续执行，并正常退出：\n",
    "```bash\n",
    "$ python3 err_logging.py\n",
    "ERROR:root:division by zero\n",
    "Traceback (most recent call last):\n",
    "  File \"err_logging.py\", line 13, in main\n",
    "    bar('0')\n",
    "  File \"err_logging.py\", line 9, in bar\n",
    "    return foo(s) * 2\n",
    "  File \"err_logging.py\", line 6, in foo\n",
    "    return 10 / int(s)\n",
    "ZeroDivisionError: division by zero\n",
    "END\n",
    "```\n",
    "通过配置，logging还可以把错误记录到日志文件里，方便事后排查。"
   ]
  },
  {
   "cell_type": "markdown",
   "id": "55285702",
   "metadata": {},
   "source": [
    "### 抛出错误\n",
    "因为错误是class，捕获一个错误就是捕获到该class的一个实例。因此，错误并不是凭空产生的，而是有意创建并抛出的。Python的内置函数会抛出很多类型的错误，我们自己编写的函数也可以抛出错误。\n",
    "\n",
    "```python\n",
    "class FooError(ValueError):\n",
    "    pass\n",
    "\n",
    "def foo(s):\n",
    "    n = int(s)\n",
    "    if n==0:\n",
    "        raise FooError('invalid value: %s' % s)\n",
    "    return 10 / n\n",
    "\n",
    "foo('0')\n",
    "```\n",
    "\n",
    "其它错误处理方式：\n",
    "```python\n",
    "def foo(s):\n",
    "    n = int(s)\n",
    "    if n==0:\n",
    "        raise ValueError('invalid value: %s' % s)\n",
    "    return 10 / n\n",
    "\n",
    "def bar():\n",
    "    try:\n",
    "        foo('0')\n",
    "    except ValueError as e:\n",
    "        print('ValueError!')\n",
    "        raise\n",
    "\n",
    "bar()\n",
    "```\n",
    "```bar()``` 函数中捕获异常并打印只是为了记录信息，当时当前函数不知道如何处理当前的错误，因此抛出异常交给上层去处理。\n",
    "\n",
    "```raise```语句如果不带参数，就会把当前错误原样抛出。此外，在```except```中```raise```一个Error，还可以把一种类型的错误转化成另一种类型：\n",
    "```python\n",
    "try:\n",
    "    10 / 0\n",
    "except ZeroDivisionError:\n",
    "    raise ValueError('input error!')\n",
    "\n",
    "```\n",
    "只要是合理的转换逻辑就可以，但是，决不应该把一个```IOError```转换成毫不相干的```ValueError```。\n",
    "\n",
    "Python内置的```try...except...finally```用来处理错误十分方便。出错时，会分析错误信息并定位错误发生的代码位置才是最关键的。\n",
    "\n",
    "程序也可以主动抛出错误，让调用者来处理相应的错误。但是，应该在文档中写清楚可能会抛出哪些错误，以及错误产生的原因。"
   ]
  },
  {
   "cell_type": "markdown",
   "id": "86412aef",
   "metadata": {},
   "source": [
    "### practise\n",
    "运行下面的代码，根据异常信息进行分析，定位出错误源头，并修复："
   ]
  },
  {
   "cell_type": "code",
   "execution_count": 3,
   "id": "3a529c6a",
   "metadata": {},
   "outputs": [
    {
     "name": "stdout",
     "output_type": "stream",
     "text": [
      "100 + 200 + 345 = 645\n"
     ]
    },
    {
     "ename": "ValueError",
     "evalue": "invalid literal for int() with base 10: ' 7.6'",
     "output_type": "error",
     "traceback": [
      "\u001b[1;31m---------------------------------------------------------------------------\u001b[0m",
      "\u001b[1;31mValueError\u001b[0m                                Traceback (most recent call last)",
      "Cell \u001b[1;32mIn[3], line 17\u001b[0m\n\u001b[0;32m     14\u001b[0m     r \u001b[38;5;241m=\u001b[39m calc(\u001b[38;5;124m'\u001b[39m\u001b[38;5;124m99 + 88 + 7.6\u001b[39m\u001b[38;5;124m'\u001b[39m)\n\u001b[0;32m     15\u001b[0m     \u001b[38;5;28mprint\u001b[39m(\u001b[38;5;124m'\u001b[39m\u001b[38;5;124m99 + 88 + 7.6 =\u001b[39m\u001b[38;5;124m'\u001b[39m, r)\n\u001b[1;32m---> 17\u001b[0m \u001b[43mmain\u001b[49m\u001b[43m(\u001b[49m\u001b[43m)\u001b[49m\n",
      "Cell \u001b[1;32mIn[3], line 14\u001b[0m, in \u001b[0;36mmain\u001b[1;34m()\u001b[0m\n\u001b[0;32m     12\u001b[0m r \u001b[38;5;241m=\u001b[39m calc(\u001b[38;5;124m'\u001b[39m\u001b[38;5;124m100 + 200 + 345\u001b[39m\u001b[38;5;124m'\u001b[39m)\n\u001b[0;32m     13\u001b[0m \u001b[38;5;28mprint\u001b[39m(\u001b[38;5;124m'\u001b[39m\u001b[38;5;124m100 + 200 + 345 =\u001b[39m\u001b[38;5;124m'\u001b[39m, r)\n\u001b[1;32m---> 14\u001b[0m r \u001b[38;5;241m=\u001b[39m \u001b[43mcalc\u001b[49m\u001b[43m(\u001b[49m\u001b[38;5;124;43m'\u001b[39;49m\u001b[38;5;124;43m99 + 88 + 7.6\u001b[39;49m\u001b[38;5;124;43m'\u001b[39;49m\u001b[43m)\u001b[49m\n\u001b[0;32m     15\u001b[0m \u001b[38;5;28mprint\u001b[39m(\u001b[38;5;124m'\u001b[39m\u001b[38;5;124m99 + 88 + 7.6 =\u001b[39m\u001b[38;5;124m'\u001b[39m, r)\n",
      "Cell \u001b[1;32mIn[3], line 9\u001b[0m, in \u001b[0;36mcalc\u001b[1;34m(exp)\u001b[0m\n\u001b[0;32m      7\u001b[0m ss \u001b[38;5;241m=\u001b[39m exp\u001b[38;5;241m.\u001b[39msplit(\u001b[38;5;124m'\u001b[39m\u001b[38;5;124m+\u001b[39m\u001b[38;5;124m'\u001b[39m)\n\u001b[0;32m      8\u001b[0m ns \u001b[38;5;241m=\u001b[39m \u001b[38;5;28mmap\u001b[39m(str2num, ss)\n\u001b[1;32m----> 9\u001b[0m \u001b[38;5;28;01mreturn\u001b[39;00m \u001b[43mreduce\u001b[49m\u001b[43m(\u001b[49m\u001b[38;5;28;43;01mlambda\u001b[39;49;00m\u001b[43m \u001b[49m\u001b[43macc\u001b[49m\u001b[43m,\u001b[49m\u001b[43m \u001b[49m\u001b[43mx\u001b[49m\u001b[43m:\u001b[49m\u001b[43m \u001b[49m\u001b[43macc\u001b[49m\u001b[43m \u001b[49m\u001b[38;5;241;43m+\u001b[39;49m\u001b[43m \u001b[49m\u001b[43mx\u001b[49m\u001b[43m,\u001b[49m\u001b[43m \u001b[49m\u001b[43mns\u001b[49m\u001b[43m)\u001b[49m\n",
      "Cell \u001b[1;32mIn[3], line 4\u001b[0m, in \u001b[0;36mstr2num\u001b[1;34m(s)\u001b[0m\n\u001b[0;32m      3\u001b[0m \u001b[38;5;28;01mdef\u001b[39;00m\u001b[38;5;250m \u001b[39m\u001b[38;5;21mstr2num\u001b[39m(s):\n\u001b[1;32m----> 4\u001b[0m     \u001b[38;5;28;01mreturn\u001b[39;00m \u001b[38;5;28;43mint\u001b[39;49m\u001b[43m(\u001b[49m\u001b[43ms\u001b[49m\u001b[43m)\u001b[49m\n",
      "\u001b[1;31mValueError\u001b[0m: invalid literal for int() with base 10: ' 7.6'"
     ]
    }
   ],
   "source": [
    "from functools import reduce\n",
    "\n",
    "def str2num(s):\n",
    "    return int(s)\n",
    "\n",
    "def calc(exp):\n",
    "    ss = exp.split('+')\n",
    "    ns = map(str2num, ss)\n",
    "    return reduce(lambda acc, x: acc + x, ns)\n",
    "\n",
    "def main():\n",
    "    r = calc('100 + 200 + 345')\n",
    "    print('100 + 200 + 345 =', r)\n",
    "    r = calc('99 + 88 + 7.6')\n",
    "    print('99 + 88 + 7.6 =', r)\n",
    "\n",
    "main()"
   ]
  },
  {
   "cell_type": "code",
   "execution_count": 5,
   "id": "21f0b557",
   "metadata": {},
   "outputs": [
    {
     "name": "stdout",
     "output_type": "stream",
     "text": [
      "100 + 200 + 345 = 645.0\n",
      "99 + 88 + 7.6 = 194.6\n"
     ]
    }
   ],
   "source": [
    "from functools import reduce\n",
    "\n",
    "def str2num(s):\n",
    "    return float(s)\n",
    "\n",
    "def calc(exp):\n",
    "    ss = exp.split('+')\n",
    "    ns = map(str2num, ss)\n",
    "    return reduce(lambda acc, x: acc + x, ns)\n",
    "\n",
    "def main():\n",
    "    r = calc('100 + 200 + 345')\n",
    "    print('100 + 200 + 345 =', r)\n",
    "    r = calc('99 + 88 + 7.6')\n",
    "    print('99 + 88 + 7.6 =', r)\n",
    "\n",
    "main()"
   ]
  },
  {
   "cell_type": "markdown",
   "id": "e435ce32",
   "metadata": {},
   "source": [
    "## 12.2 调试\n",
    "\n",
    "- ```print```\n",
    "- ```assert``` (why is 'assert'?)\n",
    "- ```-O```\n",
    "- ```logging``` leval\n",
    "- ```pdb```, ```pdb.set_trace()```\n",
    "- ```IDE```"
   ]
  },
  {
   "cell_type": "code",
   "execution_count": null,
   "id": "e3a3d518",
   "metadata": {},
   "outputs": [],
   "source": [
    "import logging\n",
    "logging.basicConfig(level=logging.DEBUG)\n",
    "\n",
    "s = '0'\n",
    "n = int(s)\n",
    "logging.info('yuukilight')\n",
    "logging.info('n = %d' % n)\n",
    "# print(10/n)"
   ]
  },
  {
   "cell_type": "markdown",
   "id": "7d113dcb",
   "metadata": {},
   "source": [
    "**大佬的小结**\n",
    "写程序最痛苦的事情莫过于调试，程序往往会以你意想不到的流程来运行，你期待执行的语句其实根本没有执行，这时候，就需要调试了。\n",
    "\n",
    "虽然用IDE调试起来比较方便，但是最后你会发现，logging才是终极武器。"
   ]
  },
  {
   "cell_type": "markdown",
   "id": "a6e9521c",
   "metadata": {},
   "source": [
    "## 12.3 单元测试\n",
    "\n",
    "- TDD(Test-Driven Development)\n",
    "- ```unittest.TestCase```\n",
    "- ```python -m xxx```\n",
    "- ```setUp()```, ```tearDown()```"
   ]
  },
  {
   "cell_type": "markdown",
   "id": "1233361f",
   "metadata": {},
   "source": [
    "###  practise\n",
    "\n",
    "对Student类编写单元测试，结果发现测试不通过，请修改Student类，让测试通过："
   ]
  },
  {
   "cell_type": "code",
   "execution_count": 13,
   "id": "7dc44cc0",
   "metadata": {},
   "outputs": [
    {
     "name": "stdout",
     "output_type": "stream",
     "text": [
      "Overwriting unittest_practise.py\n"
     ]
    }
   ],
   "source": [
    "%%writefile unittest_practise.py\n",
    "import unittest\n",
    "\n",
    "class Student(object):\n",
    "    def __init__(self, name, score):\n",
    "        self.name = name\n",
    "        self.score = score\n",
    "    def get_grade(self):\n",
    "        if self.score > 100:\n",
    "            raise ValueError\n",
    "        if self.score >= 80:\n",
    "            return 'A'\n",
    "        if self.score >= 60:\n",
    "            return 'B'\n",
    "        if self.score >= 0:\n",
    "            return 'C'\n",
    "        raise ValueError\n",
    "\n",
    "class TestStudent(unittest.TestCase):\n",
    "\n",
    "    def test_80_to_100(self):\n",
    "        s1 = Student('Bart', 80)\n",
    "        s2 = Student('Lisa', 100)\n",
    "        self.assertEqual(s1.get_grade(), 'A')\n",
    "        self.assertEqual(s2.get_grade(), 'A')\n",
    "\n",
    "    def test_60_to_80(self):\n",
    "        s1 = Student('Bart', 60)\n",
    "        s2 = Student('Lisa', 79)\n",
    "        self.assertEqual(s1.get_grade(), 'B')\n",
    "        self.assertEqual(s2.get_grade(), 'B')\n",
    "\n",
    "    def test_0_to_60(self):\n",
    "        s1 = Student('Bart', 0)\n",
    "        s2 = Student('Lisa', 59)\n",
    "        self.assertEqual(s1.get_grade(), 'C')\n",
    "        self.assertEqual(s2.get_grade(), 'C')\n",
    "\n",
    "    def test_invalid(self):\n",
    "        s1 = Student('Bart', -1)\n",
    "        s2 = Student('Lisa', 101)\n",
    "        with self.assertRaises(ValueError):\n",
    "            s1.get_grade()\n",
    "        with self.assertRaises(ValueError):\n",
    "            s2.get_grade()\n",
    "\n",
    "if __name__ == '__main__':\n",
    "    unittest.main()\n"
   ]
  },
  {
   "cell_type": "code",
   "execution_count": 14,
   "id": "07b91d73",
   "metadata": {},
   "outputs": [
    {
     "name": "stderr",
     "output_type": "stream",
     "text": [
      "....\n",
      "----------------------------------------------------------------------\n",
      "Ran 4 tests in 0.002s\n",
      "\n",
      "OK\n"
     ]
    }
   ],
   "source": [
    "%run unittest_practise.py"
   ]
  },
  {
   "cell_type": "markdown",
   "id": "948242e7",
   "metadata": {},
   "source": [
    "### 小结\n",
    "\n",
    "单元测试可以有效地测试某个程序模块的行为，是未来重构代码的信心保证。\n",
    "\n",
    "单元测试的测试用例要覆盖常用的输入组合、边界条件和异常。\n",
    "\n",
    "单元测试代码要非常简单，如果测试代码太复杂，那么测试代码本身就可能有bug。\n",
    "\n",
    "单元测试通过了并不意味着程序就没有bug了，但是不通过程序肯定有bug。"
   ]
  },
  {
   "cell_type": "markdown",
   "id": "dd1cbe75",
   "metadata": {},
   "source": [
    "## 12.4 文档测试\n",
    "\n",
    "- doctest\n",
    "- "
   ]
  },
  {
   "cell_type": "code",
   "execution_count": 20,
   "id": "224cd865",
   "metadata": {},
   "outputs": [
    {
     "name": "stdout",
     "output_type": "stream",
     "text": [
      "Overwriting mydict_doctest.py\n"
     ]
    }
   ],
   "source": [
    "%%writefile mydict_doctest.py\n",
    "\n",
    "class Dict(dict):\n",
    "    '''\n",
    "    Simple dict but also support access as x.y style.\n",
    "\n",
    "    >>> d1 = Dict()\n",
    "    >>> d1['x'] = 100\n",
    "    >>> d1.x\n",
    "    100\n",
    "    >>> d1.y = 200\n",
    "    >>> d1['y']\n",
    "    200\n",
    "    >>> d2 = Dict(a=1, b=2, c='3')\n",
    "    >>> d2.c\n",
    "    '3'\n",
    "    >>> d2['empty']\n",
    "    Traceback (most recent call last):\n",
    "        ...\n",
    "    KeyError: 'empty'\n",
    "    >>> d2.empty\n",
    "    Traceback (most recent call last):\n",
    "        ...\n",
    "    AttributeError: 'Dict' object has no attribute 'empty'\n",
    "    '''\n",
    "    def __init__(self, **kw):\n",
    "        super(Dict, self).__init__(**kw)\n",
    "\n",
    "    def __getattr__(self, key):\n",
    "        try:\n",
    "            return self[key]\n",
    "        except KeyError:\n",
    "            raise AttributeError(r\"'Dict' object has no attribute '%s'\" % key)\n",
    "\n",
    "    def __setattr__(self, key, value):\n",
    "        self[key] = value\n",
    "\n",
    "if __name__=='__main__':\n",
    "    import doctest\n",
    "    doctest.testmod()"
   ]
  },
  {
   "cell_type": "code",
   "execution_count": 21,
   "id": "83559555",
   "metadata": {},
   "outputs": [],
   "source": [
    "%run mydict_doctest.py"
   ]
  },
  {
   "cell_type": "markdown",
   "id": "fde7bda8",
   "metadata": {},
   "source": [
    "### practise\n",
    "\n",
    "对函数```fact(n)```编写doctest并执行："
   ]
  },
  {
   "cell_type": "code",
   "execution_count": 41,
   "id": "a0e63719",
   "metadata": {},
   "outputs": [
    {
     "name": "stdout",
     "output_type": "stream",
     "text": [
      "Overwriting doctest_practise.py\n"
     ]
    }
   ],
   "source": [
    "%%writefile doctest_practise.py\n",
    "def fact(n):\n",
    "    '''\n",
    "    Calculate 1*2*...*n\n",
    "    \n",
    "    >>> fact(1)\n",
    "    1\n",
    "    >>> fact(10)\n",
    "    3628800\n",
    "    >>> fact(-1)\n",
    "    Traceback (most recent call last):\n",
    "        ...\n",
    "    ValueError\n",
    "    '''\n",
    "    if n < 1:\n",
    "        raise ValueError()\n",
    "    if n == 1:\n",
    "        return 1\n",
    "    return n * fact(n - 1)\n",
    "\n",
    "if __name__ == '__main__':\n",
    "    import doctest\n",
    "    doctest.testmod()"
   ]
  },
  {
   "cell_type": "code",
   "execution_count": 42,
   "id": "b8ea2816",
   "metadata": {},
   "outputs": [],
   "source": [
    "%run doctest_practise.py"
   ]
  },
  {
   "cell_type": "code",
   "execution_count": null,
   "id": "810143bb",
   "metadata": {},
   "outputs": [],
   "source": []
  }
 ],
 "metadata": {
  "kernelspec": {
   "display_name": "base",
   "language": "python",
   "name": "python3"
  },
  "language_info": {
   "codemirror_mode": {
    "name": "ipython",
    "version": 3
   },
   "file_extension": ".py",
   "mimetype": "text/x-python",
   "name": "python",
   "nbconvert_exporter": "python",
   "pygments_lexer": "ipython3",
   "version": "3.12.3"
  }
 },
 "nbformat": 4,
 "nbformat_minor": 5
}
