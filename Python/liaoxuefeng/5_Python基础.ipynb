{
 "cells": [
  {
   "cell_type": "markdown",
   "id": "24a4e87d",
   "metadata": {},
   "source": [
    "## 5.2 字符串和编码\n"
   ]
  },
  {
   "cell_type": "markdown",
   "id": "e80dfb6f",
   "metadata": {},
   "source": [
    "### 编码格式发展历程\n",
    "\n",
    "ASCII -> Unicode -> UTF-8\n",
    "\n",
    "ASCII: 编码了英文字母和常用的字符，只需要 1 个字节即可表示所有的符号\n",
    "Unicode: 将各个语言的符号统一起来编码，通常需要 2 个字节\n",
    "UTF-8: 考虑到传输的效率，高频的符号用 1 个字节编码，低频的符号则使用3个乃至更多字节"
   ]
  },
  {
   "cell_type": "markdown",
   "id": "f17ab90d",
   "metadata": {
    "vscode": {
     "languageId": "plaintext"
    }
   },
   "source": [
    "### Python 的字符串\n",
    "Python3 中字符串以 Unicode 编码，即可以支持多语言。\n",
    "\n",
    "Python 的 str，在内存中以 Unicode 保存。\n",
    "可以通过增加前缀 b 表示为 byte 格式。\n",
    "\n"
   ]
  },
  {
   "cell_type": "code",
   "execution_count": null,
   "id": "1e379e2a",
   "metadata": {},
   "outputs": [
    {
     "name": "stdout",
     "output_type": "stream",
     "text": [
      "44\n",
      "36\n",
      "3\n",
      "3\n"
     ]
    }
   ],
   "source": [
    "import sys\n",
    "\n",
    "x = 'ABC'\n",
    "y = b'ABC'\n",
    "print(sys.getsizeof(x)) # 计算字符数\n",
    "print(sys.getsizeof(y)) # 计算字节数\n",
    "print(len(x))\n",
    "print(len(y))"
   ]
  },
  {
   "cell_type": "code",
   "execution_count": 14,
   "id": "df41511e",
   "metadata": {},
   "outputs": [
    {
     "data": {
      "text/plain": [
       "b'\\xe9\\x81\\x90\\xe8\\x9d\\xb6'"
      ]
     },
     "execution_count": 14,
     "metadata": {},
     "output_type": "execute_result"
    }
   ],
   "source": [
    "'遐蝶'.encode('utf-8')"
   ]
  },
  {
   "cell_type": "markdown",
   "id": "707a73dc",
   "metadata": {},
   "source": [
    "##  5.5 模式匹配\n",
    "\n",
    "### 匹配值和范围\n",
    "```python\n",
    "age = 15\n",
    "\n",
    "match age:\n",
    "    case x if x < 10:\n",
    "        print(f'< 10 years old: {x}')\n",
    "    case 10:\n",
    "        print('10 years old.')\n",
    "    case 11 | 12 | 13 | 14 | 15 | 16 | 17 | 18:\n",
    "        print('11~18 years old.')\n",
    "    case 19:\n",
    "        print('19 years old.')\n",
    "    case _:\n",
    "        print('not sure.')\n",
    "\n",
    "```\n",
    "\n",
    "### 匹配列表\n",
    "```python\n",
    "args = ['gcc', 'hello.c', 'world.c']\n",
    "# args = ['clean']\n",
    "# args = ['gcc']\n",
    "\n",
    "match args:\n",
    "    # 如果仅出现gcc，报错:\n",
    "    case ['gcc']:\n",
    "        print('gcc: missing source file(s).')\n",
    "    # 出现gcc，且至少指定了一个文件:\n",
    "    case ['gcc', file1, *files]:\n",
    "        print('gcc compile: ' + file1 + ', ' + ', '.join(files))\n",
    "    # 仅出现clean:\n",
    "    case ['clean']:\n",
    "        print('clean')\n",
    "    case _:\n",
    "        print('invalid command.')\n",
    "```"
   ]
  },
  {
   "cell_type": "code",
   "execution_count": null,
   "id": "e609f241",
   "metadata": {},
   "outputs": [],
   "source": []
  }
 ],
 "metadata": {
  "kernelspec": {
   "display_name": "base",
   "language": "python",
   "name": "python3"
  },
  "language_info": {
   "codemirror_mode": {
    "name": "ipython",
    "version": 3
   },
   "file_extension": ".py",
   "mimetype": "text/x-python",
   "name": "python",
   "nbconvert_exporter": "python",
   "pygments_lexer": "ipython3",
   "version": "3.12.3"
  }
 },
 "nbformat": 4,
 "nbformat_minor": 5
}
