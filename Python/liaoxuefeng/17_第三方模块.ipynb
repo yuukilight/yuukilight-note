{
 "cells": [
  {
   "cell_type": "markdown",
   "id": "b558bb9c",
   "metadata": {},
   "source": [
    "- requests\n",
    "- chardet\n",
    "- psutils (process and system utilities)"
   ]
  }
 ],
 "metadata": {
  "language_info": {
   "name": "python"
  }
 },
 "nbformat": 4,
 "nbformat_minor": 5
}
