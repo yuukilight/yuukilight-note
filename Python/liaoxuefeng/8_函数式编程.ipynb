{
 "cells": [
  {
   "cell_type": "markdown",
   "id": "5f0cf713",
   "metadata": {},
   "source": [
    "## 8.1 高阶函数\n",
    "\n",
    "一个函数就可以接收另一个函数作为参数，这种函数就称之为高阶函数。\n",
    "\n",
    "如下例子就是一个高阶函数：\n",
    "```python\n",
    "def add(x, y, f):\n",
    "    return f(x) + f(y)\n",
    "```"
   ]
  },
  {
   "cell_type": "markdown",
   "id": "158bff5b",
   "metadata": {},
   "source": [
    "### 8.1.1 map/reduce\n",
    "\n",
    "map()函数接收两个参数，一个是函数，一个是Iterable，map将传入的函数依次作用到序列的每个元素，并把结果作为新的Iterator返回。\n",
    "\n",
    "例如："
   ]
  },
  {
   "cell_type": "code",
   "execution_count": 1,
   "id": "eba6e0e5",
   "metadata": {},
   "outputs": [
    {
     "data": {
      "text/plain": [
       "[1, 4, 9, 16, 25, 36, 49, 64, 81]"
      ]
     },
     "execution_count": 1,
     "metadata": {},
     "output_type": "execute_result"
    }
   ],
   "source": [
    "def f(x):\n",
    "    return x * x\n",
    "\n",
    "r = map(f, [1, 2, 3, 4 ,5, 6, 7, 8, 9])\n",
    "\n",
    "list(r)"
   ]
  },
  {
   "cell_type": "markdown",
   "id": "8d4c65b5",
   "metadata": {},
   "source": [
    "reduce把一个函数作用在一个序列[x1, x2, x3, ...]上，这个函数必须接收两个参数，reduce把结果继续和序列的下一个元素做累积计算，其效果就是:\n",
    "```python\n",
    "reduce(f, [x1, x2, x3, x4]) = f(f(f(x1, x2), x3), x4)\n",
    "```\n",
    "\n",
    "以序列求和举例："
   ]
  },
  {
   "cell_type": "code",
   "execution_count": 2,
   "id": "dabf2ba0",
   "metadata": {},
   "outputs": [
    {
     "data": {
      "text/plain": [
       "25"
      ]
     },
     "execution_count": 2,
     "metadata": {},
     "output_type": "execute_result"
    }
   ],
   "source": [
    "from functools import reduce\n",
    "\n",
    "def add(x, y):\n",
    "    return x + y\n",
    "\n",
    "reduce(add, [1, 3, 5, 7, 9])"
   ]
  },
  {
   "cell_type": "markdown",
   "id": "365e2998",
   "metadata": {},
   "source": [
    "一个更实用的例子是将 [1, 3, 5, 7, 9] 转换为 13579\n",
    "\n",
    "配合 map 函数可以快速的实现一个 str2num 的函数"
   ]
  },
  {
   "cell_type": "code",
   "execution_count": 3,
   "id": "7e3d9d1f",
   "metadata": {},
   "outputs": [],
   "source": [
    "from functools import reduce\n",
    "\n",
    "DIGITS = {'0': 0, '1': 1, '2': 2, '3': 3, '4': 4, '5': 5, '6': 6, '7': 7, '8': 8, '9': 9}\n",
    "\n",
    "def str2int(s):\n",
    "    def fn(x, y):\n",
    "        return x * 10 + y\n",
    "    def char2num(s):\n",
    "        return DIGITS[s]\n",
    "    return reduce(fn, map(char2num, s))"
   ]
  },
  {
   "cell_type": "markdown",
   "id": "36a3f418",
   "metadata": {},
   "source": [
    "lambda 函数版本"
   ]
  },
  {
   "cell_type": "code",
   "execution_count": null,
   "id": "68ff4cbb",
   "metadata": {},
   "outputs": [],
   "source": [
    "from functools import reduce\n",
    "\n",
    "DIGITS = {'0': 0, '1': 1, '2': 2, '3': 3, '4': 4, '5': 5, '6': 6, '7': 7, '8': 8, '9': 9}\n",
    "\n",
    "def char2num(s):\n",
    "    return DIGITS[s]\n",
    "\n",
    "def str2int(s):\n",
    "    return reduce(lambda x, y: x * 10 + y, map(char2num, s))"
   ]
  },
  {
   "cell_type": "markdown",
   "id": "34cf805a",
   "metadata": {},
   "source": [
    "#### Practise\n",
    "\n",
    "利用map()函数，把用户输入的不规范的英文名字，变为首字母大写，其他小写的规范名字。输入：['adam', 'LISA', 'barT']，输出：['Adam', 'Lisa', 'Bart']："
   ]
  },
  {
   "cell_type": "code",
   "execution_count": 5,
   "id": "92891452",
   "metadata": {},
   "outputs": [
    {
     "name": "stdout",
     "output_type": "stream",
     "text": [
      "['Adam', 'Lisa', 'Bart']\n"
     ]
    }
   ],
   "source": [
    "def normalize(name):\n",
    "    return name.title()\n",
    "    \n",
    "\n",
    "L1 = ['adam', 'LISA', 'barT']\n",
    "L2 = list(map(normalize, L1))\n",
    "print(L2)\n"
   ]
  },
  {
   "cell_type": "markdown",
   "id": "830618c0",
   "metadata": {},
   "source": [
    "Python提供的sum()函数可以接受一个list并求和，请编写一个prod()函数，可以接受一个list并利用reduce()求积："
   ]
  },
  {
   "cell_type": "code",
   "execution_count": 7,
   "id": "11f27e3c",
   "metadata": {},
   "outputs": [
    {
     "name": "stdout",
     "output_type": "stream",
     "text": [
      "3 * 5 * 7 * 9 = 945\n",
      "测试成功!\n"
     ]
    }
   ],
   "source": [
    "from functools import reduce\n",
    "\n",
    "def prod(L):\n",
    "    return reduce(lambda x,y:x*y, L)\n",
    "\n",
    "print('3 * 5 * 7 * 9 =', prod([3, 5, 7, 9]))\n",
    "if prod([3, 5, 7, 9]) == 945:\n",
    "    print('测试成功!')\n",
    "else:\n",
    "    print('测试失败!')"
   ]
  },
  {
   "cell_type": "markdown",
   "id": "6a355fe2",
   "metadata": {},
   "source": [
    "利用map和reduce编写一个str2float函数，把字符串'123.456'转换成浮点数123.456："
   ]
  },
  {
   "cell_type": "code",
   "execution_count": 11,
   "id": "770b2fec",
   "metadata": {},
   "outputs": [
    {
     "name": "stdout",
     "output_type": "stream",
     "text": [
      "str2float('123.456') = 123.456\n",
      "测试成功!\n"
     ]
    }
   ],
   "source": [
    "from functools import reduce\n",
    "\n",
    "DIGITS = {'0': 0, '1': 1, '2': 2, '3': 3, '4': 4, '5': 5, '6': 6, '7': 7, '8': 8, '9': 9, '.': '.'}\n",
    "\n",
    "def char2num(s):\n",
    "    return DIGITS[s]\n",
    "\n",
    "def str2float(s):\n",
    "    pre = 10\n",
    "    suf = 1\n",
    "    def fn(x, y):\n",
    "        nonlocal pre\n",
    "        nonlocal suf\n",
    "        if y == '.':\n",
    "            pre = 1\n",
    "            return x\n",
    "        elif pre == 1:\n",
    "            suf *= 0.1\n",
    "        return x*pre + y*suf\n",
    "    return reduce(fn, map(char2num, s))\n",
    "\n",
    "\n",
    "\n",
    "print('str2float(\\'123.456\\') =', str2float('123.456'))\n",
    "if abs(str2float('123.456') - 123.456) < 0.00001:\n",
    "    print('测试成功!')\n",
    "else:\n",
    "    print('测试失败!')\n"
   ]
  },
  {
   "cell_type": "markdown",
   "id": "a9496d24",
   "metadata": {},
   "source": [
    "### 8.1.2 filter\n",
    "\n",
    "Python内建的filter()函数用于过滤序列。\n",
    "\n",
    "和map()类似，filter()也接收一个函数和一个序列。和map()不同的是，filter()把传入的函数依次作用于每个元素，然后根据返回值是True还是False决定保留还是丢弃该元素。\n",
    "\n",
    "例如，在一个list中，删掉偶数，只保留奇数，可以这么写："
   ]
  },
  {
   "cell_type": "code",
   "execution_count": 12,
   "id": "c122c8d3",
   "metadata": {},
   "outputs": [
    {
     "data": {
      "text/plain": [
       "[1, 5, 9, 15]"
      ]
     },
     "execution_count": 12,
     "metadata": {},
     "output_type": "execute_result"
    }
   ],
   "source": [
    "def is_odd(n):\n",
    "    return n % 2 == 1\n",
    "\n",
    "list(filter(is_odd, [1, 2, 4, 5, 6, 9, 10, 15]))\n",
    "# 结果: [1, 5, 9, 15]"
   ]
  },
  {
   "cell_type": "markdown",
   "id": "ad392936",
   "metadata": {},
   "source": [
    "把一个序列中的空字符串删掉，可以这么写："
   ]
  },
  {
   "cell_type": "code",
   "execution_count": 13,
   "id": "3d9dee76",
   "metadata": {},
   "outputs": [
    {
     "data": {
      "text/plain": [
       "['A', 'B', 'C']"
      ]
     },
     "execution_count": 13,
     "metadata": {},
     "output_type": "execute_result"
    }
   ],
   "source": [
    "def not_empty(s):\n",
    "    return s and s.strip()\n",
    "\n",
    "list(filter(not_empty, ['A', '', 'B', None, 'C', '  ']))\n",
    "# 结果: ['A', 'B', 'C']\n"
   ]
  },
  {
   "cell_type": "markdown",
   "id": "e5219175",
   "metadata": {},
   "source": [
    "使用高阶函数 filter() 的关键在于正确实现 筛选 函数.\n",
    "\n",
    "同时需要注意 filter() 返回的是一个 Iterator 是一个 lazy_sequence, 如果需要完成所有计算结果需要用 list() 函数获得所有结果并返回一个 list."
   ]
  },
  {
   "cell_type": "markdown",
   "id": "57d130bb",
   "metadata": {},
   "source": [
    "#### Practise\n",
    "\n",
    "回数是指从左向右读和从右向左读都是一样的数，例如12321，909。请利用filter()筛选出回数："
   ]
  },
  {
   "cell_type": "code",
   "execution_count": 15,
   "id": "490574af",
   "metadata": {},
   "outputs": [
    {
     "name": "stdout",
     "output_type": "stream",
     "text": [
      "1~1000: [1, 2, 3, 4, 5, 6, 7, 8, 9, 11, 22, 33, 44, 55, 66, 77, 88, 99, 101, 111, 121, 131, 141, 151, 161, 171, 181, 191, 202, 212, 222, 232, 242, 252, 262, 272, 282, 292, 303, 313, 323, 333, 343, 353, 363, 373, 383, 393, 404, 414, 424, 434, 444, 454, 464, 474, 484, 494, 505, 515, 525, 535, 545, 555, 565, 575, 585, 595, 606, 616, 626, 636, 646, 656, 666, 676, 686, 696, 707, 717, 727, 737, 747, 757, 767, 777, 787, 797, 808, 818, 828, 838, 848, 858, 868, 878, 888, 898, 909, 919, 929, 939, 949, 959, 969, 979, 989, 999]\n",
      "测试成功!\n"
     ]
    }
   ],
   "source": [
    "def is_palindrome(n):\n",
    "    num = str(n)\n",
    "    return num == num[::-1]\n",
    "\n",
    "# 测试:\n",
    "output = filter(is_palindrome, range(1, 1000))\n",
    "print('1~1000:', list(output))\n",
    "if list(filter(is_palindrome, range(1, 200))) == [1, 2, 3, 4, 5, 6, 7, 8, 9, 11, 22, 33, 44, 55, 66, 77, 88, 99, 101, 111, 121, 131, 141, 151, 161, 171, 181, 191]:\n",
    "    print('测试成功!')\n",
    "else:\n",
    "    print('测试失败!')\n"
   ]
  },
  {
   "cell_type": "markdown",
   "id": "fa338007",
   "metadata": {},
   "source": [
    "### 8.1.3 sorted\n",
    "\n",
    "Python 中的 sorted 也是一个高级函数，参数 key 接收一个函数，来对待排序序列的每一个元素进行处理。并根据处理后的结果进行排序。\n",
    "\n",
    "同时含有 reverse 参数，设置为 True 时进行降序排序。"
   ]
  },
  {
   "cell_type": "markdown",
   "id": "fa8362cb",
   "metadata": {},
   "source": [
    "#### Practise"
   ]
  },
  {
   "cell_type": "markdown",
   "id": "914baac8",
   "metadata": {},
   "source": [
    "假设我们用一组tuple表示学生名字和成绩："
   ]
  },
  {
   "cell_type": "code",
   "execution_count": 16,
   "id": "fef72004",
   "metadata": {},
   "outputs": [],
   "source": [
    "L = [('Bob', 75), ('Adam', 92), ('Bart', 66), ('Lisa', 88)]"
   ]
  },
  {
   "cell_type": "markdown",
   "id": "8636fd9f",
   "metadata": {},
   "source": [
    "请用sorted()对上述列表分别按名字排序："
   ]
  },
  {
   "cell_type": "code",
   "execution_count": 20,
   "id": "53e7a085",
   "metadata": {},
   "outputs": [
    {
     "name": "stdout",
     "output_type": "stream",
     "text": [
      "[('Adam', 92), ('Bart', 66), ('Bob', 75), ('Lisa', 88)]\n"
     ]
    }
   ],
   "source": [
    "L = [('Bob', 75), ('Adam', 92), ('Bart', 66), ('Lisa', 88)]\n",
    "\n",
    "def by_name(t):\n",
    "    name, score = t\n",
    "    return name.lower()\n",
    "\n",
    "L2 = sorted(L, key=by_name)\n",
    "print(L2)"
   ]
  },
  {
   "cell_type": "markdown",
   "id": "d48779e2",
   "metadata": {},
   "source": [
    "再按成绩从高到低排序："
   ]
  },
  {
   "cell_type": "code",
   "execution_count": 23,
   "id": "7c6d97a5",
   "metadata": {},
   "outputs": [
    {
     "name": "stdout",
     "output_type": "stream",
     "text": [
      "[('Adam', 92), ('Lisa', 88), ('Bob', 75), ('Bart', 66)]\n"
     ]
    }
   ],
   "source": [
    "L = [('Bob', 75), ('Adam', 92), ('Bart', 66), ('Lisa', 88)]\n",
    "\n",
    "def by_score(t):\n",
    "    return t[1]\n",
    "\n",
    "L2 = sorted(L, key=by_score, reverse=True)\n",
    "print(L2)"
   ]
  },
  {
   "cell_type": "markdown",
   "id": "b4c78389",
   "metadata": {},
   "source": [
    "## 8.2 返回函数\n",
    "\n",
    "高阶函数除了可以接受函数作为参数外，还可以把函数作为结果值返回。\n",
    "\n",
    "例如一个求和函数，我们可以不返回结果。而是返回一个函数，在需要的时候再进行求和。\n",
    "\n",
    "例如："
   ]
  },
  {
   "cell_type": "code",
   "execution_count": 24,
   "id": "08fe561c",
   "metadata": {},
   "outputs": [],
   "source": [
    "# 可变参数求和函数\n",
    "def calc_sum(*args):\n",
    "    ax = 0\n",
    "    for n in args:\n",
    "        ax = ax + n\n",
    "    return ax\n",
    "\n",
    "# 返回函数在需要时求和\n",
    "def lazy_sum(*args):\n",
    "    def sum():\n",
    "        ax = 0\n",
    "        for n in args:\n",
    "            ax = ax + n\n",
    "        return ax\n",
    "    return sum"
   ]
  },
  {
   "cell_type": "code",
   "execution_count": 25,
   "id": "6669e9d5",
   "metadata": {},
   "outputs": [
    {
     "data": {
      "text/plain": [
       "<function __main__.lazy_sum.<locals>.sum()>"
      ]
     },
     "execution_count": 25,
     "metadata": {},
     "output_type": "execute_result"
    }
   ],
   "source": [
    "f = lazy_sum(1, 3, 5, 7, 9)\n",
    "f"
   ]
  },
  {
   "cell_type": "code",
   "execution_count": 26,
   "id": "e23a0746",
   "metadata": {},
   "outputs": [
    {
     "data": {
      "text/plain": [
       "25"
      ]
     },
     "execution_count": 26,
     "metadata": {},
     "output_type": "execute_result"
    }
   ],
   "source": [
    "f()"
   ]
  },
  {
   "cell_type": "markdown",
   "id": "0ad22366",
   "metadata": {},
   "source": [
    "在这个例子中，我们在函数lazy_sum中又定义了函数sum，并且，内部函数sum可以引用外部函数lazy_sum的参数和局部变量，\n",
    "\n",
    "当lazy_sum返回函数sum时，相关参数和变量都保存在返回的函数中，这种称为 “闭包（Closure）” 的程序结构拥有极大的威力。\n",
    "\n",
    "返回的函数中的参数，是可能被改变的。会根据调用时当前的参数执行。\n",
    "\n",
    "如下例子："
   ]
  },
  {
   "cell_type": "code",
   "execution_count": 27,
   "id": "fd419f3f",
   "metadata": {},
   "outputs": [],
   "source": [
    "def count():\n",
    "    fs = []\n",
    "    for i in range(1, 4):\n",
    "        def f():\n",
    "             return i*i\n",
    "        fs.append(f)\n",
    "    return fs\n",
    "\n",
    "f1, f2, f3 = count()"
   ]
  },
  {
   "cell_type": "markdown",
   "id": "c6ab7272",
   "metadata": {},
   "source": [
    "fs 中保存的3 个函数都是使用的参数 i, 但是并没有执行。\n",
    "\n",
    "当执行时, i = 3, fs 中的三个函数都是使用 i = 3 进行计算。\n",
    "\n",
    "因此 **返回闭包时牢记一点：返回函数不要引用任何循环变量，或者后续会发生变化的变量。**"
   ]
  },
  {
   "cell_type": "markdown",
   "id": "139e71b5",
   "metadata": {},
   "source": [
    "如果一定要引用循环变量怎么办？方法是再创建一个函数，用该函数的参数绑定循环变量当前的值，无论该循环变量后续如何更改，已绑定到函数参数的值不变：\n",
    "```python\n",
    "def count():\n",
    "    def f(j):\n",
    "        def g():\n",
    "            return j*j\n",
    "        return g\n",
    "    fs = []\n",
    "    for i in range(1, 4):\n",
    "        fs.append(f(i)) # f(i)立刻被执行，因此i的当前值被传入f()\n",
    "    return fs\n",
    "```\n",
    "缺点是代码比较长"
   ]
  },
  {
   "cell_type": "markdown",
   "id": "6ac1f589",
   "metadata": {},
   "source": [
    "### nonlocal"
   ]
  },
  {
   "cell_type": "markdown",
   "id": "6b376933",
   "metadata": {},
   "source": [
    "使用闭包，就是内层函数引用了外层函数的局部变量。如果只是读外层变量的值，我们会发现返回的闭包函数调用一切正常：\n",
    "\n",
    "如果对这个外层变量赋值，Python 会将其当成局部变量而报错。加上 nonlocl 对变量进行声明后就进行了初始化，正常的进行各种计算。\n"
   ]
  },
  {
   "cell_type": "code",
   "execution_count": 28,
   "id": "1432f77b",
   "metadata": {},
   "outputs": [
    {
     "ename": "UnboundLocalError",
     "evalue": "cannot access local variable 'x' where it is not associated with a value",
     "output_type": "error",
     "traceback": [
      "\u001b[1;31m---------------------------------------------------------------------------\u001b[0m",
      "\u001b[1;31mUnboundLocalError\u001b[0m                         Traceback (most recent call last)",
      "Cell \u001b[1;32mIn[28], line 10\u001b[0m\n\u001b[0;32m      7\u001b[0m     \u001b[38;5;28;01mreturn\u001b[39;00m fn\n\u001b[0;32m      9\u001b[0m f \u001b[38;5;241m=\u001b[39m inc()\n\u001b[1;32m---> 10\u001b[0m \u001b[38;5;28mprint\u001b[39m(\u001b[43mf\u001b[49m\u001b[43m(\u001b[49m\u001b[43m)\u001b[49m) \u001b[38;5;66;03m# 1\u001b[39;00m\n\u001b[0;32m     11\u001b[0m \u001b[38;5;28mprint\u001b[39m(f()) \u001b[38;5;66;03m# 2\u001b[39;00m\n",
      "Cell \u001b[1;32mIn[28], line 5\u001b[0m, in \u001b[0;36minc.<locals>.fn\u001b[1;34m()\u001b[0m\n\u001b[0;32m      3\u001b[0m \u001b[38;5;28;01mdef\u001b[39;00m\u001b[38;5;250m \u001b[39m\u001b[38;5;21mfn\u001b[39m():\n\u001b[0;32m      4\u001b[0m     \u001b[38;5;66;03m# nonlocal x\u001b[39;00m\n\u001b[1;32m----> 5\u001b[0m     x \u001b[38;5;241m=\u001b[39m \u001b[43mx\u001b[49m \u001b[38;5;241m+\u001b[39m \u001b[38;5;241m1\u001b[39m\n\u001b[0;32m      6\u001b[0m     \u001b[38;5;28;01mreturn\u001b[39;00m x\n",
      "\u001b[1;31mUnboundLocalError\u001b[0m: cannot access local variable 'x' where it is not associated with a value"
     ]
    }
   ],
   "source": [
    "def inc():\n",
    "    x = 0\n",
    "    def fn():\n",
    "        # nonlocal x\n",
    "        x = x + 1\n",
    "        return x\n",
    "    return fn\n",
    "\n",
    "f = inc()\n",
    "print(f()) # 1\n",
    "print(f()) # 2"
   ]
  },
  {
   "cell_type": "code",
   "execution_count": 29,
   "id": "cb5ea3a8",
   "metadata": {},
   "outputs": [
    {
     "name": "stdout",
     "output_type": "stream",
     "text": [
      "1\n",
      "2\n"
     ]
    }
   ],
   "source": [
    "def inc():\n",
    "    x = 0\n",
    "    def fn():\n",
    "        nonlocal x\n",
    "        x = x + 1\n",
    "        return x\n",
    "    return fn\n",
    "\n",
    "f = inc()\n",
    "print(f()) # 1\n",
    "print(f()) # 2"
   ]
  },
  {
   "cell_type": "markdown",
   "id": "34438445",
   "metadata": {},
   "source": [
    "#### Practise"
   ]
  },
  {
   "cell_type": "code",
   "execution_count": 31,
   "id": "e26f3e46",
   "metadata": {},
   "outputs": [
    {
     "name": "stdout",
     "output_type": "stream",
     "text": [
      "1 2 3 4 5\n",
      "测试通过!\n"
     ]
    }
   ],
   "source": [
    "def createCounter():\n",
    "    x = 1\n",
    "    def counter():\n",
    "        nonlocal x\n",
    "        cur = x\n",
    "        x += 1\n",
    "        return cur\n",
    "    return counter\n",
    "\n",
    "# 测试:\n",
    "counterA = createCounter()\n",
    "print(counterA(), counterA(), counterA(), counterA(), counterA()) # 1 2 3 4 5\n",
    "counterB = createCounter()\n",
    "if [counterB(), counterB(), counterB(), counterB()] == [1, 2, 3, 4]:\n",
    "    print('测试通过!')\n",
    "else:\n",
    "    print('测试失败!')\n"
   ]
  },
  {
   "cell_type": "markdown",
   "id": "893d1aee",
   "metadata": {},
   "source": [
    "## 8.3 匿名函数\n",
    "\n",
    "即 lambda 表达式\n",
    "\n",
    "用匿名函数有个好处，因为函数没有名字，不必担心函数名冲突。此外，匿名函数也是一个函数对象，也可以把匿名函数赋值给一个变量，再利用变量来调用该函数："
   ]
  },
  {
   "cell_type": "code",
   "execution_count": 32,
   "id": "6f2fcc43",
   "metadata": {},
   "outputs": [
    {
     "data": {
      "text/plain": [
       "<function __main__.<lambda>(x)>"
      ]
     },
     "execution_count": 32,
     "metadata": {},
     "output_type": "execute_result"
    }
   ],
   "source": [
    "f = lambda x: x * x\n",
    "f"
   ]
  },
  {
   "cell_type": "code",
   "execution_count": 33,
   "id": "4d005470",
   "metadata": {},
   "outputs": [
    {
     "data": {
      "text/plain": [
       "25"
      ]
     },
     "execution_count": 33,
     "metadata": {},
     "output_type": "execute_result"
    }
   ],
   "source": [
    "f(5)"
   ]
  },
  {
   "cell_type": "markdown",
   "id": "0b1e1f85",
   "metadata": {},
   "source": [
    "同样，也可以把匿名函数作为返回值返回，比如：\n",
    "```python\n",
    "def build(x, y):\n",
    "    return lambda: x * x + y * y\n",
    "```"
   ]
  },
  {
   "cell_type": "markdown",
   "id": "1d555982",
   "metadata": {},
   "source": [
    "### Practise\n",
    "请用匿名函数改造下面的代码："
   ]
  },
  {
   "cell_type": "code",
   "execution_count": 35,
   "id": "64dec7e2",
   "metadata": {},
   "outputs": [
    {
     "name": "stdout",
     "output_type": "stream",
     "text": [
      "[1, 3, 5, 7, 9, 11, 13, 15, 17, 19]\n"
     ]
    }
   ],
   "source": [
    "def is_odd(n):\n",
    "    return n % 2 == 1\n",
    "\n",
    "L = list(filter(is_odd, range(1, 20)))\n",
    "\n",
    "print(L)\n"
   ]
  },
  {
   "cell_type": "code",
   "execution_count": 34,
   "id": "95a9ae2f",
   "metadata": {},
   "outputs": [
    {
     "name": "stdout",
     "output_type": "stream",
     "text": [
      "[1, 3, 5, 7, 9, 11, 13, 15, 17, 19]\n"
     ]
    }
   ],
   "source": [
    "def is_odd(n):\n",
    "    return n % 2 == 1\n",
    "\n",
    "L = list(filter(lambda x: x%2==1, range(1, 20)))\n",
    "\n",
    "print(L)\n"
   ]
  },
  {
   "cell_type": "markdown",
   "id": "135ad2cf",
   "metadata": {},
   "source": [
    "## 8.4 装饰器\n",
    "现在，假设我们要增强一个函数的功能，比如，在函数调用前后自动打印日志，但又不希望修改now()函数的定义，\n",
    "\n",
    "这种在代码运行期间动态增加功能的方式，称之为“装饰器”（Decorator）。\n",
    "\n",
    "本质上，decorator就是一个返回函数的高阶函数。\n",
    "\n",
    "所以，我们要定义一个能打印日志的decorator，可以定义如下："
   ]
  },
  {
   "cell_type": "code",
   "execution_count": 36,
   "id": "c63f26e8",
   "metadata": {},
   "outputs": [],
   "source": [
    "def log(func):\n",
    "    def wrapper(*args, **kw):\n",
    "        print('call %s():' % func.__name__)\n",
    "        return func(*args, **kw)\n",
    "    return wrapper"
   ]
  },
  {
   "cell_type": "markdown",
   "id": "70f8eb9f",
   "metadata": {},
   "source": [
    "上面的 log 是一个 decarator, 接收一个函数作为参数并返回一个函数。\n",
    "\n",
    "我们可以借助 Python 的 @ 语法，把 decorator置于函数的定义处:"
   ]
  },
  {
   "cell_type": "code",
   "execution_count": 38,
   "id": "7fa6c189",
   "metadata": {},
   "outputs": [
    {
     "name": "stdout",
     "output_type": "stream",
     "text": [
      "call now():\n",
      "2024-6-1\n"
     ]
    }
   ],
   "source": [
    "@log\n",
    "def now():\n",
    "    print('2024-6-1')\n",
    "\n",
    "now()"
   ]
  },
  {
   "cell_type": "markdown",
   "id": "649fcc42",
   "metadata": {},
   "source": [
    "```python\n",
    "@log\n",
    "def now():\n",
    "    print('2024-6-1')\n",
    "```\n",
    "相当于执行了\n",
    "```python\n",
    "now = log(now)\n",
    "```"
   ]
  },
  {
   "cell_type": "markdown",
   "id": "60b487f3",
   "metadata": {},
   "source": [
    "如果decorator本身需要传入参数，那就需要编写一个返回decorator的高阶函数，写出来会更复杂。比如，要自定义log的文本："
   ]
  },
  {
   "cell_type": "code",
   "execution_count": 40,
   "id": "49db0398",
   "metadata": {},
   "outputs": [
    {
     "name": "stdout",
     "output_type": "stream",
     "text": [
      "execute now():\n",
      "2024-6-1\n"
     ]
    }
   ],
   "source": [
    "def log(text):\n",
    "    def decorator(func):\n",
    "        def wrapper(*args, **kw):\n",
    "            print('%s %s():' % (text, func.__name__))\n",
    "            return func(*args, **kw)\n",
    "        return wrapper\n",
    "    return decorator\n",
    "\n",
    "@log('execute')\n",
    "def now():\n",
    "    print('2024-6-1')\n",
    "\n",
    "now()"
   ]
  },
  {
   "cell_type": "markdown",
   "id": "0ac71489",
   "metadata": {},
   "source": [
    "上面的代码相当于执行了\n",
    "```python\n",
    "now = log('execute')(now)\n",
    "```"
   ]
  },
  {
   "cell_type": "markdown",
   "id": "f0d7204b",
   "metadata": {},
   "source": [
    "python 中函数可以调用 ```__name__``` 获取, 函数名称。但是调用装饰器后不需要编写 ```wrapper.__name__ = func.__name__```,\n",
    "因为 Python 内置的 ```functools.wraps```就是干这个事的。所以一个完整的 decorator 写法如下:"
   ]
  },
  {
   "cell_type": "code",
   "execution_count": 6,
   "id": "c2d3185a",
   "metadata": {},
   "outputs": [
    {
     "data": {
      "text/plain": [
       "'now'"
      ]
     },
     "execution_count": 6,
     "metadata": {},
     "output_type": "execute_result"
    }
   ],
   "source": [
    "import functools\n",
    "\n",
    "def log(func):\n",
    "    @functools.wraps(func)\n",
    "    def wrapper(*args, **kw):\n",
    "        print('call %s():' % func.__name__)\n",
    "        return func(*args, **kw)\n",
    "    return wrapper\n",
    "\n",
    "@log\n",
    "def now():\n",
    "    print('2024-6-1')\n",
    "\n",
    "now.__name__"
   ]
  },
  {
   "cell_type": "markdown",
   "id": "c739bdb1",
   "metadata": {},
   "source": [
    "作为对比"
   ]
  },
  {
   "cell_type": "code",
   "execution_count": 7,
   "id": "2261db84",
   "metadata": {},
   "outputs": [
    {
     "data": {
      "text/plain": [
       "'wrapper'"
      ]
     },
     "execution_count": 7,
     "metadata": {},
     "output_type": "execute_result"
    }
   ],
   "source": [
    "import functools\n",
    "\n",
    "def log(func):\n",
    "    # @functools.wraps(func)\n",
    "    def wrapper(*args, **kw):\n",
    "        print('call %s():' % func.__name__)\n",
    "        return func(*args, **kw)\n",
    "    return wrapper\n",
    "\n",
    "@log\n",
    "def now():\n",
    "    print('2024-6-1')\n",
    "\n",
    "now.__name__"
   ]
  },
  {
   "cell_type": "markdown",
   "id": "8cb98823",
   "metadata": {},
   "source": [
    "### practise\n",
    "请设计一个decorator，它可作用于任何函数上，并打印该函数的执行时间："
   ]
  },
  {
   "cell_type": "code",
   "execution_count": 15,
   "id": "27429ef2",
   "metadata": {},
   "outputs": [
    {
     "name": "stdout",
     "output_type": "stream",
     "text": [
      "fast executed in 10.24 ms\n",
      "fast finish!\n",
      "slow executed in 10.24 ms\n",
      "slow finish!\n"
     ]
    }
   ],
   "source": [
    "import time, functools\n",
    "\n",
    "def metric(fn):\n",
    "    @functools.wraps(fn)\n",
    "    def wrapper(*args, **kw):\n",
    "        print('%s executed in %s ms' % (fn.__name__, 10.24))\n",
    "        value = fn(*args, **kw)\n",
    "        print(f'{fn.__name__} finish!')\n",
    "        return value\n",
    "    return wrapper\n",
    "\n",
    "# 测试\n",
    "@metric\n",
    "def fast(x, y):\n",
    "    time.sleep(0.0012)\n",
    "    return x + y\n",
    "\n",
    "@metric\n",
    "def slow(x, y, z):\n",
    "    time.sleep(0.1234)\n",
    "    return x * y * z\n",
    "\n",
    "f = fast(11, 22)\n",
    "s = slow(11, 22, 33)\n",
    "if f != 33:\n",
    "    print('测试失败!')\n",
    "elif s != 7986:\n",
    "    print('测试失败!')\n"
   ]
  },
  {
   "cell_type": "code",
   "execution_count": 14,
   "id": "8f527ed9",
   "metadata": {},
   "outputs": [
    {
     "name": "stdout",
     "output_type": "stream",
     "text": [
      "fast executed in 10.24 ms\n",
      "fast finish!\n"
     ]
    }
   ],
   "source": [
    "fast(11, 22)"
   ]
  },
  {
   "cell_type": "markdown",
   "id": "1be75cbc",
   "metadata": {},
   "source": [
    "同时支持含参数和不含参数两种情况"
   ]
  },
  {
   "cell_type": "code",
   "execution_count": 18,
   "id": "8d54fce4",
   "metadata": {},
   "outputs": [
    {
     "name": "stdout",
     "output_type": "stream",
     "text": [
      "execute now():\n",
      "2024-6-1\n"
     ]
    }
   ],
   "source": [
    "def log(text = \"\"):\n",
    "    def decorator(func):\n",
    "        def wrapper(*args, **kw):\n",
    "            print('%s %s():' % (text, func.__name__))\n",
    "            return func(*args, **kw)\n",
    "        return wrapper\n",
    "    return decorator\n",
    "\n",
    "@log('execute')\n",
    "def now():\n",
    "    print('2024-6-1')\n",
    "\n",
    "now()"
   ]
  },
  {
   "cell_type": "code",
   "execution_count": 19,
   "id": "84944e8f",
   "metadata": {},
   "outputs": [
    {
     "name": "stdout",
     "output_type": "stream",
     "text": [
      " now():\n",
      "2024-6-1\n"
     ]
    }
   ],
   "source": [
    "@log()\n",
    "def now():\n",
    "    print('2024-6-1')\n",
    "\n",
    "now()"
   ]
  },
  {
   "cell_type": "markdown",
   "id": "fd7d4f9f",
   "metadata": {},
   "source": [
    "## 8.5 偏函数\n",
    "\n",
    "Partial function 可以帮助我们固定函数的部分参数，生成一个新的函数。以此来帮助我们进行简化。\n",
    "\n",
    "例如 int() 函数可以帮助我们把 str 转换为 int 类型。同时还有一个参数， base = 10。\n",
    "\n",
    "我们可以通过设置 base 来确定转换的进制。\n",
    "\n",
    "例如："
   ]
  },
  {
   "cell_type": "code",
   "execution_count": 21,
   "id": "34e2044e",
   "metadata": {},
   "outputs": [
    {
     "name": "stdout",
     "output_type": "stream",
     "text": [
      "base = 8, result = 42798\n",
      "base = 10, result = 123456\n",
      "base = 2, result = 42\n"
     ]
    }
   ],
   "source": [
    "s = '123456'\n",
    "\n",
    "print(f'base = 8, result = {int(s, base=8)}')\n",
    "print(f'base = 10, result = {int(s)}')\n",
    "print(f'base = 2, result = {int('101010', base=2)}')"
   ]
  },
  {
   "cell_type": "markdown",
   "id": "8c012695",
   "metadata": {},
   "source": [
    "如果我们需要大量的使用二进制转换， 则每次都需要输入 base=2,\n",
    "\n",
    "这时我们可以通过偏函数，固定base参数：\n",
    "```python\n",
    "def int2(x, base=2):\n",
    "    return int(x, base)\n",
    "```"
   ]
  },
  {
   "cell_type": "markdown",
   "id": "9823218e",
   "metadata": {},
   "source": [
    "functools.partial就是帮助我们创建一个偏函数的，不需要我们自己定义int2()，可以直接使用下面的代码创建一个新的函数int2："
   ]
  },
  {
   "cell_type": "code",
   "execution_count": 22,
   "id": "285d59b2",
   "metadata": {},
   "outputs": [],
   "source": [
    "import functools\n",
    "int2 = functools.partial(int, base=2)"
   ]
  },
  {
   "cell_type": "markdown",
   "id": "09802bd7",
   "metadata": {},
   "source": [
    "最后，创建偏函数时，实际上可以接收函数对象、*args和**kw这3个参数\n",
    "\n",
    "上面的例子相当于 \n",
    "```python\n",
    "kw = {'base': 2}\n",
    "int(s, **kw)\n",
    "```\n",
    "当传入：\n",
    "```python\n",
    "max2 = functools.partial(max, 10)\n",
    "\n",
    "```"
   ]
  }
 ],
 "metadata": {
  "kernelspec": {
   "display_name": "base",
   "language": "python",
   "name": "python3"
  },
  "language_info": {
   "codemirror_mode": {
    "name": "ipython",
    "version": 3
   },
   "file_extension": ".py",
   "mimetype": "text/x-python",
   "name": "python",
   "nbconvert_exporter": "python",
   "pygments_lexer": "ipython3",
   "version": "3.12.3"
  }
 },
 "nbformat": 4,
 "nbformat_minor": 5
}
