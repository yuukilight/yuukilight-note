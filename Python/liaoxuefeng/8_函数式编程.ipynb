{
 "cells": [
  {
   "cell_type": "markdown",
   "id": "5f0cf713",
   "metadata": {},
   "source": [
    "## 8.1 高阶函数\n",
    "\n",
    "一个函数就可以接收另一个函数作为参数，这种函数就称之为高阶函数。\n",
    "\n",
    "如下例子就是一个高阶函数：\n",
    "```python\n",
    "def add(x, y, f):\n",
    "    return f(x) + f(y)\n",
    "```"
   ]
  },
  {
   "cell_type": "markdown",
   "id": "158bff5b",
   "metadata": {},
   "source": [
    "## 8.2 map/reduce\n",
    "\n",
    "map()函数接收两个参数，一个是函数，一个是Iterable，map将传入的函数依次作用到序列的每个元素，并把结果作为新的Iterator返回。\n",
    "\n",
    "例如："
   ]
  },
  {
   "cell_type": "code",
   "execution_count": 1,
   "id": "eba6e0e5",
   "metadata": {},
   "outputs": [
    {
     "data": {
      "text/plain": [
       "[1, 4, 9, 16, 25, 36, 49, 64, 81]"
      ]
     },
     "execution_count": 1,
     "metadata": {},
     "output_type": "execute_result"
    }
   ],
   "source": [
    "def f(x):\n",
    "    return x * x\n",
    "\n",
    "r = map(f, [1, 2, 3, 4 ,5, 6, 7, 8, 9])\n",
    "\n",
    "list(r)"
   ]
  },
  {
   "cell_type": "markdown",
   "id": "8d4c65b5",
   "metadata": {},
   "source": [
    "reduce把一个函数作用在一个序列[x1, x2, x3, ...]上，这个函数必须接收两个参数，reduce把结果继续和序列的下一个元素做累积计算，其效果就是:\n",
    "```python\n",
    "reduce(f, [x1, x2, x3, x4]) = f(f(f(x1, x2), x3), x4)\n",
    "```\n",
    "\n",
    "以序列求和举例："
   ]
  },
  {
   "cell_type": "code",
   "execution_count": 2,
   "id": "dabf2ba0",
   "metadata": {},
   "outputs": [
    {
     "data": {
      "text/plain": [
       "25"
      ]
     },
     "execution_count": 2,
     "metadata": {},
     "output_type": "execute_result"
    }
   ],
   "source": [
    "from functools import reduce\n",
    "\n",
    "def add(x, y):\n",
    "    return x + y\n",
    "\n",
    "reduce(add, [1, 3, 5, 7, 9])"
   ]
  },
  {
   "cell_type": "markdown",
   "id": "365e2998",
   "metadata": {},
   "source": [
    "一个更实用的例子是将 [1, 3, 5, 7, 9] 转换为 13579\n",
    "\n",
    "配合 map 函数可以快速的实现一个 str2num 的函数"
   ]
  },
  {
   "cell_type": "code",
   "execution_count": 3,
   "id": "7e3d9d1f",
   "metadata": {},
   "outputs": [],
   "source": [
    "from functools import reduce\n",
    "\n",
    "DIGITS = {'0': 0, '1': 1, '2': 2, '3': 3, '4': 4, '5': 5, '6': 6, '7': 7, '8': 8, '9': 9}\n",
    "\n",
    "def str2int(s):\n",
    "    def fn(x, y):\n",
    "        return x * 10 + y\n",
    "    def char2num(s):\n",
    "        return DIGITS[s]\n",
    "    return reduce(fn, map(char2num, s))"
   ]
  },
  {
   "cell_type": "markdown",
   "id": "36a3f418",
   "metadata": {},
   "source": [
    "lambda 函数版本"
   ]
  },
  {
   "cell_type": "code",
   "execution_count": null,
   "id": "68ff4cbb",
   "metadata": {},
   "outputs": [],
   "source": [
    "from functools import reduce\n",
    "\n",
    "DIGITS = {'0': 0, '1': 1, '2': 2, '3': 3, '4': 4, '5': 5, '6': 6, '7': 7, '8': 8, '9': 9}\n",
    "\n",
    "def char2num(s):\n",
    "    return DIGITS[s]\n",
    "\n",
    "def str2int(s):\n",
    "    return reduce(lambda x, y: x * 10 + y, map(char2num, s))"
   ]
  }
 ],
 "metadata": {
  "kernelspec": {
   "display_name": "base",
   "language": "python",
   "name": "python3"
  },
  "language_info": {
   "codemirror_mode": {
    "name": "ipython",
    "version": 3
   },
   "file_extension": ".py",
   "mimetype": "text/x-python",
   "name": "python",
   "nbconvert_exporter": "python",
   "pygments_lexer": "ipython3",
   "version": "3.12.3"
  }
 },
 "nbformat": 4,
 "nbformat_minor": 5
}
