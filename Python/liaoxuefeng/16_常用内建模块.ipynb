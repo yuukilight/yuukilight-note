{
 "cells": [
  {
   "cell_type": "markdown",
   "id": "c116973b",
   "metadata": {},
   "source": [
    "## datetime\n",
    "\n",
    "UTC\n",
    "\n",
    "timestamp\n",
    "\n",
    "timestamp 1970年1月1日 00:00:00 UTC+00:00 epoch time\n",
    "\n",
    "### 小结\n",
    "datetime表示的时间需要时区信息才能确定一个特定的时间，否则只能视为本地时间。\n",
    "\n",
    "如果要存储datetime，最佳方法是将其转换为timestamp再存储，因为timestamp的值与时区完全无关。\n",
    "\n",
    "### practise\n",
    "假设你获取了用户输入的日期和时间如2015-1-21 9:01:30，以及一个时区信息如UTC+5:00，均是str，请编写一个函数将其转换为timestamp："
   ]
  },
  {
   "cell_type": "code",
   "execution_count": null,
   "id": "6a949f6a",
   "metadata": {},
   "outputs": [
    {
     "name": "stdout",
     "output_type": "stream",
     "text": [
      "ok\n"
     ]
    }
   ],
   "source": [
    "# -*- coding:utf-8 -*-\n",
    "\n",
    "import re\n",
    "from datetime import datetime, timezone, timedelta\n",
    "\n",
    "\n",
    "def parse_utc_offset(offset_str: str) -> timezone:\n",
    "    \"\"\"将 'UTC+7:00' 或 'UTC-08:30' 转换为 datetime.timezone 对象\"\"\"\n",
    "    match = re.fullmatch(r\"UTC([+-])(\\d{1,2}):(\\d{2})\", offset_str)\n",
    "    if not match:\n",
    "        raise ValueError(f\"Invalid offset format: {offset_str}\")\n",
    "    \n",
    "    sign, hours, minutes = match.groups()\n",
    "    delta = timedelta(hours=int(hours), minutes=int(minutes))\n",
    "    if sign == '-':\n",
    "        delta = -delta\n",
    "    return timezone(delta)\n",
    "\n",
    "def to_timestamp(dt_str, tz_str):\n",
    "    dt = datetime.strptime(dt_str, '%Y-%m-%d %H:%M:%S')\n",
    "    dt = dt.replace(tzinfo=parse_utc_offset(tz_str))\n",
    "    return dt.timestamp()\n",
    "\n",
    "# 测试:\n",
    "t1 = to_timestamp('2015-6-1 08:10:30', 'UTC+7:00')\n",
    "assert t1 == 1433121030.0, t1\n",
    "\n",
    "t2 = to_timestamp('2015-5-31 16:10:30', 'UTC-09:00')\n",
    "assert t2 == 1433121030.0, t2\n",
    "\n",
    "print('ok')"
   ]
  },
  {
   "cell_type": "code",
   "execution_count": null,
   "id": "d3d7808c",
   "metadata": {},
   "outputs": [],
   "source": []
  }
 ],
 "metadata": {
  "kernelspec": {
   "display_name": "base",
   "language": "python",
   "name": "python3"
  },
  "language_info": {
   "codemirror_mode": {
    "name": "ipython",
    "version": 3
   },
   "file_extension": ".py",
   "mimetype": "text/x-python",
   "name": "python",
   "nbconvert_exporter": "python",
   "pygments_lexer": "ipython3",
   "version": "3.12.3"
  }
 },
 "nbformat": 4,
 "nbformat_minor": 5
}
