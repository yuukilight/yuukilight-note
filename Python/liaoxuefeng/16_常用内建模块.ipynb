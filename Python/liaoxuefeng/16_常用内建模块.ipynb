{
 "cells": [
  {
   "cell_type": "markdown",
   "id": "c116973b",
   "metadata": {},
   "source": [
    "## datetime\n",
    "\n",
    "UTC\n",
    "\n",
    "timestamp\n",
    "\n",
    "timestamp 1970年1月1日 00:00:00 UTC+00:00 epoch time\n",
    "\n",
    "replace() 与 astimezone\n",
    "\n",
    "### 小结\n",
    "datetime表示的时间需要时区信息才能确定一个特定的时间，否则只能视为本地时间。\n",
    "\n",
    "如果要存储datetime，最佳方法是将其转换为timestamp再存储，因为timestamp的值与时区完全无关。\n",
    "\n",
    "### practise\n",
    "假设你获取了用户输入的日期和时间如2015-1-21 9:01:30，以及一个时区信息如UTC+5:00，均是str，请编写一个函数将其转换为timestamp："
   ]
  },
  {
   "cell_type": "code",
   "execution_count": null,
   "id": "6a949f6a",
   "metadata": {},
   "outputs": [
    {
     "name": "stdout",
     "output_type": "stream",
     "text": [
      "ok\n"
     ]
    }
   ],
   "source": [
    "# -*- coding:utf-8 -*-\n",
    "\n",
    "import re\n",
    "from datetime import datetime, timezone, timedelta\n",
    "\n",
    "\n",
    "def parse_utc_offset(offset_str: str) -> timezone:\n",
    "    \"\"\"将 'UTC+7:00' 或 'UTC-08:30' 转换为 datetime.timezone 对象\"\"\"\n",
    "    match = re.fullmatch(r\"UTC([+-])(\\d{1,2}):(\\d{2})\", offset_str)\n",
    "    if not match:\n",
    "        raise ValueError(f\"Invalid offset format: {offset_str}\")\n",
    "    \n",
    "    sign, hours, minutes = match.groups()\n",
    "    delta = timedelta(hours=int(hours), minutes=int(minutes))\n",
    "    if sign == '-':\n",
    "        delta = -delta\n",
    "    return timezone(delta)\n",
    "\n",
    "def to_timestamp(dt_str, tz_str):\n",
    "    dt = datetime.strptime(dt_str, '%Y-%m-%d %H:%M:%S')\n",
    "    dt = dt.replace(tzinfo=parse_utc_offset(tz_str))\n",
    "    return dt.timestamp()\n",
    "\n",
    "# 测试:\n",
    "t1 = to_timestamp('2015-6-1 08:10:30', 'UTC+7:00')\n",
    "assert t1 == 1433121030.0, t1\n",
    "\n",
    "t2 = to_timestamp('2015-5-31 16:10:30', 'UTC-09:00')\n",
    "assert t2 == 1433121030.0, t2\n",
    "\n",
    "print('ok')"
   ]
  },
  {
   "cell_type": "markdown",
   "id": "d3d7808c",
   "metadata": {},
   "source": [
    "## collections\n",
    "\n",
    "- tuple 与 nametuple\n",
    "```python\n",
    "from collections import nametuple\n",
    "\n",
    "Point = nametuple('Point', ['x', 'y'])\n",
    "p = Point(1, 2)\n",
    "```\n",
    "- deque\n",
    "- defaultdict\n",
    "- OrderedDict (插入顺序)\n",
    "- ChainMap\n",
    "```python\n",
    "combined = ChainMap(command_line_args, os.environ, defaults)\n",
    "```\n",
    "- Counter\n",
    "### 小结\n",
    "```collections```模块提供了一些有用的集合类，可以根据需要选用。"
   ]
  },
  {
   "cell_type": "markdown",
   "id": "ec699c6d",
   "metadata": {},
   "source": [
    "## argparse\n",
    "\n",
    "- sys.argv 与 argparse"
   ]
  },
  {
   "cell_type": "code",
   "execution_count": null,
   "id": "b197dca6",
   "metadata": {},
   "outputs": [],
   "source": [
    "# backup.py\n",
    "\n",
    "import argparse\n",
    "\n",
    "def main():\n",
    "    # 定义一个ArgumentParser实例:\n",
    "    parser = argparse.ArgumentParser(\n",
    "        prog='backup', # 程序名\n",
    "        description='Backup MySQL database.', # 描述\n",
    "        epilog='Copyright(r), 2023' # 说明信息\n",
    "    )\n",
    "    # 定义位置参数:\n",
    "    parser.add_argument('outfile')\n",
    "    # 定义关键字参数:\n",
    "    parser.add_argument('--host', default='localhost')\n",
    "    # 此参数必须为int类型:\n",
    "    parser.add_argument('--port', default='3306', type=int)\n",
    "    # 允许用户输入简写的-u:\n",
    "    parser.add_argument('-u', '--user', required=True)\n",
    "    parser.add_argument('-p', '--password', required=True)\n",
    "    parser.add_argument('--database', required=True)\n",
    "    # gz参数不跟参数值，因此指定action='store_true'，意思是出现-gz表示True:\n",
    "    parser.add_argument('-gz', '--gzcompress', action='store_true', required=False, help='Compress backup files by gz.')\n",
    "\n",
    "\n",
    "    # 解析参数:\n",
    "    args = parser.parse_args()\n",
    "\n",
    "    # 打印参数:\n",
    "    print('parsed args:')\n",
    "    print(f'outfile = {args.outfile}')\n",
    "    print(f'host = {args.host}')\n",
    "    print(f'port = {args.port}')\n",
    "    print(f'user = {args.user}')\n",
    "    print(f'password = {args.password}')\n",
    "    print(f'database = {args.database}')\n",
    "    print(f'gzcompress = {args.gzcompress}')\n",
    "\n",
    "if __name__ == '__main__':\n",
    "    main()"
   ]
  },
  {
   "cell_type": "markdown",
   "id": "372e3bff",
   "metadata": {},
   "source": [
    "## Base64\n",
    "- $2^6 = 64$\n",
    "- 二进制 3 字节 -> 4 个编码后的字符\n",
    "- 结尾补 ```\\x00```, 并加上等号```=```，等号数目表示补了多少字节\n",
    "- ```base64.b64encode()``` 与 ```base64.b64decode()```\n",
    "- ```base64.urlsafe_b64encode()``` 与 ```base64.urlsafe_b64decode()```\n",
    "- Base64 编码长度永远是 4 的倍数\n",
    "\n",
    "### 小结\n",
    "Base64是一种任意二进制到文本字符串的编码方法，常用于在URL、Cookie、网页中传输少量二进制数据。\n",
    "\n",
    "### practise\n",
    "\n",
    "请写一个能处理去掉=的base64解码函数："
   ]
  },
  {
   "cell_type": "code",
   "execution_count": 6,
   "id": "f07eb70a",
   "metadata": {},
   "outputs": [
    {
     "name": "stdout",
     "output_type": "stream",
     "text": [
      "ok\n"
     ]
    }
   ],
   "source": [
    "import base64\n",
    "\n",
    "def safe_base64_decode(s):\n",
    "    s_len = len(s)\n",
    "    if (s_len % 4):\n",
    "        s = s + '=' * ((s_len % 4))\n",
    "    return base64.b64decode(s)\n",
    "\n",
    "# 测试:\n",
    "assert b'abcd' == safe_base64_decode('YWJjZA=='), safe_base64_decode('YWJjZA==')\n",
    "assert b'abcd' == safe_base64_decode('YWJjZA'), safe_base64_decode('YWJjZA')\n",
    "print('ok')"
   ]
  },
  {
   "cell_type": "markdown",
   "id": "bfcc54e9",
   "metadata": {},
   "source": [
    "## struct\n",
    "python 中用来处理字节数据类型的工具库\n",
    "\n",
    "计算机中内存连续分布，内存地址逐渐增加。\n",
    "\n",
    "big-endian: 数据的高位先存，也就是高位存在内存的低位（开端）。\n",
    "little-endian: 数据的低位，也就是低位存在内存的低位（开端）。\n",
    "\n",
    "## hashlib\n",
    "Python的hashlib提供了常见的哈希算法，如MD5，SHA1等等。\n",
    "\n",
    "什么是哈希算法呢？哈希算法又称摘要算法、散列算法。它通过一个函数，把任意长度的数据转换为一个长度固定的数据串（通常用16进制的字符串表示）。\n",
    "\n",
    "单向， 一个改动最终的结果就不同\n",
    "\n",
    "- MD5\n",
    "- SHA1\n",
    "- SHA256\n",
    "- SHA512\n",
    "\n",
    "- 密码\n",
    "- 安全\n",
    "- 非加密\n",
    "- 加盐\n",
    "\n",
    "\n",
    "### 小结\n",
    "哈希算法在很多地方都有广泛的应用。要注意哈希算法不是加密算法，不能用于加密（因为无法通过哈希反推明文），只能用于防篡改，但是它的单向计算特性决定了可以在不存储明文口令的情况下验证用户口令。"
   ]
  },
  {
   "cell_type": "markdown",
   "id": "b84a6de0",
   "metadata": {},
   "source": [
    "## hmac\n",
    "\n",
    "hashlib + 盐"
   ]
  },
  {
   "cell_type": "markdown",
   "id": "951ecc32",
   "metadata": {},
   "source": [
    "## itertools\n",
    "\n",
    "创捷无限迭代器\n",
    "\n",
    "- chain(): 将一组迭代器串联起来\n",
    "- groupby(): 将相邻的重复元素放在一起返回。（可以通过函数定义这个重复）"
   ]
  },
  {
   "cell_type": "markdown",
   "id": "645564b9",
   "metadata": {},
   "source": [
    "## contextlib\n",
    "\n",
    "上下文管理器，用来在指定的代码执行前后添加特定的功能。\n",
    "\n",
    "例如打印相关信息，打开和关闭文件，连接服务器和断开服务器等。\n",
    "\n",
    "- ```try...finally``` 和 ```with open```\n",
    "- ```__enter__``` 和 ```__exit__```\n",
    "- ```@contextmanager``` 与 ```yield```\n",
    "- ```@closing```"
   ]
  },
  {
   "cell_type": "markdown",
   "id": "6ac01879",
   "metadata": {},
   "source": [
    "## urllib\n",
    "\n",
    "urllib提供了一系列用于操作URL的功能。\n",
    "\n",
    "- get\n",
    "- post\n",
    "- Handler\n",
    "\n",
    "### 小结\n",
    "urllib提供的功能就是利用程序去执行各种HTTP请求。如果要模拟浏览器完成特定功能，需要把请求伪装成浏览器。伪装的方法是先监控浏览器发出的请求，再根据浏览器的请求头来伪装，User-Agent头就是用来标识浏览器的。\n",
    "\n",
    "## XML\n",
    "\n",
    "- DOM 与 SAX\n",
    "- \n",
    "### 小结\n",
    "解析XML时，注意找出自己感兴趣的节点，响应事件时，把节点数据保存起来。解析完毕后，就可以处理数据。"
   ]
  },
  {
   "cell_type": "markdown",
   "id": "14b0c526",
   "metadata": {},
   "source": [
    "## HTMLParser\n",
    "\n",
    "HTML本质上是XML的子集，但是HTML的语法没有XML那么严格，所以不能用标准的DOM或SAX来解析HTML。\n",
    "\n",
    "好在Python提供了HTMLParser来非常方便地解析HTML，只需简单几行代码：\n",
    "\n",
    "### 小结\n",
    "\n",
    "利用HTMLParser，可以把网页中的文本、图像等解析出来。"
   ]
  },
  {
   "cell_type": "markdown",
   "id": "a2baa2af",
   "metadata": {},
   "source": []
  }
 ],
 "metadata": {
  "kernelspec": {
   "display_name": "base",
   "language": "python",
   "name": "python3"
  },
  "language_info": {
   "codemirror_mode": {
    "name": "ipython",
    "version": 3
   },
   "file_extension": ".py",
   "mimetype": "text/x-python",
   "name": "python",
   "nbconvert_exporter": "python",
   "pygments_lexer": "ipython3",
   "version": "3.12.3"
  }
 },
 "nbformat": 4,
 "nbformat_minor": 5
}
