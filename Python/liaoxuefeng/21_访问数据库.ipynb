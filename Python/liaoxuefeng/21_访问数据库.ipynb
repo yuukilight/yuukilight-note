{
 "cells": [
  {
   "cell_type": "markdown",
   "id": "c35ee945",
   "metadata": {},
   "source": [
    "为什么需要数据库？\n",
    "\n",
    "数据最终都是存在硬盘中，需要读到内存中才能进行遍历找到需要的数据。\n",
    "\n",
    "为了方便程序保存和读取以及快速的通过条件查询到需要的数据就出现了数据库(Database)\n",
    "\n",
    "- Oracle\n",
    "- SQL Server\n",
    "- DB2\n",
    "- Sybase\n",
    "\n",
    "免费开源\n",
    "- MySQL\n",
    "- PostgreSQL\n",
    "- SQLite (嵌入式数据库，适合桌面和移动应用)\n",
    "\n",
    "表是数据库中存放关系数据的集合，一个数据库里面通常都包含多个表，比如学生的表，班级的表，学校的表，等等。表和表之间通过外键关联。"
   ]
  },
  {
   "cell_type": "markdown",
   "id": "7f4dffa0",
   "metadata": {},
   "source": [
    "## SQLite\n",
    "\n",
    "- db\n",
    "- connection\n",
    "- cursor\n",
    "  \n",
    "### practise\n",
    "请编写函数，在Sqlite中根据分数段查找指定的名字："
   ]
  },
  {
   "cell_type": "code",
   "execution_count": 5,
   "id": "4388f3cb",
   "metadata": {},
   "outputs": [
    {
     "name": "stdout",
     "output_type": "stream",
     "text": [
      "Pass\n"
     ]
    }
   ],
   "source": [
    "import os, sqlite3\n",
    "\n",
    "db_file = os.path.join(os.getcwd(), 'test.db')\n",
    "if os.path.isfile(db_file):\n",
    "    os.remove(db_file)\n",
    "\n",
    "# 初始数据:\n",
    "conn = sqlite3.connect(db_file)\n",
    "cursor = conn.cursor()\n",
    "cursor.execute('create table user(id varchar(20) primary key, name varchar(20), score int)')\n",
    "cursor.execute(r\"insert into user values ('A-001', 'Adam', 95)\")\n",
    "cursor.execute(r\"insert into user values ('A-002', 'Bart', 62)\")\n",
    "cursor.execute(r\"insert into user values ('A-003', 'Lisa', 78)\")\n",
    "conn.commit()\n",
    "cursor.close()\n",
    "conn.close()\n",
    "\n",
    "def get_score_in(low, high):\n",
    "    ' 返回指定分数区间的名字，按分数从低到高排序 '\n",
    "    try:\n",
    "        conn = sqlite3.connect(db_file)\n",
    "        cursor = conn.cursor()\n",
    "        cursor.execute('select name from user where score between ? and ? order by score', (low, high))\n",
    "        values = cursor.fetchall()\n",
    "    finally:\n",
    "        cursor.close()\n",
    "        conn.close()\n",
    "    return [name[0] for name in values]\n",
    "\n",
    "\n",
    "# 测试:\n",
    "assert get_score_in(80, 95) == ['Adam'], get_score_in(80, 95)\n",
    "assert get_score_in(60, 80) == ['Bart', 'Lisa'], get_score_in(60, 80)\n",
    "assert get_score_in(60, 100) == ['Bart', 'Lisa', 'Adam'], get_score_in(60, 100)\n",
    "\n",
    "print('Pass')\n"
   ]
  },
  {
   "cell_type": "markdown",
   "id": "ba26d310",
   "metadata": {},
   "source": [
    "## MySQL\n",
    "\n",
    "MySQL是Web世界中使用最广泛的数据库服务器。SQLite的特点是轻量级、可嵌入，但不能承受高并发访问，适合桌面和移动应用。而MySQL是为服务器端设计的数据库，能承受高并发访问，同时占用的内存也远远大于SQLite。\n",
    "\n",
    "此外，MySQL内部有多种数据库引擎，最常用的引擎是支持数据库事务的InnoDB。\n"
   ]
  },
  {
   "cell_type": "markdown",
   "id": "6551d9e0",
   "metadata": {},
   "source": [
    "## SQLalchemy\n",
    "\n",
    "python 中读取到的数据是 ```List[tuple]```，的形式。每个 tuple 表示一行数据，\n",
    "\n",
    "这样的数据显然结构很差。因此我们最好是能够将其映射到一些 key.\n",
    "\n",
    "这种技术就是 ORM: Object-Relational Mapping, 把关系数据库的表结构映射到对象上。\n",
    "\n",
    "SQLalchemy 就是一种 ORM 框架。\n",
    "\n",
    "### 小结\n",
    "ORM框架的作用就是把数据库表的一行记录与一个对象互相做自动转换。\n",
    "\n",
    "正确使用ORM的前提是了解关系数据库的原理。"
   ]
  }
 ],
 "metadata": {
  "kernelspec": {
   "display_name": "base",
   "language": "python",
   "name": "python3"
  },
  "language_info": {
   "codemirror_mode": {
    "name": "ipython",
    "version": 3
   },
   "file_extension": ".py",
   "mimetype": "text/x-python",
   "name": "python",
   "nbconvert_exporter": "python",
   "pygments_lexer": "ipython3",
   "version": "3.12.3"
  }
 },
 "nbformat": 4,
 "nbformat_minor": 5
}
