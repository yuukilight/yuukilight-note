{
 "cells": [
  {
   "cell_type": "markdown",
   "id": "6529c185",
   "metadata": {},
   "source": [
    "## 模块搜索路径\n",
    "\n",
    "当我们试图加载一个模块时，Python会在指定的路径下搜索对应的.py文件，如果找不到，就会报错：\n",
    "\n",
    "默认情况下，Python解释器会搜索当前目录、所有已安装的内置模块和第三方模块，搜索路径存放在```sys```模块的```path```变量中："
   ]
  },
  {
   "cell_type": "code",
   "execution_count": 1,
   "id": "7000a5dd",
   "metadata": {},
   "outputs": [
    {
     "data": {
      "text/plain": [
       "['d:\\\\miniconda3\\\\python312.zip',\n",
       " 'd:\\\\miniconda3\\\\DLLs',\n",
       " 'd:\\\\miniconda3\\\\Lib',\n",
       " 'd:\\\\miniconda3',\n",
       " '',\n",
       " 'd:\\\\miniconda3\\\\Lib\\\\site-packages',\n",
       " 'd:\\\\miniconda3\\\\Lib\\\\site-packages\\\\win32',\n",
       " 'd:\\\\miniconda3\\\\Lib\\\\site-packages\\\\win32\\\\lib',\n",
       " 'd:\\\\miniconda3\\\\Lib\\\\site-packages\\\\Pythonwin']"
      ]
     },
     "execution_count": 1,
     "metadata": {},
     "output_type": "execute_result"
    }
   ],
   "source": [
    "import sys\n",
    "sys.path"
   ]
  },
  {
   "cell_type": "markdown",
   "id": "f3fe915b",
   "metadata": {},
   "source": [
    "如果我们要添加自己的搜索目录，有两种方法：\n",
    "\n",
    "一是直接修改sys.path，添加要搜索的目录：\n",
    "\n",
    "```python\n",
    "import sys\n",
    "sys.path.append('/Users/michael/my_py_scripts')\n",
    "```\n",
    "\n",
    "这种方法是在运行时修改，运行结束后失效。\n",
    "\n",
    "第二种方法是设置环境变量PYTHONPATH，该环境变量的内容会被自动添加到模块搜索路径中。设置方式与设置Path环境变量类似。注意只需要添加我们自己的搜索路径，Python本身的搜索路径不受影响。\n"
   ]
  }
 ],
 "metadata": {
  "kernelspec": {
   "display_name": "base",
   "language": "python",
   "name": "python3"
  },
  "language_info": {
   "codemirror_mode": {
    "name": "ipython",
    "version": 3
   },
   "file_extension": ".py",
   "mimetype": "text/x-python",
   "name": "python",
   "nbconvert_exporter": "python",
   "pygments_lexer": "ipython3",
   "version": "3.12.3"
  }
 },
 "nbformat": 4,
 "nbformat_minor": 5
}
