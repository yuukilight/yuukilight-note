{
 "cells": [
  {
   "cell_type": "markdown",
   "id": "5f42910e",
   "metadata": {},
   "source": [
    "## 6.6 函数的参数\n",
    "\n",
    "函数的默认参数也是一个变量，必须让这个变量指向不变对象。\n",
    "\n",
    "否则在多次调用函数的过程中会发生改变。\n",
    "\n",
    "如下例子进行了说明："
   ]
  },
  {
   "cell_type": "code",
   "execution_count": 2,
   "id": "b9b02474",
   "metadata": {},
   "outputs": [
    {
     "name": "stdout",
     "output_type": "stream",
     "text": [
      "['END']\n",
      "['END', 'END']\n",
      "['END', 'END', 'END']\n"
     ]
    }
   ],
   "source": [
    "def add_end(L=[]):\n",
    "    L.append('END')\n",
    "    return L\n",
    "\n",
    "print(add_end())\n",
    "print(add_end())\n",
    "print(add_end())"
   ]
  },
  {
   "cell_type": "code",
   "execution_count": 3,
   "id": "12d51ca9",
   "metadata": {},
   "outputs": [
    {
     "name": "stdout",
     "output_type": "stream",
     "text": [
      "['END', 'END', 'END', 'END']\n",
      "['END', 'END', 'END', 'END', 'END']\n",
      "['END', 'END', 'END', 'END', 'END', 'END']\n"
     ]
    }
   ],
   "source": [
    "print(add_end())\n",
    "print(add_end())\n",
    "print(add_end())"
   ]
  },
  {
   "cell_type": "markdown",
   "id": "c2ed1184",
   "metadata": {},
   "source": [
    "### 可变参数\n",
    "\n",
    "可变参数允许你传入0个或任意个参数，这些可变参数在函数调用时自动组装为一个tuple。\n",
    "\n",
    "```python\n",
    "def calc(*numbers):\n",
    "    pass\n",
    "```\n",
    "函数接收参数时， numbers 接收到的是一个 tuple。\n",
    "\n",
    "```python\n",
    "calc(*nums)\n",
    "```\n",
    "传入参数时，会将 nums 作为可变参数传入 (nums 是 list 或者 tuple)。"
   ]
  },
  {
   "cell_type": "markdown",
   "id": "2b47ea77",
   "metadata": {},
   "source": [
    "### 关键字参数\n",
    "\n",
    "关键字参数允许你传入0个或任意个含参数名的参数，这些关键字参数在函数内部自动组装为一个dict。\n",
    "\n"
   ]
  },
  {
   "cell_type": "markdown",
   "id": "a765892d",
   "metadata": {},
   "source": []
  }
 ],
 "metadata": {
  "kernelspec": {
   "display_name": "base",
   "language": "python",
   "name": "python3"
  },
  "language_info": {
   "codemirror_mode": {
    "name": "ipython",
    "version": 3
   },
   "file_extension": ".py",
   "mimetype": "text/x-python",
   "name": "python",
   "nbconvert_exporter": "python",
   "pygments_lexer": "ipython3",
   "version": "3.12.3"
  }
 },
 "nbformat": 4,
 "nbformat_minor": 5
}
