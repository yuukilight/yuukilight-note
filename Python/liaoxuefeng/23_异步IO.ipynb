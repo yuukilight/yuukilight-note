{
 "cells": [
  {
   "cell_type": "markdown",
   "id": "a7370677",
   "metadata": {},
   "source": [
    "为了解决CPU执行速度和 IO数据传输速度的严重不匹配\n",
    "\n",
    "提出了多进程和多线程编程。但是如果一直增加线程会导致 CPU 浪费大量的资源在线程的切换上。进程更是存在可以创建的上限。\n",
    "\n",
    "最终的结果就是性能严重下降。\n",
    "\n",
    "\n",
    "因此我们可以使用另一种方法解决，就是异步 IO。我们只需要发出IO指令，然后就去执行其它代码。当IO指令返回结果后再去处理。（消息循环）"
   ]
  },
  {
   "cell_type": "markdown",
   "id": "7c65460d",
   "metadata": {},
   "source": [
    "## 23.1 协程(Coroutine)\n",
    "\n",
    "子程序调用总是一个入口，一次返回，调用顺序是明确的。而协程的调用和子程序不同。\n",
    "\n",
    "协程看上去也是子程序，但执行过程中，在子程序内部可中断，然后转而执行别的子程序，在适当的时候再返回来接着执行。\n",
    "\n",
    "协程相比线程因为不用消费资源进行线程的切换。因此执行效率更高。\n",
    "\n",
    "同时不需要担心锁的问题。\n",
    "\n",
    "协程示例代码如下："
   ]
  },
  {
   "cell_type": "code",
   "execution_count": null,
   "id": "52eea505",
   "metadata": {},
   "outputs": [
    {
     "name": "stdout",
     "output_type": "stream",
     "text": [
      "[PRODUCER] Producing 1...\n",
      "[CONSUMER] Consuming 1...\n",
      "[PRODUCER] Consumer return: 200 OK\n",
      "[PRODUCER] Producing 2...\n",
      "[CONSUMER] Consuming 2...\n",
      "[PRODUCER] Consumer return: 200 OK\n",
      "[PRODUCER] Producing 3...\n",
      "[CONSUMER] Consuming 3...\n",
      "[PRODUCER] Consumer return: 200 OK\n",
      "[PRODUCER] Producing 4...\n",
      "[CONSUMER] Consuming 4...\n",
      "[PRODUCER] Consumer return: 200 OK\n",
      "[PRODUCER] Producing 5...\n",
      "[CONSUMER] Consuming 5...\n",
      "[PRODUCER] Consumer return: 200 OK\n"
     ]
    }
   ],
   "source": [
    "def consumer():\n",
    "    r = ''\n",
    "    while True:\n",
    "        n = yield r\n",
    "        if not n:\n",
    "            return\n",
    "        print('[CONSUMER] Consuming %s...' % n)\n",
    "        r = '200 OK'\n",
    "\n",
    "def produce(c):\n",
    "    c.send(None)\n",
    "    n = 0\n",
    "    while n < 5:\n",
    "        n = n + 1\n",
    "        print('[PRODUCER] Producing %s...' % n)\n",
    "        r = c.send(n)\n",
    "        print('[PRODUCER] Consumer return: %s' % r)\n",
    "    c.close()\n",
    "\n",
    "c = consumer()\n",
    "produce(c)"
   ]
  },
  {
   "cell_type": "code",
   "execution_count": 2,
   "id": "9edca311",
   "metadata": {},
   "outputs": [
    {
     "name": "stdout",
     "output_type": "stream",
     "text": [
      "Producing...\n",
      "[PRODUCER] I am sending ['plate', 'food'] to comsumer...\n",
      "[CONSUMER] I have reviced ['plate', 'food']...\n",
      "Eating...\n",
      "[CONSUMER] I have eaten the food and sent back ['plate']...\n",
      "[PRODUCER] I have recived ['plate']\n",
      "Producing...\n",
      "[PRODUCER] I am sending ['plate', 'food'] to comsumer...\n",
      "[CONSUMER] I have reviced ['plate', 'food']...\n",
      "Eating...\n",
      "[CONSUMER] I have eaten the food and sent back ['plate']...\n",
      "[PRODUCER] I have recived ['plate']\n",
      "Producing...\n",
      "[PRODUCER] I am sending ['plate', 'food'] to comsumer...\n",
      "[CONSUMER] I have reviced ['plate', 'food']...\n",
      "Eating...\n",
      "[CONSUMER] I have eaten the food and sent back ['plate']...\n",
      "[PRODUCER] I have recived ['plate']\n",
      "Producing...\n",
      "[PRODUCER] I am sending ['plate', 'food'] to comsumer...\n",
      "[CONSUMER] I have reviced ['plate', 'food']...\n",
      "Eating...\n",
      "[CONSUMER] I have eaten the food and sent back ['plate']...\n",
      "[PRODUCER] I have recived ['plate']\n",
      "Producing...\n",
      "[PRODUCER] I am sending ['plate', 'food'] to comsumer...\n",
      "[CONSUMER] I have reviced ['plate', 'food']...\n",
      "Eating...\n",
      "[CONSUMER] I have eaten the food and sent back ['plate']...\n",
      "[PRODUCER] I have recived ['plate']\n"
     ]
    }
   ],
   "source": [
    "from time import sleep\n",
    "\n",
    "def consumer():\n",
    "    tx = []\n",
    "    while True:\n",
    "        rc = yield tx\n",
    "        print('[CONSUMER] I have reviced %s...' % rc)\n",
    "        if rc == None:\n",
    "            continue\n",
    "        rc.remove('food')\n",
    "        print('Eating...')\n",
    "        sleep(1)\n",
    "        tx = rc\n",
    "        print('[CONSUMER] I have eaten the food and sent back %s...' % tx)\n",
    "\n",
    "def producer(c):\n",
    "    c.send(None)\n",
    "    tx = ['plate']\n",
    "    n = 0\n",
    "    while n < 5:\n",
    "        n = n + 1\n",
    "        tx.append('food')\n",
    "        print('Producing...')\n",
    "        sleep(1)\n",
    "        print('[PRODUCER] I am sending %s to comsumer...' % tx)\n",
    "        rc = c.send(tx)\n",
    "        if rc == None:\n",
    "            continue\n",
    "        print('[PRODUCER] I have recived %s' % rc)\n",
    "        tx = rc\n",
    "    c.close()\n",
    "\n",
    "c = consumer()\n",
    "producer(c)"
   ]
  },
  {
   "cell_type": "markdown",
   "id": "ee86eab9",
   "metadata": {},
   "source": [
    "最后套用Donald Knuth的一句话总结协程的特点：\n",
    "\n",
    "“子程序就是协程的一种特例。”"
   ]
  },
  {
   "cell_type": "markdown",
   "id": "1671c23c",
   "metadata": {},
   "source": [
    "## 23.2 asyncio\n",
    "\n",
    "```asyncio```的编程模型就是一个消息循环。```asyncio```模块内部实现了```EventLoop```，把需要执行的协程扔到```EventLoop```中执行，就实现了异步IO。\n",
    "\n"
   ]
  },
  {
   "cell_type": "code",
   "execution_count": null,
   "id": "eed2e0c3",
   "metadata": {},
   "outputs": [
    {
     "name": "stdout",
     "output_type": "stream",
     "text": [
      "Writing asyncio_test.py\n"
     ]
    }
   ],
   "source": [
    "%%writefile asyncio_test.py\n",
    "import asyncio\n",
    "import threading\n",
    "\n",
    "# 传入name参数:\n",
    "async def hello(name):\n",
    "    # 打印name和当前线程:\n",
    "    print(\"Hello %s! (%s)\" % (name, threading.current_thread))\n",
    "    # 异步调用asyncio.sleep(1):\n",
    "    await asyncio.sleep(1)\n",
    "    print(\"Hello %s again! (%s)\" % (name, threading.current_thread))\n",
    "    return name\n",
    "\n",
    "\n",
    "async def main():\n",
    "    L = await asyncio.gather(hello(\"Bob\"), hello(\"Alice\"))\n",
    "    print(L)\n",
    "\n",
    "asyncio.run(main())\n"
   ]
  },
  {
   "cell_type": "markdown",
   "id": "422dcbb5",
   "metadata": {},
   "source": [
    "### 小结\n",
    "asyncio提供了完善的异步IO支持，用asyncio.run()调度一个coroutine；\n",
    "\n",
    "在一个async函数内部，通过await可以调用另一个async函数，这个调用看起来是串行执行的，但实际上是由asyncio内部的消息循环控制；\n",
    "\n",
    "在一个async函数内部，通过await asyncio.gather()可以并发执行若干个async函数。"
   ]
  },
  {
   "cell_type": "code",
   "execution_count": null,
   "id": "ffea9d10",
   "metadata": {},
   "outputs": [],
   "source": []
  }
 ],
 "metadata": {
  "kernelspec": {
   "display_name": "base",
   "language": "python",
   "name": "python3"
  },
  "language_info": {
   "codemirror_mode": {
    "name": "ipython",
    "version": 3
   },
   "file_extension": ".py",
   "mimetype": "text/x-python",
   "name": "python",
   "nbconvert_exporter": "python",
   "pygments_lexer": "ipython3",
   "version": "3.12.3"
  }
 },
 "nbformat": 4,
 "nbformat_minor": 5
}
