{
 "cells": [
  {
   "cell_type": "markdown",
   "id": "b804a700",
   "metadata": {},
   "source": [
    "## 11_1 使用 ```_slots_```\n",
    "\n",
    "Python 作为动态语言可以在程序运行过程中动态的给实例或者类添加属性，或者方法（函数）。\n",
    "\n",
    "通过 ```__slots__``` 方法可以限制 class 实例能添加的功能。\n",
    "\n",
    "例如：\n",
    "```python\n",
    "class Student(object):\n",
    "    __slots__ = ('name', 'age')\n",
    "```\n",
    "\n",
    "限制了 Student 只能绑定 ```name```, ```age``` 两个属性。（只对当前类有作用，对其子类无效） "
   ]
  },
  {
   "cell_type": "code",
   "execution_count": 8,
   "id": "47751dd3",
   "metadata": {},
   "outputs": [],
   "source": [
    "class Student(object):\n",
    "    __slots__ = ('name', 'age')\n",
    "\n",
    "s = Student()\n",
    "s.name = 'yui'"
   ]
  },
  {
   "cell_type": "code",
   "execution_count": 9,
   "id": "4ed5f68c",
   "metadata": {},
   "outputs": [
    {
     "ename": "AttributeError",
     "evalue": "'Student' object has no attribute 'power'",
     "output_type": "error",
     "traceback": [
      "\u001b[1;31m---------------------------------------------------------------------------\u001b[0m",
      "\u001b[1;31mAttributeError\u001b[0m                            Traceback (most recent call last)",
      "Cell \u001b[1;32mIn[9], line 1\u001b[0m\n\u001b[1;32m----> 1\u001b[0m \u001b[43ms\u001b[49m\u001b[38;5;241;43m.\u001b[39;49m\u001b[43mpower\u001b[49m \u001b[38;5;241m=\u001b[39m \u001b[38;5;241m999\u001b[39m\n",
      "\u001b[1;31mAttributeError\u001b[0m: 'Student' object has no attribute 'power'"
     ]
    }
   ],
   "source": [
    "s.power = 999"
   ]
  },
  {
   "cell_type": "code",
   "execution_count": null,
   "id": "22d0c20f",
   "metadata": {},
   "outputs": [],
   "source": [
    "class SuperStudent(Student):\n",
    "    power = 999"
   ]
  },
  {
   "cell_type": "code",
   "execution_count": null,
   "id": "719d489c",
   "metadata": {},
   "outputs": [],
   "source": [
    "ss = SuperStudent()\n",
    "\n",
    "ss.mega_power = 999"
   ]
  },
  {
   "cell_type": "markdown",
   "id": "f2b20a7d",
   "metadata": {},
   "source": [
    "当子类定义了 ```__slots__```, 其最终的 ```__slots__``` 等于自身定义的 ```__slots__``` 加上父类的 ```__slots__```。"
   ]
  },
  {
   "cell_type": "code",
   "execution_count": 11,
   "id": "48dbf892",
   "metadata": {},
   "outputs": [],
   "source": [
    "class SuperStudent(Student):\n",
    "    power = 999\n",
    "\n",
    "    __slots__ = ('sad')\n",
    "\n",
    "ss = SuperStudent()\n",
    "\n",
    "ss.name = 999"
   ]
  },
  {
   "cell_type": "code",
   "execution_count": 12,
   "id": "124e6b70",
   "metadata": {},
   "outputs": [
    {
     "ename": "AttributeError",
     "evalue": "'SuperStudent' object has no attribute 'mega_power'",
     "output_type": "error",
     "traceback": [
      "\u001b[1;31m---------------------------------------------------------------------------\u001b[0m",
      "\u001b[1;31mAttributeError\u001b[0m                            Traceback (most recent call last)",
      "Cell \u001b[1;32mIn[12], line 1\u001b[0m\n\u001b[1;32m----> 1\u001b[0m \u001b[43mss\u001b[49m\u001b[38;5;241;43m.\u001b[39;49m\u001b[43mmega_power\u001b[49m \u001b[38;5;241m=\u001b[39m \u001b[38;5;241m999\u001b[39m\n",
      "\u001b[1;31mAttributeError\u001b[0m: 'SuperStudent' object has no attribute 'mega_power'"
     ]
    }
   ],
   "source": [
    "ss.mega_power = 999"
   ]
  },
  {
   "cell_type": "markdown",
   "id": "de306d17",
   "metadata": {},
   "source": [
    "## 11_2 使用 ```@property```\n",
    "\n",
    "在 10.2 节中描述了类的访问限制相关的内容。\n",
    "\n",
    "我们需要设置方法(set_val(), get_val())来对类的属性进行访问和修改，但是使用起来比较繁琐，需要反复调用函数。\n",
    "\n",
    "那么能不能在限制访问后，依旧可以像直接调用属性一样访问和修改呢？ \n",
    "于是有了 ```@property```\n",
    "\n",
    "例如：\n",
    "```python\n",
    "class Student(object):\n",
    "    @property\n",
    "    def birth(self):\n",
    "        return self._birth\n",
    "\n",
    "    @birth.setter\n",
    "    def birth(self, value):\n",
    "        self._birth = value\n",
    "\n",
    "    @property\n",
    "    def age(self):\n",
    "        return 2015 - self._birth\n",
    "```\n",
    "\n",
    "birth 设置了 @property 和 @birth.setter 可以通过属性的方式访问和修改。\n",
    "\n",
    "age 只设置了 @property， 则只能通过属性方法访问，无法修改。相当于一个只读属性。\n",
    "\n",
    "### Practise\n",
    "\n",
    "请利用```@property```给一个```Screen```对象加上```width```和```height```属性，以及一个只读属性```resolution```："
   ]
  },
  {
   "cell_type": "code",
   "execution_count": 3,
   "id": "e2de08c4",
   "metadata": {},
   "outputs": [
    {
     "name": "stdout",
     "output_type": "stream",
     "text": [
      "resolution = 786432\n",
      "测试通过!\n"
     ]
    }
   ],
   "source": [
    "class Screen(object):\n",
    "\n",
    "    def __init__(self):\n",
    "        self._width = 0\n",
    "        self._height = 0\n",
    "    \n",
    "    @property\n",
    "    def width(self):\n",
    "        return self._width\n",
    "    \n",
    "    @width.setter\n",
    "    def width(self, val):\n",
    "        self._width = val\n",
    "\n",
    "    @property\n",
    "    def height(self):\n",
    "        return self._height\n",
    "    \n",
    "    @height.setter\n",
    "    def height(self, val):\n",
    "        self._height = val\n",
    "\n",
    "    @property\n",
    "    def resolution(self):\n",
    "        return self._width * self._height\n",
    "    \n",
    "\n",
    "# 测试:\n",
    "s = Screen()\n",
    "s.width = 1024\n",
    "s.height = 768\n",
    "print('resolution =', s.resolution)\n",
    "if s.resolution == 786432:\n",
    "    print('测试通过!')\n",
    "else:\n",
    "    print('测试失败!')"
   ]
  },
  {
   "cell_type": "markdown",
   "id": "cc2775c3",
   "metadata": {},
   "source": [
    "## 11.3 多重继承\n",
    "\n",
    "通过多重继承，一个子类就可以同时获得多个父类的所有功能。\n",
    "\n",
    "例如动物可以分为哺乳类和鸟类， 根据是否能飞行，鸟类和哺乳类又可以各自分为 2 类，\n",
    "\n",
    "共计 $2^2 = 4$ 种。\n",
    "\n",
    "如果进一步根据是否能当宠物，每一种子类又可以划分为 2 类。\n",
    "\n",
    "共计 $2^3=8$ 种\n",
    "\n",
    "可以看到类的数目呈指数级增长。\n",
    "\n",
    "这时我们可以通过定义 能飞行的类，不能飞行的类。\n",
    "\n",
    "通过同时继承鸟类和不能飞行，实习不能飞行的鸟类。\n",
    "\n",
    "对于哺乳类和能否当宠物同理，这样类别的增长就是线性的。"
   ]
  },
  {
   "cell_type": "code",
   "execution_count": 4,
   "id": "7441e966",
   "metadata": {},
   "outputs": [],
   "source": [
    "class Animal(object):\n",
    "    pass\n",
    "\n",
    "# 大类:\n",
    "class Mammal(Animal):\n",
    "    pass\n",
    "\n",
    "class Bird(Animal):\n",
    "    pass\n",
    "\n",
    "# 各种动物:\n",
    "class Dog(Mammal):\n",
    "    pass\n",
    "\n",
    "class Bat(Mammal):\n",
    "    pass\n",
    "\n",
    "class Parrot(Bird):\n",
    "    pass\n",
    "\n",
    "class Ostrich(Bird):\n",
    "    pass\n",
    "\n",
    "class Runnable(object):\n",
    "    def run(self):\n",
    "        print('Running...')\n",
    "\n",
    "class Flyable(object):\n",
    "    def fly(self):\n",
    "        print('Flying...')\n",
    "\n",
    "\n",
    "class Dog(Mammal, Runnable):\n",
    "    pass\n",
    "\n",
    "class Bat(Mammal, Flyable):\n",
    "    pass"
   ]
  },
  {
   "cell_type": "markdown",
   "id": "a611219a",
   "metadata": {},
   "source": [
    "### MixIn\n",
    "\n",
    "类的继承通常都是主线单一继承的，如果需要补充额外的功能，多重继承其它类的设计通常称之为 ```MixIn```。\n",
    "\n",
    "为了更好地看出继承关系，我们把前面的```Runnable```和```Flyable```改为```RunnableMixIn```和```FlyableMixIn```。类似的，你还可以定义出肉食动物```CarnivorousMixIn```和植食动物```HerbivoresMixIn```，让某个动物同时拥有好几个```MixIn```：\n",
    "\n",
    "Python自带的很多库也使用了MixIn。举个例子，Python自带了```TCPServer```和```UDPServer```这两类网络服务，而要同时服务多个用户就必须使用多进程或多线程模型，这两种模型由```ForkingMixIn```和```ThreadingMixIn```提供。通过组合，我们就可以创造出合适的服务来。\n",
    "\n",
    "比如，编写一个多进程模式的TCP服务，定义如下：\n",
    "```python\n",
    "class MyTCPServer(TCPServer, ForkingMixIn):\n",
    "    pass\n",
    "```\n",
    "编写一个多线程模式的UDP服务，定义如下：\n",
    "```python\n",
    "class MyUDPServer(UDPServer, ThreadingMixIn):\n",
    "    pass\n",
    "```\n",
    "\n",
    "如果你打算搞一个更先进的协程模型，可以编写一个```CoroutineMixIn```：\n",
    "```python\n",
    "class MyTCPServer(TCPServer, CoroutineMixIn):\n",
    "    pass\n",
    "```\n",
    "这样一来，我们不需要复杂而庞大的继承链，只要选择组合不同的类的功能，就可以快速构造出所需的子类。"
   ]
  },
  {
   "cell_type": "markdown",
   "id": "b655e5a0",
   "metadata": {},
   "source": [
    "## 11.4 定制类\n",
    "\n",
    "\n",
    "- ```__str__()```:\n",
    "\n",
    "- ```repr__()```:\n",
    "\n",
    "- ```__iter__()```: 返回一个迭代器，即含有 yield 迭代函数对象，让类可以支持 ```for ... in```。\n",
    "\n",
    "- ```__getitem__()```: 让对象可以像 list 一样通过下标访问。同样也可以支持切片和关键词访问，但是需要自行定义和实现。\n",
    "对应的还有 ```__setitem__()```, 和```__delitem__()```用来执行赋值和删除操作。\n",
    "\n",
    "- ```__getattr__()```:  当对象访问了某个属性，但是没有找到就会进入 ```__getattr__()``` 函数进行查找。如果想让 class 只返回几个特定的属性，\n",
    "  我们需要在未找到对应属性的情况下抛出 ```Attribute``` 错误。\n",
    "  例如：\n",
    "  ```python\n",
    "  class Student(object):\n",
    "    def __getattr__(self, attr):\n",
    "        if attr=='age':\n",
    "            return lambda: 25\n",
    "        raise AttributeError('\\'Student\\' object has no attribute \\'%s\\'' % attr)\n",
    "  ```"
   ]
  },
  {
   "cell_type": "markdown",
   "id": "1857ba12",
   "metadata": {},
   "source": [
    "REST API 中，获取链接接口的 API 是非常多的。要给每个链接写一个方法显然不现实，这时可以通过动态的 ```__getattr__()``` 方法实现一个链式调用。\n",
    "\n",
    "具体代码如下："
   ]
  },
  {
   "cell_type": "code",
   "execution_count": 1,
   "id": "f149fea3",
   "metadata": {},
   "outputs": [],
   "source": [
    "class Chain(object):\n",
    "    def __init__(self, path=''):\n",
    "        self._path = path\n",
    "\n",
    "    def __getattr__(self, path):\n",
    "        return Chain('%s/%s' % (self._path, path))\n",
    "\n",
    "    def __str__(self):\n",
    "        return self._path\n",
    "\n",
    "    __repr__ = __str__\n"
   ]
  },
  {
   "cell_type": "code",
   "execution_count": 6,
   "id": "62ea05ad",
   "metadata": {},
   "outputs": [
    {
     "data": {
      "text/plain": [
       "/status/user/timeline/list"
      ]
     },
     "execution_count": 6,
     "metadata": {},
     "output_type": "execute_result"
    }
   ],
   "source": [
    "t = Chain().status.user.timeline.list\n",
    "t"
   ]
  },
  {
   "cell_type": "code",
   "execution_count": 5,
   "id": "e9bd22de",
   "metadata": {},
   "outputs": [
    {
     "data": {
      "text/plain": [
       "__main__.Chain"
      ]
     },
     "execution_count": 5,
     "metadata": {},
     "output_type": "execute_result"
    }
   ],
   "source": [
    "type(t)"
   ]
  },
  {
   "cell_type": "markdown",
   "id": "8b61069c",
   "metadata": {},
   "source": [
    "- ```__call__()```: 任何类，只需要定义一个__call__()方法，就可以直接对实例进行调用。\n",
    "\n",
    "示例："
   ]
  },
  {
   "cell_type": "code",
   "execution_count": 7,
   "id": "5d6391e6",
   "metadata": {},
   "outputs": [
    {
     "name": "stdout",
     "output_type": "stream",
     "text": [
      "My name is yuukilight.\n"
     ]
    }
   ],
   "source": [
    "class Student(object):\n",
    "    def __init__(self, name):\n",
    "        self.name = name\n",
    "\n",
    "    def __call__(self):\n",
    "        print('My name is %s.' % self.name)\n",
    "\n",
    "s = Student('yuukilight')\n",
    "s() # self参数不要传入"
   ]
  },
  {
   "cell_type": "markdown",
   "id": "cd4b68a0",
   "metadata": {},
   "source": [
    "通过```callable()```函数，我们就可以判断一个对象是否是“可调用”对象。"
   ]
  },
  {
   "cell_type": "markdown",
   "id": "fd6b1e0d",
   "metadata": {},
   "source": [
    "## 11.5 使用枚举类"
   ]
  },
  {
   "cell_type": "code",
   "execution_count": 8,
   "id": "0ac2f4ad",
   "metadata": {},
   "outputs": [],
   "source": [
    "from enum import Enum\n",
    "\n",
    "Month = Enum('Month', ('Jan', 'Feb', 'Mar', 'Apr', 'May', 'Jun', 'Jul', 'Aug', 'Sep', 'Oct', 'Nov', 'Dec'))"
   ]
  },
  {
   "cell_type": "code",
   "execution_count": 18,
   "id": "9cc676a9",
   "metadata": {},
   "outputs": [
    {
     "data": {
      "text/plain": [
       "<Month.Mar: 3>"
      ]
     },
     "execution_count": 18,
     "metadata": {},
     "output_type": "execute_result"
    }
   ],
   "source": [
    "Month.Mar"
   ]
  },
  {
   "cell_type": "code",
   "execution_count": 16,
   "id": "f1dc2012",
   "metadata": {},
   "outputs": [
    {
     "data": {
      "text/plain": [
       "3"
      ]
     },
     "execution_count": 16,
     "metadata": {},
     "output_type": "execute_result"
    }
   ],
   "source": [
    "Month.Mar.value"
   ]
  },
  {
   "cell_type": "code",
   "execution_count": 14,
   "id": "ad13b1a8",
   "metadata": {},
   "outputs": [
    {
     "name": "stdout",
     "output_type": "stream",
     "text": [
      "Jan => Month.Jan , 1\n",
      "Feb => Month.Feb , 2\n",
      "Mar => Month.Mar , 3\n",
      "Apr => Month.Apr , 4\n",
      "May => Month.May , 5\n",
      "Jun => Month.Jun , 6\n",
      "Jul => Month.Jul , 7\n",
      "Aug => Month.Aug , 8\n",
      "Sep => Month.Sep , 9\n",
      "Oct => Month.Oct , 10\n",
      "Nov => Month.Nov , 11\n",
      "Dec => Month.Dec , 12\n"
     ]
    }
   ],
   "source": [
    "for name, member in Month.__members__.items():\n",
    "    print(name, '=>', member, ',', member.value)"
   ]
  },
  {
   "cell_type": "markdown",
   "id": "42c31129",
   "metadata": {},
   "source": [
    "```value```属性则是自动赋给成员的int常量，默认从1开始计数。\n",
    "\n",
    "如果需要更精确地控制枚举类型，可以从Enum派生出自定义类："
   ]
  },
  {
   "cell_type": "code",
   "execution_count": 17,
   "id": "a1e672df",
   "metadata": {},
   "outputs": [],
   "source": [
    "from enum import Enum, unique\n",
    "\n",
    "@unique\n",
    "class Weekday(Enum):\n",
    "    Sun = 0 # Sun的value被设定为0\n",
    "    Mon = 1\n",
    "    Tue = 2\n",
    "    Wed = 3\n",
    "    Thu = 4\n",
    "    Fri = 5\n",
    "    Sat = 6\n"
   ]
  },
  {
   "cell_type": "markdown",
   "id": "0eb83ed2",
   "metadata": {},
   "source": [
    "```Enum```可以把一组相关常量定义在一个class中，且class不可变，而且成员可以直接比较。\n",
    "\n",
    "### Practise\n",
    "把```Student```的```gender``属性改造为枚举类型，可以避免使用字符串："
   ]
  },
  {
   "cell_type": "code",
   "execution_count": 1,
   "id": "ce5d599c",
   "metadata": {},
   "outputs": [
    {
     "name": "stdout",
     "output_type": "stream",
     "text": [
      "测试通过!\n"
     ]
    }
   ],
   "source": [
    "from enum import Enum, unique\n",
    "\n",
    "@unique\n",
    "class Gender(Enum):\n",
    "    Male = 0\n",
    "    Female = 1\n",
    "\n",
    "class Student(object):\n",
    "    def __init__(self, name, gender):\n",
    "        self.name = name\n",
    "        self.gender = gender\n",
    "\n",
    "# 测试:\n",
    "bart = Student('Bart', Gender.Male)\n",
    "if bart.gender == Gender.Male:\n",
    "    print('测试通过!')\n",
    "else:\n",
    "    print('测试失败!')\n"
   ]
  },
  {
   "cell_type": "markdown",
   "id": "5ceee44a",
   "metadata": {},
   "source": [
    "## 11.6 使用元类\n",
    "\n",
    "动态语言和静态语言最大的不同，就是函数和类的定义，不是编译时定义的，而是运行时动态创建的。\n",
    "\n",
    "### ```type()```\n",
    "\n",
    "```type()```函数既可以返回一个对象的类型，又可以创建出新的类型\n",
    "\n",
    "如下举例创建一个 Hello 类"
   ]
  },
  {
   "cell_type": "code",
   "execution_count": 2,
   "id": "7b265155",
   "metadata": {},
   "outputs": [
    {
     "name": "stdout",
     "output_type": "stream",
     "text": [
      "Hello, world.\n"
     ]
    }
   ],
   "source": [
    "def fn(self, name='world'): # 先定义函数\n",
    "    print('Hello, %s.' % name)\n",
    "\n",
    "Hello = type('Hello', (object,), dict(hello=fn)) # 创建Hello class\n",
    "\n",
    "h = Hello()\n",
    "h.hello()"
   ]
  },
  {
   "cell_type": "code",
   "execution_count": 3,
   "id": "436b78a6",
   "metadata": {},
   "outputs": [
    {
     "name": "stdout",
     "output_type": "stream",
     "text": [
      "<class 'type'>\n",
      "<class '__main__.Hello'>\n"
     ]
    }
   ],
   "source": [
    "print(type(Hello))\n",
    "print(type(h))"
   ]
  },
  {
   "cell_type": "markdown",
   "id": "09140e3b",
   "metadata": {},
   "source": [
    "要创建一个class对象，```type()```函数依次传入3个参数：\n",
    "\n",
    "1. class的名称；\n",
    "2. 继承的父类集合，注意Python支持多重继承，如果只有一个父类，别忘了tuple的单元素写法；\n",
    "3. class的方法名称与函数绑定，这里我们把函数fn绑定到方法名hello上。\n",
    "\n",
    "通过```type()```函数创建的类和直接写class是完全一样的，因为Python解释器遇到class定义时，仅仅是扫描一下class定义的语法，然后调用```type()```函数创建出class。\n",
    "\n",
    "正常情况下，我们都用```class Xxx...```来定义类，但是，```type()```函数也允许我们动态创建出类来，也就是说，动态语言本身支持运行期动态创建类，这和静态语言有非常大的不同，要在静态语言运行期创建类，必须构造源代码字符串再调用编译器，或者借助一些工具生成字节码实现，本质上都是动态编译，会非常复杂。"
   ]
  },
  {
   "cell_type": "markdown",
   "id": "96e01d0b",
   "metadata": {},
   "source": [
    "### metaclass\n",
    "\n",
    "除了使用type()动态创建类以外，要控制类的创建行为，还可以使用metaclass。\n",
    "\n",
    "metaclass，直译为元类，简单的解释就是：\n",
    "\n",
    "当我们定义了类以后，就可以根据这个类创建出实例，所以：先定义类，然后创建实例。\n",
    "\n",
    "但是如果我们想创建出类呢？那就必须根据metaclass创建出类，所以：先定义metaclass，然后创建类。\n",
    "\n",
    "连接起来就是：先定义metaclass，就可以创建类，最后创建实例。\n",
    "\n",
    "所以，metaclass允许你创建类或者修改类。换句话说，你可以把类看成是metaclass创建出来的“实例”。\n",
    "\n",
    "metaclass是Python面向对象里最难理解，也是最难使用的魔术代码。正常情况下，你不会碰到需要使用metaclass的情况，所以，以下内容看不懂也没关系，因为基本上你不会用到。(QAQ)"
   ]
  },
  {
   "cell_type": "markdown",
   "id": "3dbd2e92",
   "metadata": {},
   "source": [
    "ORM全称“Object Relational Mapping”，即对象-关系映射，就是把关系数据库的一行映射为一个对象，也就是一个类对应一个表，这样，写代码更简单，不用直接操作SQL语句。\n",
    "\n",
    "以 ORM 为例："
   ]
  },
  {
   "cell_type": "markdown",
   "id": "7b74a6a5",
   "metadata": {},
   "source": [
    "编写底层模块的第一步，就是先把调用接口写出来。比如，使用者如果使用这个ORM框架，想定义一个User类来操作对应的数据库表User，我们期待他写出这样的代码：\n",
    "```python\n",
    "class User(Model):\n",
    "    # 定义类的属性到列的映射：X\n",
    "    id = IntegerField('id')\n",
    "    name = StringField('username')\n",
    "    email = StringField('email')\n",
    "    password = StringField('password')\n",
    "\n",
    "# 创建一个实例：\n",
    "u = User(id=12345, name='Michael', email='test@orm.org', password='my-pwd')\n",
    "# 保存到数据库：\n",
    "u.save()\n",
    "```"
   ]
  },
  {
   "cell_type": "markdown",
   "id": "a141fe6b",
   "metadata": {},
   "source": [
    "其中，父类Model和属性类型StringField、IntegerField是由ORM框架提供的，剩下的魔术方法比如save()全部由父类Model自动完成。虽然metaclass的编写会比较复杂，但ORM的使用者用起来却异常简单。\n",
    "\n",
    "现在，我们就按上面的接口来实现该ORM。\n",
    "\n",
    "首先来定义Field类，它负责保存数据库表的字段名和字段类型："
   ]
  },
  {
   "cell_type": "code",
   "execution_count": 5,
   "id": "2f8ea154",
   "metadata": {},
   "outputs": [],
   "source": [
    "class Field(object):\n",
    "    def __init__(self, name, column_type):\n",
    "        self.name = name\n",
    "        self.column_type = column_type\n",
    "\n",
    "    def __str__(self):\n",
    "        return '<%s:%s>' % (self.__class__.__name__, self.name)"
   ]
  },
  {
   "cell_type": "markdown",
   "id": "4b8ec4e8",
   "metadata": {},
   "source": [
    "在Field的基础上，进一步定义各种类型的Field，比如StringField，IntegerField等等："
   ]
  },
  {
   "cell_type": "code",
   "execution_count": 6,
   "id": "df8f2a60",
   "metadata": {},
   "outputs": [],
   "source": [
    "class StringField(Field):\n",
    "    def __init__(self, name):\n",
    "        super(StringField, self).__init__(name, 'varchar(100)')\n",
    "\n",
    "class IntegerField(Field):\n",
    "    def __init__(self, name):\n",
    "        super(IntegerField, self).__init__(name, 'bigint')"
   ]
  },
  {
   "cell_type": "markdown",
   "id": "5949f49b",
   "metadata": {},
   "source": [
    "下一步，就是编写最复杂的ModelMetaclass了："
   ]
  },
  {
   "cell_type": "code",
   "execution_count": null,
   "id": "8b4761db",
   "metadata": {},
   "outputs": [],
   "source": [
    "class ModelMetaclass(type):\n",
    "    def __new__(cls, name, bases, attrs):\n",
    "        if name=='Model':\n",
    "            return type.__new__(cls, name, bases, attrs)\n",
    "        print('Found model: %s' % name)\n",
    "        mappings = dict()\n",
    "        for k, v in attrs.items():\n",
    "            if isinstance(v, Field):\n",
    "                print('Found mapping: %s ==> %s' % (k, v))\n",
    "                mappings[k] = v\n",
    "        for k in mappings.keys():\n",
    "            attrs.pop(k)\n",
    "        attrs['__mappings__'] = mappings # 保存属性和列的映射关系\n",
    "        attrs['__table__'] = name # 假设表名和类名一致\n",
    "        return type.__new__(cls, name, bases, attrs)"
   ]
  },
  {
   "cell_type": "markdown",
   "id": "cf809dff",
   "metadata": {},
   "source": [
    "以及基类Model："
   ]
  },
  {
   "cell_type": "code",
   "execution_count": null,
   "id": "ee88f8c0",
   "metadata": {},
   "outputs": [],
   "source": [
    "class Model(dict, metaclass=ModelMetaclass):\n",
    "    def __init__(self, **kw):\n",
    "        super(Model, self).__init__(**kw)\n",
    "\n",
    "    def __getattr__(self, key):\n",
    "        try:\n",
    "            return self[key]\n",
    "        except KeyError:\n",
    "            raise AttributeError(r\"'Model' object has no attribute '%s'\" % key)\n",
    "\n",
    "    def __setattr__(self, key, value):\n",
    "        self[key] = value\n",
    "\n",
    "    def save(self):\n",
    "        fields = []\n",
    "        params = []\n",
    "        args = []\n",
    "        for k, v in self.__mappings__.items():\n",
    "            fields.append(v.name)\n",
    "            params.append('?')\n",
    "            args.append(getattr(self, k, None))\n",
    "        sql = 'insert into %s (%s) values (%s)' % (self.__table__, ','.join(fields), ','.join(params))\n",
    "        print('SQL: %s' % sql)\n",
    "        print('ARGS: %s' % str(args))"
   ]
  },
  {
   "cell_type": "code",
   "execution_count": 11,
   "id": "6bc8cc71",
   "metadata": {},
   "outputs": [
    {
     "name": "stdout",
     "output_type": "stream",
     "text": [
      "Found model: User\n",
      "Found mapping: id ==> <IntegerField:id>\n",
      "Found mapping: name ==> <StringField:username>\n",
      "Found mapping: email ==> <StringField:email>\n",
      "Found mapping: password ==> <StringField:password>\n",
      "SQL: insert into User (id,username,email,password) values (?,?,?,?)\n",
      "ARGS: [12345, 'Michael', 'test@orm.org', 'my-pwd']\n"
     ]
    }
   ],
   "source": [
    "class User(Model):\n",
    "    # 定义类的属性到列的映射：\n",
    "    id = IntegerField('id')\n",
    "    name = StringField('username')\n",
    "    email = StringField('email')\n",
    "    password = StringField('password')\n",
    "\n",
    "u = User(id=12345, name='Michael', email='test@orm.org', password='my-pwd')\n",
    "u.save()"
   ]
  },
  {
   "cell_type": "code",
   "execution_count": null,
   "id": "dcacfcaa",
   "metadata": {},
   "outputs": [],
   "source": []
  }
 ],
 "metadata": {
  "kernelspec": {
   "display_name": "base",
   "language": "python",
   "name": "python3"
  },
  "language_info": {
   "codemirror_mode": {
    "name": "ipython",
    "version": 3
   },
   "file_extension": ".py",
   "mimetype": "text/x-python",
   "name": "python",
   "nbconvert_exporter": "python",
   "pygments_lexer": "ipython3",
   "version": "3.12.3"
  }
 },
 "nbformat": 4,
 "nbformat_minor": 5
}
