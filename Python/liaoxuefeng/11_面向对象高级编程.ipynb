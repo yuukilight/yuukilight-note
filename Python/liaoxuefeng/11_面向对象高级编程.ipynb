{
 "cells": [
  {
   "cell_type": "markdown",
   "id": "b804a700",
   "metadata": {},
   "source": [
    "## 11_1 使用 ```_slots_```\n",
    "\n",
    "Python 作为动态语言可以在程序运行过程中动态的给实例或者类添加属性，或者方法（函数）。\n",
    "\n",
    "通过 ```__slots__``` 方法可以限制 class 实例能添加的功能。\n",
    "\n",
    "例如：\n",
    "```python\n",
    "class Student(object):\n",
    "    __slots__ = ('name', 'age')\n",
    "```\n",
    "\n",
    "限制了 Student 只能绑定 ```name```, ```age``` 两个属性。（只对当前类有作用，对其子类无效） "
   ]
  },
  {
   "cell_type": "code",
   "execution_count": 8,
   "id": "47751dd3",
   "metadata": {},
   "outputs": [],
   "source": [
    "class Student(object):\n",
    "    __slots__ = ('name', 'age')\n",
    "\n",
    "s = Student()\n",
    "s.name = 'yui'"
   ]
  },
  {
   "cell_type": "code",
   "execution_count": 9,
   "id": "4ed5f68c",
   "metadata": {},
   "outputs": [
    {
     "ename": "AttributeError",
     "evalue": "'Student' object has no attribute 'power'",
     "output_type": "error",
     "traceback": [
      "\u001b[1;31m---------------------------------------------------------------------------\u001b[0m",
      "\u001b[1;31mAttributeError\u001b[0m                            Traceback (most recent call last)",
      "Cell \u001b[1;32mIn[9], line 1\u001b[0m\n\u001b[1;32m----> 1\u001b[0m \u001b[43ms\u001b[49m\u001b[38;5;241;43m.\u001b[39;49m\u001b[43mpower\u001b[49m \u001b[38;5;241m=\u001b[39m \u001b[38;5;241m999\u001b[39m\n",
      "\u001b[1;31mAttributeError\u001b[0m: 'Student' object has no attribute 'power'"
     ]
    }
   ],
   "source": [
    "s.power = 999"
   ]
  },
  {
   "cell_type": "code",
   "execution_count": null,
   "id": "22d0c20f",
   "metadata": {},
   "outputs": [],
   "source": [
    "class SuperStudent(Student):\n",
    "    power = 999"
   ]
  },
  {
   "cell_type": "code",
   "execution_count": null,
   "id": "719d489c",
   "metadata": {},
   "outputs": [],
   "source": [
    "ss = SuperStudent()\n",
    "\n",
    "ss.mega_power = 999"
   ]
  },
  {
   "cell_type": "markdown",
   "id": "f2b20a7d",
   "metadata": {},
   "source": [
    "当子类定义了 ```__slots__```, 其最终的 ```__slots__``` 等于自身定义的 ```__slots__``` 加上父类的 ```__slots__```。"
   ]
  },
  {
   "cell_type": "code",
   "execution_count": 11,
   "id": "48dbf892",
   "metadata": {},
   "outputs": [],
   "source": [
    "class SuperStudent(Student):\n",
    "    power = 999\n",
    "\n",
    "    __slots__ = ('sad')\n",
    "\n",
    "ss = SuperStudent()\n",
    "\n",
    "ss.name = 999"
   ]
  },
  {
   "cell_type": "code",
   "execution_count": 12,
   "id": "124e6b70",
   "metadata": {},
   "outputs": [
    {
     "ename": "AttributeError",
     "evalue": "'SuperStudent' object has no attribute 'mega_power'",
     "output_type": "error",
     "traceback": [
      "\u001b[1;31m---------------------------------------------------------------------------\u001b[0m",
      "\u001b[1;31mAttributeError\u001b[0m                            Traceback (most recent call last)",
      "Cell \u001b[1;32mIn[12], line 1\u001b[0m\n\u001b[1;32m----> 1\u001b[0m \u001b[43mss\u001b[49m\u001b[38;5;241;43m.\u001b[39;49m\u001b[43mmega_power\u001b[49m \u001b[38;5;241m=\u001b[39m \u001b[38;5;241m999\u001b[39m\n",
      "\u001b[1;31mAttributeError\u001b[0m: 'SuperStudent' object has no attribute 'mega_power'"
     ]
    }
   ],
   "source": [
    "ss.mega_power = 999"
   ]
  },
  {
   "cell_type": "markdown",
   "id": "de306d17",
   "metadata": {},
   "source": [
    "## 11_2 使用 ```@property```\n",
    "\n",
    "在 10.2 节中描述了类的访问限制相关的内容。\n",
    "\n",
    "我们需要设置方法(set_val(), get_val())来对类的属性进行访问和修改，但是使用起来比较繁琐，需要反复调用函数。\n",
    "\n",
    "那么能不能在限制访问后，依旧可以像直接调用属性一样访问和修改呢？ \n",
    "于是有了 ```@property```\n",
    "\n",
    "例如：\n",
    "```python\n",
    "class Student(object):\n",
    "    @property\n",
    "    def birth(self):\n",
    "        return self._birth\n",
    "\n",
    "    @birth.setter\n",
    "    def birth(self, value):\n",
    "        self._birth = value\n",
    "\n",
    "    @property\n",
    "    def age(self):\n",
    "        return 2015 - self._birth\n",
    "```\n",
    "\n",
    "birth 设置了 @property 和 @birth.setter 可以通过属性的方式访问和修改。\n",
    "\n",
    "age 只设置了 @property， 则只能通过属性方法访问，无法修改。相当于一个只读属性。\n",
    "\n",
    "### Practise\n",
    "\n",
    "请利用```@property```给一个```Screen```对象加上```width```和```height```属性，以及一个只读属性```resolution```："
   ]
  },
  {
   "cell_type": "code",
   "execution_count": 3,
   "id": "e2de08c4",
   "metadata": {},
   "outputs": [
    {
     "name": "stdout",
     "output_type": "stream",
     "text": [
      "resolution = 786432\n",
      "测试通过!\n"
     ]
    }
   ],
   "source": [
    "class Screen(object):\n",
    "\n",
    "    def __init__(self):\n",
    "        self._width = 0\n",
    "        self._height = 0\n",
    "    \n",
    "    @property\n",
    "    def width(self):\n",
    "        return self._width\n",
    "    \n",
    "    @width.setter\n",
    "    def width(self, val):\n",
    "        self._width = val\n",
    "\n",
    "    @property\n",
    "    def height(self):\n",
    "        return self._height\n",
    "    \n",
    "    @height.setter\n",
    "    def height(self, val):\n",
    "        self._height = val\n",
    "\n",
    "    @property\n",
    "    def resolution(self):\n",
    "        return self._width * self._height\n",
    "    \n",
    "\n",
    "# 测试:\n",
    "s = Screen()\n",
    "s.width = 1024\n",
    "s.height = 768\n",
    "print('resolution =', s.resolution)\n",
    "if s.resolution == 786432:\n",
    "    print('测试通过!')\n",
    "else:\n",
    "    print('测试失败!')"
   ]
  },
  {
   "cell_type": "markdown",
   "id": "cc2775c3",
   "metadata": {},
   "source": [
    "## 11.3 多重继承\n",
    "\n",
    "通过多重继承，一个子类就可以同时获得多个父类的所有功能。\n",
    "\n",
    "例如动物可以分为哺乳类和鸟类， 根据是否能飞行，鸟类和哺乳类又可以各自分为 2 类，\n",
    "\n",
    "共计 $2^2 = 4$ 种。\n",
    "\n",
    "如果进一步根据是否能当宠物，每一种子类又可以划分为 2 类。\n",
    "\n",
    "共计 $2^3=8$ 种\n",
    "\n",
    "可以看到类的数目呈指数级增长。\n",
    "\n",
    "这时我们可以通过定义 能飞行的类，不能飞行的类。\n",
    "\n",
    "通过同时继承鸟类和不能飞行，实习不能飞行的鸟类。\n",
    "\n",
    "对于哺乳类和能否当宠物同理，这样类别的增长就是线性的。"
   ]
  },
  {
   "cell_type": "code",
   "execution_count": null,
   "id": "7441e966",
   "metadata": {},
   "outputs": [],
   "source": [
    "class Animal(object):\n",
    "    pass\n",
    "\n",
    "# 大类:\n",
    "class Mammal(Animal):\n",
    "    pass\n",
    "\n",
    "class Bird(Animal):\n",
    "    pass\n",
    "\n",
    "# 各种动物:\n",
    "class Dog(Mammal):\n",
    "    pass\n",
    "\n",
    "class Bat(Mammal):\n",
    "    pass\n",
    "\n",
    "class Parrot(Bird):\n",
    "    pass\n",
    "\n",
    "class Ostrich(Bird):\n",
    "    pass\n",
    "\n",
    "class Runnable(object):\n",
    "    def run(self):\n",
    "        print('Running...')\n",
    "\n",
    "class Flyable(object):\n",
    "    def fly(self):\n",
    "        print('Flying...')\n",
    "\n",
    "\n",
    "class Dog(Mammal, Runnable):\n",
    "    pass\n",
    "\n",
    "class Bat(Mammal, Flyable):\n",
    "    pass\n"
   ]
  }
 ],
 "metadata": {
  "kernelspec": {
   "display_name": "base",
   "language": "python",
   "name": "python3"
  },
  "language_info": {
   "codemirror_mode": {
    "name": "ipython",
    "version": 3
   },
   "file_extension": ".py",
   "mimetype": "text/x-python",
   "name": "python",
   "nbconvert_exporter": "python",
   "pygments_lexer": "ipython3",
   "version": "3.12.3"
  }
 },
 "nbformat": 4,
 "nbformat_minor": 5
}
