{
 "cells": [
  {
   "cell_type": "markdown",
   "id": "19b041a1",
   "metadata": {},
   "source": [
    "- MUA：Mail User Agent\n",
    "- MTA：Mail Transfer Agent\n",
    "- MDA：Mail Delivery Agent\n",
    "\n",
    "发件人 -> MUA -> MTA -> MTA -> 若干个MTA -> MDA <- MUA <- 收件人\n",
    "\n",
    "发邮件: SMTP：Simple Mail Transfer Protocol.(MUA->MTA, MTA->MTA)\n",
    "收邮件: POP：Post Office Protocol； 和 IMAP：Internet Message Access Protocol."
   ]
  },
  {
   "cell_type": "markdown",
   "id": "0c5fb5f1",
   "metadata": {},
   "source": []
  },
  {
   "cell_type": "markdown",
   "id": "1aae9a74",
   "metadata": {},
   "source": []
  }
 ],
 "metadata": {
  "language_info": {
   "name": "python"
  }
 },
 "nbformat": 4,
 "nbformat_minor": 5
}
