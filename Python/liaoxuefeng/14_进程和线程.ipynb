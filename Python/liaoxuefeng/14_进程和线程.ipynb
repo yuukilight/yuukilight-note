{
 "cells": [
  {
   "cell_type": "markdown",
   "id": "cc2caa2f",
   "metadata": {},
   "source": [
    "线程是最小的执行单元，而进程由至少一个线程组成。如何调度进程和线程，完全由操作系统决定，程序自己不能决定什么时候执行，执行多长时间。\n",
    "\n",
    "多进程和多线程的程序涉及到同步、数据共享的问题，编写起来更复杂。"
   ]
  },
  {
   "cell_type": "markdown",
   "id": "08022f57",
   "metadata": {},
   "source": [
    "## 14.1 多进程\n",
    "\n",
    "- fork (without window)\n",
    "- multiprocessing(跨平台)\n",
    "- Pool\n",
    "- 子进程，subprocess，```communicate()```, 外部进程\n",
    "- 进程间通信(Queue, Pipes)"
   ]
  },
  {
   "cell_type": "markdown",
   "id": "50a4d1dd",
   "metadata": {},
   "source": [
    "- fork\n",
    "```python\n",
    "import os\n",
    "\n",
    "print('Process (%s) start...' % os.getpid())\n",
    "# Only works on Unix/Linux/macOS:\n",
    "pid = os.fork()\n",
    "if pid == 0:\n",
    "    print('I am child process (%s) and my parent is %s.' % (os.getpid(), os.getppid()))\n",
    "else:\n",
    "    print('I (%s) just created a child process (%s).' % (os.getpid(), pid))\n",
    "```\n",
    "运行结果如下：\n",
    "```bash\n",
    "Process (876) start...\n",
    "I (876) just created a child process (877).\n",
    "I am child process (877) and my parent is 876.\n",
    "```"
   ]
  },
  {
   "cell_type": "markdown",
   "id": "241a61d3",
   "metadata": {},
   "source": [
    "- multiprocessing"
   ]
  },
  {
   "cell_type": "code",
   "execution_count": 6,
   "id": "1ca0a292",
   "metadata": {},
   "outputs": [
    {
     "name": "stdout",
     "output_type": "stream",
     "text": [
      "Parent process 9784.\n",
      "Child process will start.\n",
      "Child process end.\n"
     ]
    }
   ],
   "source": [
    "from multiprocessing import Process\n",
    "import os\n",
    "\n",
    "# 子进程要执行的代码\n",
    "def run_proc(name):\n",
    "    print('Run child process %s (%s)...' % (name, os.getpid()))\n",
    "\n",
    "if __name__=='__main__':\n",
    "    print('Parent process %s.' % os.getpid())\n",
    "    p = Process(target=run_proc, args=('test',))\n",
    "    print('Child process will start.')\n",
    "    p.start()\n",
    "    p.join()\n",
    "    print('Child process end.')"
   ]
  },
  {
   "cell_type": "code",
   "execution_count": null,
   "id": "ea370ebb",
   "metadata": {},
   "outputs": [
    {
     "name": "stdout",
     "output_type": "stream",
     "text": [
      "$ nslookup www.python.org\n",
      "Exit code: 0\n"
     ]
    }
   ],
   "source": [
    "import subprocess\n",
    "\n",
    "print('$ nslookup www.python.org')\n",
    "r = subprocess.call(['nslookup', 'www.python.org'])\n",
    "print('Exit code:', r)"
   ]
  },
  {
   "cell_type": "markdown",
   "id": "e47dac34",
   "metadata": {},
   "source": [
    "### 小结\n",
    "在Unix/Linux下，可以使用fork()调用实现多进程。\n",
    "\n",
    "要实现跨平台的多进程，可以使用multiprocessing模块。\n",
    "\n",
    "进程间通信是通过Queue、Pipes等实现的。"
   ]
  },
  {
   "cell_type": "markdown",
   "id": "67130e86",
   "metadata": {},
   "source": [
    "## 14.2 多线程\n",
    "\n",
    "\n"
   ]
  },
  {
   "cell_type": "code",
   "execution_count": 8,
   "id": "fee00e4e",
   "metadata": {},
   "outputs": [
    {
     "name": "stdout",
     "output_type": "stream",
     "text": [
      "thread MainThread is running...\n",
      "thread LoopThread is running...\n",
      "thread LoopThread >>> 1\n",
      "thread LoopThread >>> 2\n",
      "thread LoopThread >>> 3\n",
      "thread LoopThread >>> 4\n",
      "thread LoopThread >>> 5\n",
      "thread LoopThread ended.\n",
      "thread MainThread ended.\n"
     ]
    }
   ],
   "source": [
    "import time, threading\n",
    "\n",
    "# 新线程执行的代码:\n",
    "def loop():\n",
    "    print('thread %s is running...' % threading.current_thread().name)\n",
    "    n = 0\n",
    "    while n < 5:\n",
    "        n = n + 1\n",
    "        print('thread %s >>> %s' % (threading.current_thread().name, n))\n",
    "        time.sleep(1)\n",
    "    print('thread %s ended.' % threading.current_thread().name)\n",
    "\n",
    "print('thread %s is running...' % threading.current_thread().name)\n",
    "t = threading.Thread(target=loop, name='LoopThread')\n",
    "t.start()\n",
    "t.join()\n",
    "print('thread %s ended.' % threading.current_thread().name)\n"
   ]
  },
  {
   "cell_type": "markdown",
   "id": "2d3421ab",
   "metadata": {},
   "source": [
    "### 小结\n",
    "多线程编程，模型复杂，容易发生冲突，必须用锁加以隔离，同时，又要小心死锁的发生。\n",
    "\n",
    "Python解释器由于设计时有GIL全局锁，导致了多线程无法利用多核。多线程的并发在Python中就是一个美丽的梦。"
   ]
  },
  {
   "cell_type": "markdown",
   "id": "384903f9",
   "metadata": {},
   "source": [
    "## 14.3 ThreadLocal\n",
    "\n",
    "线程局部变量\n",
    "\n",
    "参数传递\n",
    "\n",
    "全局变量，用 ```threading.current_thread()``` 索引查询。\n",
    "\n",
    "threadlocal\n",
    "\n",
    "### 小结\n",
    "一个ThreadLocal变量虽然是全局变量，但每个线程都只能读写自己线程的独立副本，互不干扰。ThreadLocal解决了参数在一个线程中各个函数之间互相传递的问题。"
   ]
  },
  {
   "cell_type": "markdown",
   "id": "a242364e",
   "metadata": {},
   "source": [
    "## 14.4 进程 vs. 线程\n",
    "\n",
    "- 多任务\n",
    "- Master-Worker\n",
    "- window 创建进程开销大，操作系统能同时运行的进程数有限\n",
    "- 多进程相互独立, 多线程一个线程崩溃整体崩溃。“该程序执行了非法操作，即将关闭”，其实往往是某个线程出了问题，但是操作系统会强制结束整个进程。\n",
    "- 线程切换开销\n",
    "- IO密集和计算密集\n",
    "- 异步IO，协程"
   ]
  },
  {
   "cell_type": "markdown",
   "id": "229c2377",
   "metadata": {},
   "source": [
    "## 14.5 分布式进程\n",
    "\n",
    "Process 更稳定且可以分布到多台机器上执行\n",
    "\n",
    "master: multiprocessing.managers 中注册 Queue 并关联， 绑定端口。通过 managers 封装的接口访问 queue\n",
    "\n",
    "worker: multiprocessing.managers 中注册 Queue 并关联， 连接服务端。通过 managers 封装的接口访问 queue\n",
    "\n",
    "### 小结\n",
    "Python的分布式进程接口简单，封装良好，适合需要把繁重任务分布到多台机器的环境下。\n",
    "\n",
    "注意Queue的作用是用来传递任务和接收结果，每个任务的描述数据量要尽量小。比如发送一个处理日志文件的任务，就不要发送几百兆的日志文件本身，而是发送日志文件存放的完整路径，由Worker进程再去共享的磁盘上读取文件。"
   ]
  },
  {
   "cell_type": "markdown",
   "id": "9a36936b",
   "metadata": {},
   "source": []
  }
 ],
 "metadata": {
  "kernelspec": {
   "display_name": "base",
   "language": "python",
   "name": "python3"
  },
  "language_info": {
   "codemirror_mode": {
    "name": "ipython",
    "version": 3
   },
   "file_extension": ".py",
   "mimetype": "text/x-python",
   "name": "python",
   "nbconvert_exporter": "python",
   "pygments_lexer": "ipython3",
   "version": "3.12.3"
  }
 },
 "nbformat": 4,
 "nbformat_minor": 5
}
