{
 "cells": [
  {
   "cell_type": "markdown",
   "id": "0ced3fa7",
   "metadata": {},
   "source": [
    "## 10.2 类的访问限制\n",
    "\n",
    "### practise\n",
    "\n",
    "请把下面的Student对象的gender字段对外隐藏起来，用get_gender()和set_gender()代替，并检查参数有效性："
   ]
  },
  {
   "cell_type": "code",
   "execution_count": 1,
   "id": "f9695609",
   "metadata": {},
   "outputs": [
    {
     "name": "stdout",
     "output_type": "stream",
     "text": [
      "测试成功!\n"
     ]
    }
   ],
   "source": [
    "class Student(object):\n",
    "    def __init__(self, name, gender):\n",
    "        self._name = name\n",
    "        self._gender = gender\n",
    "\n",
    "    def get_gender(self):\n",
    "        return self._gender\n",
    "\n",
    "    def set_gender(self, gender):\n",
    "        self._gender = gender\n",
    "\n",
    "# 测试:\n",
    "bart = Student('Bart', 'male')\n",
    "if bart.get_gender() != 'male':\n",
    "    print('测试失败!')\n",
    "else:\n",
    "    bart.set_gender('female')\n",
    "    if bart.get_gender() != 'female':\n",
    "        print('测试失败!')\n",
    "    else:\n",
    "        print('测试成功!')\n"
   ]
  },
  {
   "cell_type": "markdown",
   "id": "40ab6fd7",
   "metadata": {},
   "source": [
    "## 10.4 获取对象信息\n",
    "\n",
    "type(): 输出 对象/函数 所属于的类型。\n",
    "\n",
    "isinstance(): 判断对象是否属于某个类型。子类属于父类。\n",
    "\n",
    "dir(): 获得一个对象的所有属性和方法。\n",
    "\n",
    "仅仅把属性和方法列出来是不够的，配合```getattr()```、```setattr()```以及```hasattr()```，我们可以直接操作一个对象的状态："
   ]
  },
  {
   "cell_type": "markdown",
   "id": "5ca14d98",
   "metadata": {},
   "source": [
    "## 10.5 实例属性和类属性\n",
    "\n",
    "优先访问实例属性，实例属性未找到则访问类属性。\n",
    "\n",
    "因此尽量避免类属性和实例属性同名。"
   ]
  },
  {
   "cell_type": "markdown",
   "id": "31c202f4",
   "metadata": {},
   "source": [
    "### practise\n",
    "为了统计学生人数，可以给Student类增加一个类属性，每创建一个实例，该属性自动增加："
   ]
  },
  {
   "cell_type": "code",
   "execution_count": 6,
   "id": "de26068f",
   "metadata": {},
   "outputs": [
    {
     "name": "stdout",
     "output_type": "stream",
     "text": [
      "Students: 2\n",
      "测试通过!\n"
     ]
    }
   ],
   "source": [
    "class Student(object):\n",
    "    count = 0\n",
    "\n",
    "    def __init__(self, name):\n",
    "        self.name = name\n",
    "        self.count_add()\n",
    "\n",
    "    @classmethod\n",
    "    def count_add(cls):\n",
    "        cls.count += 1\n",
    "\n",
    "# 测试:\n",
    "if Student.count != 0:\n",
    "    print('测试失败!')\n",
    "else:\n",
    "    bart = Student('Bart')\n",
    "    if Student.count != 1:\n",
    "        print('测试失败!')\n",
    "    else:\n",
    "        lisa = Student('Bart')\n",
    "        if Student.count != 2:\n",
    "            print('测试失败!')\n",
    "        else:\n",
    "            print('Students:', Student.count)\n",
    "            print('测试通过!')\n"
   ]
  },
  {
   "cell_type": "code",
   "execution_count": null,
   "id": "3efd35a1",
   "metadata": {},
   "outputs": [],
   "source": []
  }
 ],
 "metadata": {
  "kernelspec": {
   "display_name": "base",
   "language": "python",
   "name": "python3"
  },
  "language_info": {
   "codemirror_mode": {
    "name": "ipython",
    "version": 3
   },
   "file_extension": ".py",
   "mimetype": "text/x-python",
   "name": "python",
   "nbconvert_exporter": "python",
   "pygments_lexer": "ipython3",
   "version": "3.12.3"
  }
 },
 "nbformat": 4,
 "nbformat_minor": 5
}
