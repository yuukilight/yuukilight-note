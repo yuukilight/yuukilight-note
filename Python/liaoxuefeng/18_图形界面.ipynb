{
 "cells": [
  {
   "cell_type": "markdown",
   "id": "f6496616",
   "metadata": {},
   "source": [
    "- Tk\n",
    "- wxWidgets\n",
    "- Qt\n",
    "- GTK\n",
    "- turtle"
   ]
  },
  {
   "cell_type": "markdown",
   "id": "384f2f19",
   "metadata": {},
   "source": []
  },
  {
   "cell_type": "markdown",
   "id": "d5b33f3c",
   "metadata": {},
   "source": []
  }
 ],
 "metadata": {
  "language_info": {
   "name": "python"
  }
 },
 "nbformat": 4,
 "nbformat_minor": 5
}
