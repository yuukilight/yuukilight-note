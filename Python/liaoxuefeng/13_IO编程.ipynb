{
 "cells": [
  {
   "cell_type": "markdown",
   "id": "9603023d",
   "metadata": {},
   "source": [
    "- stram\n",
    "- 速度匹配\n",
    "- 同步，异步\n",
    "- \n",
    "注意，本章的IO编程都是同步模式，异步IO由于复杂度太高，后续涉及到服务器端程序开发时我们再讨论。"
   ]
  },
  {
   "cell_type": "markdown",
   "id": "40e46603",
   "metadata": {},
   "source": [
    "## 13.1 文件读写\n",
    "\n",
    "### read\n",
    "- 操作系统、磁盘\n",
    "- ```try...finally```\n",
    "- ```with...close```\n",
    "- ```read()```, ```read(size)```, ```readline()```, ```readlines()```\n",
    "```python\n",
    "for line in f.readlines():\n",
    "    print(line.strip()) # 把末尾的'\\n'删掉\n",
    "\n",
    "```"
   ]
  },
  {
   "cell_type": "markdown",
   "id": "017058df",
   "metadata": {},
   "source": [
    "- file-like Object\n",
    "- ```open()```, ```read()```\n",
    "- ```open(\"xxxxxxxxx\", \"rb\")```\n",
    "- ```open('xxxxxx', 'r', encoding='gbk')```\n",
    "- ```open('xxxxxx', 'r', encoding='gbk', errors='ignore')```"
   ]
  },
  {
   "cell_type": "markdown",
   "id": "7338f8a3",
   "metadata": {},
   "source": [
    "### write\n",
    "\n",
    "- ```'w'```, ```'wb'```\n",
    "- ```write()``` -> buffer -> file, f.close() -> finish.\n",
    "- ```'w'```, ```'a'```  [参数说明](https://docs.python.org/3/library/functions.html#open)"
   ]
  },
  {
   "cell_type": "markdown",
   "id": "f5562412",
   "metadata": {
    "vscode": {
     "languageId": "plaintext"
    }
   },
   "source": [
    "### practise\n",
    "\n",
    "请将本地一个文本文件读为一个str并打印出来："
   ]
  },
  {
   "cell_type": "code",
   "execution_count": 2,
   "id": "96dfa1c6",
   "metadata": {},
   "outputs": [
    {
     "name": "stdout",
     "output_type": "stream",
     "text": [
      "Writing tt\n"
     ]
    }
   ],
   "source": [
    "%%writefile tt\n",
    "\n",
    "123\n",
    "321"
   ]
  },
  {
   "cell_type": "code",
   "execution_count": 3,
   "id": "75d816d0",
   "metadata": {},
   "outputs": [
    {
     "name": "stdout",
     "output_type": "stream",
     "text": [
      "\n",
      "123\n",
      "321\n",
      "\n"
     ]
    }
   ],
   "source": [
    "fpath = r'./tt'\n",
    "\n",
    "with open(fpath, 'r') as f:\n",
    "    s = f.read()\n",
    "    print(s)\n",
    "\n",
    "# 运行代码观察结果\n"
   ]
  },
  {
   "cell_type": "markdown",
   "id": "e79b9805",
   "metadata": {},
   "source": [
    "在Python中，文件读写是通过```open()```函数打开的文件对象完成的。使用```with```语句操作文件IO是个好习惯。"
   ]
  },
  {
   "cell_type": "markdown",
   "id": "8f3c6527",
   "metadata": {},
   "source": [
    "## 13.2 StringIO 和 BytesIO\n",
    "\n",
    "模拟\n",
    "\n",
    "### 小结\n",
    "```StringIO```和```BytesIO```是在内存中操作```str```和```bytes```的方法，使得和读写文件具有一致的接口。"
   ]
  },
  {
   "cell_type": "markdown",
   "id": "7320d0d5",
   "metadata": {},
   "source": [
    "## 13.3 操作文件和目录\n",
    "\n",
    "python 中的 ```os``` 模块可以调用操作系统提供的各种接口。\n",
    "\n",
    "因此，通过```os```模块实现各种地址和文件操作可以更好的兼容不同的操作系统。"
   ]
  },
  {
   "cell_type": "markdown",
   "id": "8e1f564d",
   "metadata": {},
   "source": [
    "### practise\n",
    "1. 利用os模块编写一个能实现dir -l输出的程序。\n",
    "2. 编写一个程序，能在当前目录以及当前目录的所有子目录下查找文件名包含指定字符串的文件，并打印出相对路径。(递归查找， list.extend())"
   ]
  },
  {
   "cell_type": "code",
   "execution_count": null,
   "id": "7a7ded63",
   "metadata": {},
   "outputs": [
    {
     "data": {
      "text/plain": [
       "['10_面向对象编程.ipynb',\n",
       " '11_面向对象高级编程.ipynb',\n",
       " '12_错误_调试和测试.ipynb',\n",
       " '13_IO编程.ipynb',\n",
       " '5_Python基础.ipynb',\n",
       " '6_函数.ipynb',\n",
       " '7_高级特性.ipynb',\n",
       " '8_函数式编程.ipynb',\n",
       " '9_模块.ipynb',\n",
       " 'doctest_practise.py',\n",
       " 'mydict_doctest.py',\n",
       " 'README.md',\n",
       " 'tmp.py',\n",
       " 'tt',\n",
       " 'unittest_practise.py']"
      ]
     },
     "execution_count": 4,
     "metadata": {},
     "output_type": "execute_result"
    }
   ],
   "source": [
    "import os\n",
    "os.listdir('.')"
   ]
  },
  {
   "cell_type": "markdown",
   "id": "d9690620",
   "metadata": {},
   "source": [
    "### 小结\n",
    "Python的```os```模块封装了操作系统的目录和文件操作，要注意这些函数有的在```os```模块中，有的在```os.path```模块中。\n",
    "\n",
    "除此以外```shutil```模块中也有很多实用的函数，可以当作对```os```模块的补充。"
   ]
  },
  {
   "cell_type": "markdown",
   "id": "a8c15e81",
   "metadata": {},
   "source": [
    "## 13.4 序列化\n",
    "\n",
    "我们把变量从内存中变成可存储或传输的过程称之为序列化，在Python中叫pickling，在其他语言中也被称之为serialization，marshalling，flattening等等，都是一个意思。\n",
    "\n",
    " 对保存和接收的序列化数据，可以通过反序列化得到保存的信息。\n",
    "\n",
    " Pickle的问题和所有其他编程语言特有的序列化问题一样，就是它只能用于Python，并且可能不同版本的Python彼此都不兼容，因此，只能用Pickle保存那些不重要的数据，不能成功地反序列化也没关系。"
   ]
  },
  {
   "cell_type": "code",
   "execution_count": 5,
   "id": "625d305e",
   "metadata": {},
   "outputs": [
    {
     "data": {
      "text/plain": [
       "b'\\x80\\x04\\x95$\\x00\\x00\\x00\\x00\\x00\\x00\\x00}\\x94(\\x8c\\x04name\\x94\\x8c\\x03Bob\\x94\\x8c\\x03age\\x94K\\x14\\x8c\\x05score\\x94KXu.'"
      ]
     },
     "execution_count": 5,
     "metadata": {},
     "output_type": "execute_result"
    }
   ],
   "source": [
    "import pickle\n",
    "d = dict(name='Bob', age=20, score=88)\n",
    "pickle.dumps(d)"
   ]
  },
  {
   "cell_type": "markdown",
   "id": "24dabe79",
   "metadata": {},
   "source": [
    "### JSON\n",
    "\n",
    "更泛用\n",
    "\n",
    "- default\n",
    "- ```json.load()``` 与 ```json.loads()```"
   ]
  },
  {
   "cell_type": "code",
   "execution_count": 9,
   "id": "8ee44837",
   "metadata": {},
   "outputs": [
    {
     "name": "stdout",
     "output_type": "stream",
     "text": [
      "{\"name\": \"Bob\", \"age\": 20, \"score\": 88}\n"
     ]
    }
   ],
   "source": [
    "import json\n",
    "\n",
    "class Student(object):\n",
    "    def __init__(self, name, age, score):\n",
    "        self.name = name\n",
    "        self.age = age\n",
    "        self.score = score\n",
    "\n",
    "s = Student('Bob', 20, 88)\n",
    "\n",
    "def student2dict(std):\n",
    "    return {\n",
    "        'name': std.name,\n",
    "        'age': std.age,\n",
    "        'score': std.score\n",
    "    }\n",
    "\n",
    "print(json.dumps(s, default=student2dict))"
   ]
  },
  {
   "cell_type": "code",
   "execution_count": 11,
   "id": "a7f82b33",
   "metadata": {},
   "outputs": [
    {
     "name": "stdout",
     "output_type": "stream",
     "text": [
      "[{\"name\": \"Bob\", \"age\": 20, \"score\": 88}, {\"name\": \"QAQ\", \"age\": 28, \"score\": 18}]\n"
     ]
    }
   ],
   "source": [
    "s = [Student('Bob', 20, 88), Student('QAQ', 28, 18)]\n",
    "print(json.dumps(s, default=student2dict))"
   ]
  },
  {
   "cell_type": "code",
   "execution_count": 12,
   "id": "c5e074c1",
   "metadata": {},
   "outputs": [
    {
     "name": "stdout",
     "output_type": "stream",
     "text": [
      "{\"a\": \"A\", \"b\": \"B\"}\n"
     ]
    }
   ],
   "source": [
    "print(json.dumps({'a':'A', 'b': 'B'}, default=student2dict))"
   ]
  },
  {
   "cell_type": "code",
   "execution_count": 26,
   "id": "5f890cb6",
   "metadata": {},
   "outputs": [
    {
     "data": {
      "text/plain": [
       "'{\"name\": \"\\\\u5c0f\\\\u660e\", \"age\": 20}'"
      ]
     },
     "execution_count": 26,
     "metadata": {},
     "output_type": "execute_result"
    }
   ],
   "source": [
    "import json\n",
    "\n",
    "obj = dict(name='小明', age=20)\n",
    "s = json.dumps(obj, ensure_ascii=True)\n",
    "s\n",
    "# json.load(s, ensure_ascii=False)"
   ]
  },
  {
   "cell_type": "code",
   "execution_count": 27,
   "id": "9bf89adf",
   "metadata": {},
   "outputs": [
    {
     "data": {
      "text/plain": [
       "{'name': '小明', 'age': 20}"
      ]
     },
     "execution_count": 27,
     "metadata": {},
     "output_type": "execute_result"
    }
   ],
   "source": [
    "json.loads(s)"
   ]
  },
  {
   "cell_type": "markdown",
   "id": "85d790c2",
   "metadata": {},
   "source": [
    "### 小结\n",
    "Python语言特定的序列化模块是```pickle```，但如果要把序列化搞得更通用、更符合Web标准，就可以使用```json```模块。\n",
    "\n",
    "```json```模块的```dumps()```和```loads()```函数是定义得非常好的接口的典范。当我们使用时，只需要传入一个必须的参数。但是，当默认的序列化或反序列机制不满足我们的要求时，我们又可以传入更多的参数来定制序列化或反序列化的规则，既做到了接口简单易用，又做到了充分的扩展性和灵活性。"
   ]
  },
  {
   "cell_type": "markdown",
   "id": "4b253803",
   "metadata": {},
   "source": []
  }
 ],
 "metadata": {
  "kernelspec": {
   "display_name": "base",
   "language": "python",
   "name": "python3"
  },
  "language_info": {
   "codemirror_mode": {
    "name": "ipython",
    "version": 3
   },
   "file_extension": ".py",
   "mimetype": "text/x-python",
   "name": "python",
   "nbconvert_exporter": "python",
   "pygments_lexer": "ipython3",
   "version": "3.12.3"
  }
 },
 "nbformat": 4,
 "nbformat_minor": 5
}
