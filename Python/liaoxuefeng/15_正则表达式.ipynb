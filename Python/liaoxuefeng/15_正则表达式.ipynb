{
 "cells": [
  {
   "cell_type": "markdown",
   "id": "ea1cdf73",
   "metadata": {},
   "source": [
    "## Re 模块\n",
    "\n",
    "```match()```方法判断是否匹配，如果匹配成功，返回一个Match对象，否则返回None。常见的判断方法就是：\n",
    "\n",
    "```python\n",
    "test = '用户输入的字符串'\n",
    "if re.match(r'正则表达式', test):\n",
    "    print('ok')\n",
    "else:\n",
    "    print('failed')\n",
    "```"
   ]
  },
  {
   "cell_type": "markdown",
   "id": "9b1794f3",
   "metadata": {},
   "source": [
    "## 切分字符串\n",
    "\n"
   ]
  },
  {
   "cell_type": "code",
   "execution_count": 1,
   "id": "a10654b0",
   "metadata": {},
   "outputs": [
    {
     "data": {
      "text/plain": [
       "['a', 'b', '', '', 'c']"
      ]
     },
     "execution_count": 1,
     "metadata": {},
     "output_type": "execute_result"
    }
   ],
   "source": [
    "'a b   c'.split(' ')"
   ]
  },
  {
   "cell_type": "code",
   "execution_count": 3,
   "id": "601e994f",
   "metadata": {},
   "outputs": [
    {
     "data": {
      "text/plain": [
       "['a', 'b', 'c']"
      ]
     },
     "execution_count": 3,
     "metadata": {},
     "output_type": "execute_result"
    }
   ],
   "source": [
    "import re\n",
    "re.split(r'\\s+', 'a b   c')"
   ]
  },
  {
   "cell_type": "code",
   "execution_count": 4,
   "id": "6bb975a0",
   "metadata": {},
   "outputs": [
    {
     "data": {
      "text/plain": [
       "['a', 'b', 'c', 'd']"
      ]
     },
     "execution_count": 4,
     "metadata": {},
     "output_type": "execute_result"
    }
   ],
   "source": [
    "re.split(r'[\\s\\,]+', 'a,b, c  d')"
   ]
  },
  {
   "cell_type": "code",
   "execution_count": 5,
   "id": "22ce7bd1",
   "metadata": {},
   "outputs": [
    {
     "data": {
      "text/plain": [
       "['a', 'b', 'c', 'd']"
      ]
     },
     "execution_count": 5,
     "metadata": {},
     "output_type": "execute_result"
    }
   ],
   "source": [
    "re.split(r'[\\s\\,\\;]+', 'a,b;; c  d')"
   ]
  },
  {
   "cell_type": "markdown",
   "id": "eace07e9",
   "metadata": {},
   "source": [
    "如果用户输入了一组标签，下次记得用正则表达式来把不规范的输入转化成正确的数组。"
   ]
  },
  {
   "cell_type": "markdown",
   "id": "e7bc7a24",
   "metadata": {},
   "source": [
    "## 分组\n",
    "\n",
    "用()表示的就是要提取的分组（Group）"
   ]
  },
  {
   "cell_type": "code",
   "execution_count": 6,
   "id": "3634bcbc",
   "metadata": {},
   "outputs": [
    {
     "data": {
      "text/plain": [
       "<re.Match object; span=(0, 9), match='010-12345'>"
      ]
     },
     "execution_count": 6,
     "metadata": {},
     "output_type": "execute_result"
    }
   ],
   "source": [
    "m = re.match(r'^(\\d{3})-(\\d{3,8})$', '010-12345')\n",
    "m"
   ]
  },
  {
   "cell_type": "code",
   "execution_count": 7,
   "id": "0b2790b6",
   "metadata": {},
   "outputs": [
    {
     "name": "stdout",
     "output_type": "stream",
     "text": [
      "010-12345\n",
      "010\n",
      "12345\n"
     ]
    }
   ],
   "source": [
    "print(m.group(0))\n",
    "print(m.group(1))\n",
    "print(m.group(2))"
   ]
  },
  {
   "cell_type": "markdown",
   "id": "9924ef87",
   "metadata": {},
   "source": [
    "## 贪婪匹配\n",
    "\n",
    "最后需要特别指出的是，正则匹配默认是贪婪匹配，也就是匹配尽可能多的字符。"
   ]
  },
  {
   "cell_type": "code",
   "execution_count": 8,
   "id": "7cd66743",
   "metadata": {},
   "outputs": [
    {
     "data": {
      "text/plain": [
       "('102300', '')"
      ]
     },
     "execution_count": 8,
     "metadata": {},
     "output_type": "execute_result"
    }
   ],
   "source": [
    "re.match(r'^(\\d+)(0*)$', '102300').groups()"
   ]
  },
  {
   "cell_type": "code",
   "execution_count": 9,
   "id": "5e52da27",
   "metadata": {},
   "outputs": [
    {
     "data": {
      "text/plain": [
       "('1023', '00')"
      ]
     },
     "execution_count": 9,
     "metadata": {},
     "output_type": "execute_result"
    }
   ],
   "source": [
    "re.match(r'^(\\d+?)(0*)$', '102300').groups()"
   ]
  },
  {
   "cell_type": "markdown",
   "id": "307f1919",
   "metadata": {},
   "source": [
    "## 编译\n",
    "\n",
    "当我们在Python中使用正则表达式时，re模块内部会干两件事情：\n",
    "\n",
    "1. 编译正则表达式，如果正则表达式的字符串本身不合法，会报错；\n",
    "2. 用编译后的正则表达式去匹配字符串。\n",
    "\n",
    "如果一个正则表达式要重复使用几千次，出于效率的考虑，我们可以预编译该正则表达式，接下来重复使用时就不需要编译这个步骤了，直接匹配："
   ]
  },
  {
   "cell_type": "code",
   "execution_count": 12,
   "id": "5898f564",
   "metadata": {},
   "outputs": [
    {
     "name": "stdout",
     "output_type": "stream",
     "text": [
      "('010', '12345')\n",
      "('010', '8086')\n",
      "re.compile('^(\\\\d{3})-(\\\\d{3,8})$')\n"
     ]
    }
   ],
   "source": [
    "import re\n",
    "\n",
    "# 编译\n",
    "re_telephone = re.compile(r'^(\\d{3})-(\\d{3,8})$')\n",
    "\n",
    "# 使用\n",
    "print(re_telephone.match('010-12345').groups())\n",
    "\n",
    "print(re_telephone.match('010-8086').groups())\n",
    "\n",
    "print(re_telephone)"
   ]
  },
  {
   "cell_type": "markdown",
   "id": "941f46cc",
   "metadata": {},
   "source": [
    "## 小结\n",
    "正则表达式非常强大，要在短短的一节里讲完是不可能的。要讲清楚正则的所有内容，可以写一本厚厚的书了。如果你经常遇到正则表达式的问题，你可能需要一本正则表达式的参考书。"
   ]
  },
  {
   "cell_type": "markdown",
   "id": "13f06882",
   "metadata": {},
   "source": [
    "## practise\n",
    "请尝试写一个验证Email地址的正则表达式。版本一应该可以验证出类似的Email：\n",
    "\n",
    "- someone@gmail.com\n",
    "- bill.gates@microsoft.com"
   ]
  },
  {
   "cell_type": "code",
   "execution_count": 19,
   "id": "2fe802aa",
   "metadata": {},
   "outputs": [
    {
     "name": "stdout",
     "output_type": "stream",
     "text": [
      "ok\n"
     ]
    }
   ],
   "source": [
    "import re\n",
    "\n",
    "re_email = re.compile(r'^[a-zA-Z0-9._%+]+@[a-zA-Z0-9.-]+\\.[a-zA-Z]{2,}$')\n",
    "\n",
    "def is_valid_email(addr):\n",
    "    if re_email.match(addr):\n",
    "        return True\n",
    "    else:\n",
    "        return False\n",
    "\n",
    "# 测试:\n",
    "assert is_valid_email('someone@gmail.com')\n",
    "assert is_valid_email('bill.gates@microsoft.com')\n",
    "assert not is_valid_email('bob#example.com')\n",
    "assert not is_valid_email('mr-bob@example.com')\n",
    "print('ok')"
   ]
  },
  {
   "cell_type": "markdown",
   "id": "e6584545",
   "metadata": {},
   "source": [
    "版本二可以提取出带名字的Email地址：\n",
    "\n",
    "- <Tom Paris> tom@voyager.org => Tom Paris\n",
    "- bob@example.com => bob"
   ]
  },
  {
   "cell_type": "code",
   "execution_count": 20,
   "id": "3b1572e2",
   "metadata": {},
   "outputs": [
    {
     "name": "stdout",
     "output_type": "stream",
     "text": [
      "ok\n"
     ]
    }
   ],
   "source": [
    "import re\n",
    "\n",
    "re_email = re.compile(r'(?:<(?P<name>[^<>]+)>\\s*)?(?P<email>(?P<user>[a-zA-Z0-9._%+-]+)@[a-zA-Z0-9.-]+\\.[a-zA-Z]{2,})')\n",
    "\n",
    "def name_of_email(addr):\n",
    "    match = re_email.match(addr)\n",
    "    if not match:\n",
    "        return None\n",
    "    return match.group(\"name\") or match.group(\"user\")\n",
    "\n",
    "# 测试:\n",
    "assert name_of_email('<Tom Paris> tom@voyager.org') == 'Tom Paris'\n",
    "assert name_of_email('tom@voyager.org') == 'tom'\n",
    "print('ok')"
   ]
  },
  {
   "cell_type": "code",
   "execution_count": null,
   "id": "56387b38",
   "metadata": {},
   "outputs": [],
   "source": []
  }
 ],
 "metadata": {
  "kernelspec": {
   "display_name": "base",
   "language": "python",
   "name": "python3"
  },
  "language_info": {
   "codemirror_mode": {
    "name": "ipython",
    "version": 3
   },
   "file_extension": ".py",
   "mimetype": "text/x-python",
   "name": "python",
   "nbconvert_exporter": "python",
   "pygments_lexer": "ipython3",
   "version": "3.12.3"
  }
 },
 "nbformat": 4,
 "nbformat_minor": 5
}
