{
 "cells": [
  {
   "cell_type": "markdown",
   "id": "417fa533",
   "metadata": {},
   "source": [
    "网络通信是两台计算机上的两个进程之间的通信\n",
    "\n",
    "用Python进行网络编程，就是在Python程序本身这个进程内，连接别的服务器进程的通信端口进行通信。"
   ]
  },
  {
   "cell_type": "markdown",
   "id": "9e91ab9d",
   "metadata": {},
   "source": [
    "## TCP/IP\n",
    "主机有自己的 IP 地址\n",
    "程度向主机（操作系统） 申请属于自己的端口"
   ]
  },
  {
   "cell_type": "markdown",
   "id": "de834de0",
   "metadata": {
    "vscode": {
     "languageId": "plaintext"
    }
   },
   "source": [
    "## TCP编程\n",
    "- 可靠连接\n",
    "- stream\n",
    "- socket\n",
    "- 客户端\n",
    "- 服务器\n",
    "- 127.0.0.1\n",
    "- 端口固定服务，大于1024自定义\n",
    "- 同一个端口，被一个Socket绑定了以后，就不能被别的Socket绑定了。"
   ]
  },
  {
   "cell_type": "markdown",
   "id": "b8afdcd0",
   "metadata": {},
   "source": [
    "## UDP编程\n",
    "TCP是建立可靠连接，并且通信双方都可以以流的形式发送数据。相对TCP，UDP则是面向无连接的协议。\n",
    "\n",
    "使用UDP协议时，不需要建立连接，只需要知道对方的IP地址和端口号，就可以直接发数据包。但是，能不能到达就不知道了。\n",
    "\n",
    "- 速度快\n",
    "### 小结\n",
    "UDP的使用与TCP类似，但是不需要建立连接。此外，服务器绑定UDP端口和TCP端口互不冲突，也就是说，UDP的9999端口与TCP的9999端口可以各自绑定。"
   ]
  }
 ],
 "metadata": {
  "language_info": {
   "name": "python"
  }
 },
 "nbformat": 4,
 "nbformat_minor": 5
}
