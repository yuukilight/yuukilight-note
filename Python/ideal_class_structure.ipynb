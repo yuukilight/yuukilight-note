{
 "cells": [
  {
   "cell_type": "code",
   "execution_count": 9,
   "id": "76c9ad9a-c4fa-4c3d-9065-d38dbca31782",
   "metadata": {},
   "outputs": [],
   "source": [
    "class SideBar:\n",
    "    DIV: str = 'div'\n",
    "    H1: str = 'h1'\n",
    "    MORE: str = 'more'\n",
    "    MORE_ITEMS_LENGTH: int = 3\n",
    "    SHOULD_COMPRESS_HTML: bool = True\n",
    "\n",
    "    def __init__(\n",
    "        self,\n",
    "        title: str,\n",
    "        menu_items: [str],\n",
    "        more: str = MORE,\n",
    "        more_items_length: int = MORE_ITEMS_LENGTH,\n",
    "        should_compress_html: bool = SHOULD_COMPRESS_HTML\n",
    "    ) -> None:\n",
    "        self.title = title\n",
    "        self.more = more\n",
    "        self.more_items_length = more_items_length\n",
    "        self.should_compress_html = should_compress_html\n",
    "        self.menu_items = menu_items\n",
    "        \n",
    "    def __len__(self):\n",
    "        return len(self.menu_items)\n",
    "    \n",
    "    def __repr__(self):\n",
    "        return f'SideBar: {len(self)} menu items'\n",
    "    \n",
    "    @classmethod\n",
    "    def _header(cls, title):\n",
    "        return cls._build_header(cls.H1, title)\n",
    "    \n",
    "    @classmethod\n",
    "    def _body(cls, menu_items: [str], should_compress_html: bool) -> str:\n",
    "        split_char = cls._get_split_char(should_compress_html)\n",
    "        return split_char.join(\n",
    "            list(cls._build_body(cls.DIV, menu_items))\n",
    "        )\n",
    "    \n",
    "    @classmethod\n",
    "    def _more(cls, more):\n",
    "        return cls._build_more(cls.DIV, more)\n",
    "    \n",
    "    @staticmethod\n",
    "    def _build_header(tag_name: str, title: str) -> str:\n",
    "        return f'<{tag_name}>{title}</{tag_name}>'\n",
    "    \n",
    "    @staticmethod\n",
    "    def _build_body(tag_name: str, menu_items: [str]) -> str:\n",
    "        for menu_item in menu_items:\n",
    "            yield f'<{tag_name}>{menu_item}</{tag_name}>'\n",
    "            \n",
    "    @staticmethod\n",
    "    def _build_more(tag_name: str, text: str) -> str:\n",
    "        return f'<{tag_name}>{text}</{tag_name}>'\n",
    "    \n",
    "    @staticmethod\n",
    "    def _get_split_char(should_compress_html: bool) -> str:\n",
    "        return '' if should_compress_html else '\\n'\n",
    "    \n",
    "    def _is_few_items(self):\n",
    "        return len(self) < self.more_items_length\n",
    "    \n",
    "    def build(self) -> str:\n",
    "        header = self._header(self.title)\n",
    "        body = self._body(self.menu_items, self.should_compress_html)\n",
    "        footer = self._more(self.more) if self._is_few_items() else ''\n",
    "        split_char = self._get_split_char(self.should_compress_html)\n",
    "        html = split_char.join([header, body, footer])\n",
    "        return html"
   ]
  },
  {
   "cell_type": "code",
   "execution_count": 14,
   "id": "532cb56e-5d2c-42fe-b130-d9465f38ac63",
   "metadata": {},
   "outputs": [
    {
     "name": "stdout",
     "output_type": "stream",
     "text": [
      "<h1>DEMO SIDE BAR</h1>\n",
      "<div>a</div>\n",
      "<div>b</div>\n",
      "<div>c</div>\n",
      "<div>more</div>\n"
     ]
    }
   ],
   "source": [
    "side_bar = SideBar(\n",
    "    'DEMO SIDE BAR',\n",
    "    ['a', 'b', 'c'],\n",
    "    should_compress_html=False,\n",
    "    more_items_length=5\n",
    ")\n",
    "print(side_bar.build())"
   ]
  }
 ],
 "metadata": {
  "kernelspec": {
   "display_name": "Python 3 (ipykernel)",
   "language": "python",
   "name": "python3"
  },
  "language_info": {
   "codemirror_mode": {
    "name": "ipython",
    "version": 3
   },
   "file_extension": ".py",
   "mimetype": "text/x-python",
   "name": "python",
   "nbconvert_exporter": "python",
   "pygments_lexer": "ipython3",
   "version": "3.9.12"
  }
 },
 "nbformat": 4,
 "nbformat_minor": 5
}
