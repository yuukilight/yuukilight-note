{
 "cells": [
  {
   "cell_type": "markdown",
   "metadata": {},
   "source": [
    "Python 中 List 是可变长度的数组"
   ]
  },
  {
   "cell_type": "markdown",
   "metadata": {},
   "source": [
    "## 列表推导\n",
    "列表推导相比于 append 会做一些优化\n",
    "\n"
   ]
  },
  {
   "cell_type": "code",
   "execution_count": 4,
   "metadata": {},
   "outputs": [
    {
     "name": "stdout",
     "output_type": "stream",
     "text": [
      "576 ms ± 13.6 ms per loop (mean ± std. dev. of 7 runs, 1 loop each)\n"
     ]
    }
   ],
   "source": [
    "%%timeit \n",
    "data = range(10000000)\n",
    "some_list = list()\n",
    "for element in data:\n",
    "    some_list.append(element)"
   ]
  },
  {
   "cell_type": "code",
   "execution_count": 10,
   "metadata": {},
   "outputs": [
    {
     "name": "stdout",
     "output_type": "stream",
     "text": [
      "[weight: 0, weight: 1, weight: 2, weight: 3, weight: 4, weight: 5, weight: 6, weight: 7, weight: 8, weight: 9]\n"
     ]
    }
   ],
   "source": [
    "class Weight:\n",
    "    def __init__(self, weight: int):\n",
    "        self.weight = weight\n",
    "\n",
    "    def __repr__(self):\n",
    "        return f'weight: {self.weight}'\n",
    "    \n",
    "    \n",
    "weight_instances = [Weight(n) for n in range(10)]\n",
    "print(weight_instances)"
   ]
  },
  {
   "cell_type": "code",
   "execution_count": 12,
   "metadata": {},
   "outputs": [
    {
     "name": "stdout",
     "output_type": "stream",
     "text": [
      "0,1,2,3,4,5,6,7,8,9,10,11,12,13,14,15,16,17,18,19,20,21,22,23,24,25,26,27,28,29,30,31,32,33,34,35,36,37,38,39,40,41,42,43,44,45,46,47,48,49,50,51,52,53,54,55,56,57,58,59,60,61,62,63,64,65,66,67,68,69,70,71,72,73,74,75,76,77,78,79,80,81,82,83,84,85,86,87,88,89,90,91,92,93,94,95,96,97,98,99\n"
     ]
    }
   ],
   "source": [
    "stromg_first_100 = [str(n) for n in range(100)]\n",
    "single_string = ','.join([str(n) for n in range(100)])\n",
    "\n",
    "# print(stromg_first_100)\n",
    "print(single_string)"
   ]
  },
  {
   "cell_type": "markdown",
   "metadata": {},
   "source": [
    "## all() 和 any()\n",
    "相当于对列表全部元素 and 和 or"
   ]
  },
  {
   "cell_type": "markdown",
   "metadata": {},
   "source": [
    "## '*' 符号的使用"
   ]
  },
  {
   "cell_type": "code",
   "execution_count": 13,
   "metadata": {},
   "outputs": [
    {
     "name": "stdout",
     "output_type": "stream",
     "text": [
      "['c', 'd', 'e']\n",
      "['b', 'c', 'd']\n",
      "['a', 'b', 'c']\n"
     ]
    }
   ],
   "source": [
    "mylist = ['a', 'b', 'c', 'd', 'e']\n",
    "\n",
    "(el1, el2, remaining) = mylist[0], mylist[1], mylist[2:]\n",
    "print(remaining)\n",
    "\n",
    "(el1, middle, eln) = mylist[0], mylist[1:-1], mylist[-1]\n",
    "print(middle)\n",
    "\n",
    "(el1, elminus1, eln) = mylist[:-2], mylist[-2], mylist[-1]\n",
    "print(el1)"
   ]
  },
  {
   "cell_type": "code",
   "execution_count": 14,
   "metadata": {},
   "outputs": [
    {
     "name": "stdout",
     "output_type": "stream",
     "text": [
      "['c', 'd', 'e']\n",
      "['b', 'c', 'd']\n",
      "['a', 'b', 'c']\n"
     ]
    }
   ],
   "source": [
    "(el1, el2, *remaining) = mylist\n",
    "print(remaining)\n",
    "\n",
    "(el1, *middle, eln) = mylist\n",
    "print(middle)\n",
    "\n",
    "(*el1, ellminus1, eln) = mylist\n",
    "print(el1)"
   ]
  },
  {
   "cell_type": "markdown",
   "metadata": {},
   "source": [
    "## 使用array.array\n",
    "相比于 List , array 支持单一数据类型"
   ]
  },
  {
   "cell_type": "code",
   "execution_count": 15,
   "metadata": {},
   "outputs": [
    {
     "name": "stdout",
     "output_type": "stream",
     "text": [
      "array('f', [12.0, 1.25, 21.0, 12.5])\n"
     ]
    }
   ],
   "source": [
    "import array\n",
    "\n",
    "myarr = array.array('f', (12.0, 1.25, 21.0, 12.5))\n",
    "print(myarr)"
   ]
  },
  {
   "cell_type": "code",
   "execution_count": 17,
   "metadata": {},
   "outputs": [
    {
     "name": "stdout",
     "output_type": "stream",
     "text": [
      "array('f', [12.0, 27.5, 21.0, 12.5])\n"
     ]
    }
   ],
   "source": [
    "myarr[1] = 27.5\n",
    "print(myarr)"
   ]
  },
  {
   "cell_type": "code",
   "execution_count": 18,
   "metadata": {},
   "outputs": [],
   "source": [
    "del myarr[1]"
   ]
  },
  {
   "cell_type": "code",
   "execution_count": 19,
   "metadata": {},
   "outputs": [
    {
     "name": "stdout",
     "output_type": "stream",
     "text": [
      "array('f', [12.0, 21.0, 12.5])\n"
     ]
    }
   ],
   "source": [
    "print(myarr)"
   ]
  },
  {
   "cell_type": "markdown",
   "metadata": {},
   "source": [
    "## 带 str 的不可变的 unicode 字符数组\n",
    "str 创建后是无法修改的，如果要修改可以转list后进行操作，最后再拼接回去。"
   ]
  },
  {
   "cell_type": "code",
   "execution_count": 20,
   "metadata": {},
   "outputs": [],
   "source": [
    "arr = 'characters'"
   ]
  },
  {
   "cell_type": "markdown",
   "metadata": {},
   "source": [
    "## 带 bytearray 的单字节可变序列\n"
   ]
  },
  {
   "cell_type": "code",
   "execution_count": null,
   "metadata": {},
   "outputs": [],
   "source": []
  }
 ],
 "metadata": {
  "kernelspec": {
   "display_name": "base",
   "language": "python",
   "name": "python3"
  },
  "language_info": {
   "codemirror_mode": {
    "name": "ipython",
    "version": 3
   },
   "file_extension": ".py",
   "mimetype": "text/x-python",
   "name": "python",
   "nbconvert_exporter": "python",
   "pygments_lexer": "ipython3",
   "version": "3.12.4"
  }
 },
 "nbformat": 4,
 "nbformat_minor": 2
}
