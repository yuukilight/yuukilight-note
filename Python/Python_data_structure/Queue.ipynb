{
 "cells": [
  {
   "cell_type": "markdown",
   "metadata": {},
   "source": [
    "## Dequeue"
   ]
  },
  {
   "cell_type": "code",
   "execution_count": 1,
   "metadata": {},
   "outputs": [],
   "source": [
    "from collections import deque"
   ]
  },
  {
   "cell_type": "markdown",
   "metadata": {},
   "source": [
    "### 当作 stack 使用"
   ]
  },
  {
   "cell_type": "code",
   "execution_count": 2,
   "metadata": {},
   "outputs": [
    {
     "name": "stdout",
     "output_type": "stream",
     "text": [
      "deque(['cat', 'dog', 'tiger'])\n"
     ]
    }
   ],
   "source": [
    "stack = deque()\n",
    "stack.append('cat')\n",
    "stack.append('dog')\n",
    "stack.append('tiger')\n",
    "print(stack)"
   ]
  },
  {
   "cell_type": "code",
   "execution_count": 3,
   "metadata": {},
   "outputs": [
    {
     "data": {
      "text/plain": [
       "'tiger'"
      ]
     },
     "execution_count": 3,
     "metadata": {},
     "output_type": "execute_result"
    }
   ],
   "source": [
    "stack.pop()"
   ]
  },
  {
   "cell_type": "code",
   "execution_count": 4,
   "metadata": {},
   "outputs": [
    {
     "data": {
      "text/plain": [
       "'dog'"
      ]
     },
     "execution_count": 4,
     "metadata": {},
     "output_type": "execute_result"
    }
   ],
   "source": [
    "stack.pop()"
   ]
  },
  {
   "cell_type": "code",
   "execution_count": 5,
   "metadata": {},
   "outputs": [
    {
     "data": {
      "text/plain": [
       "'cat'"
      ]
     },
     "execution_count": 5,
     "metadata": {},
     "output_type": "execute_result"
    }
   ],
   "source": [
    "stack.pop()"
   ]
  },
  {
   "cell_type": "code",
   "execution_count": 6,
   "metadata": {},
   "outputs": [
    {
     "ename": "IndexError",
     "evalue": "pop from an empty deque",
     "output_type": "error",
     "traceback": [
      "\u001b[1;31m---------------------------------------------------------------------------\u001b[0m",
      "\u001b[1;31mIndexError\u001b[0m                                Traceback (most recent call last)",
      "Cell \u001b[1;32mIn[6], line 1\u001b[0m\n\u001b[1;32m----> 1\u001b[0m stack\u001b[38;5;241m.\u001b[39mpop()\n",
      "\u001b[1;31mIndexError\u001b[0m: pop from an empty deque"
     ]
    }
   ],
   "source": [
    "stack.pop()"
   ]
  },
  {
   "cell_type": "markdown",
   "metadata": {},
   "source": [
    "### 当作队列"
   ]
  },
  {
   "cell_type": "code",
   "execution_count": 7,
   "metadata": {},
   "outputs": [
    {
     "name": "stdout",
     "output_type": "stream",
     "text": [
      "deque(['cat', 'dog', 'tiger'])\n"
     ]
    }
   ],
   "source": [
    "queue = deque()\n",
    "queue.append('cat')\n",
    "queue.append('dog')\n",
    "queue.append('tiger')\n",
    "print(queue)"
   ]
  },
  {
   "cell_type": "code",
   "execution_count": 8,
   "metadata": {},
   "outputs": [
    {
     "data": {
      "text/plain": [
       "'cat'"
      ]
     },
     "execution_count": 8,
     "metadata": {},
     "output_type": "execute_result"
    }
   ],
   "source": [
    "queue.popleft()"
   ]
  },
  {
   "cell_type": "code",
   "execution_count": 9,
   "metadata": {},
   "outputs": [
    {
     "data": {
      "text/plain": [
       "'dog'"
      ]
     },
     "execution_count": 9,
     "metadata": {},
     "output_type": "execute_result"
    }
   ],
   "source": [
    "queue.popleft()"
   ]
  },
  {
   "cell_type": "code",
   "execution_count": 10,
   "metadata": {},
   "outputs": [
    {
     "data": {
      "text/plain": [
       "'tiger'"
      ]
     },
     "execution_count": 10,
     "metadata": {},
     "output_type": "execute_result"
    }
   ],
   "source": [
    "queue.popleft()"
   ]
  },
  {
   "cell_type": "code",
   "execution_count": 11,
   "metadata": {},
   "outputs": [
    {
     "ename": "IndexError",
     "evalue": "pop from an empty deque",
     "output_type": "error",
     "traceback": [
      "\u001b[1;31m---------------------------------------------------------------------------\u001b[0m",
      "\u001b[1;31mIndexError\u001b[0m                                Traceback (most recent call last)",
      "Cell \u001b[1;32mIn[11], line 1\u001b[0m\n\u001b[1;32m----> 1\u001b[0m queue\u001b[38;5;241m.\u001b[39mpopleft()\n",
      "\u001b[1;31mIndexError\u001b[0m: pop from an empty deque"
     ]
    }
   ],
   "source": [
    "queue.popleft()"
   ]
  },
  {
   "cell_type": "code",
   "execution_count": null,
   "metadata": {},
   "outputs": [],
   "source": [
    "def tail(filename, n = 10):\n",
    "    \"\"\"Return the last n lines of a file\"\"\"\n",
    "    with open(filename) as f:\n",
    "        return deque(f, n)"
   ]
  },
  {
   "cell_type": "code",
   "execution_count": 12,
   "metadata": {},
   "outputs": [
    {
     "data": {
      "text/plain": [
       "deque([5, 1, 2, 3, 4])"
      ]
     },
     "execution_count": 12,
     "metadata": {},
     "output_type": "execute_result"
    }
   ],
   "source": [
    "d = deque([1, 2, 3, 4, 5])\n",
    "d.rotate(1)\n",
    "d"
   ]
  },
  {
   "cell_type": "code",
   "execution_count": 23,
   "metadata": {},
   "outputs": [],
   "source": [
    "def roundrobin(*iterables):\n",
    "    \"\"\"roundrobin('ABC', 'D', 'EF') -> A, D, E, B, F, C\"\"\"\n",
    "    iterators = deque(map(iter, iterables))\n",
    "    while iterators:\n",
    "        try:\n",
    "            while True:\n",
    "                yield next(iterators[0])\n",
    "                iterators.rotate(-1)\n",
    "        except StopIteration:\n",
    "            # Remove an exhaused iterator\n",
    "            # print(iterators)\n",
    "            iterators.popleft()"
   ]
  },
  {
   "cell_type": "code",
   "execution_count": 24,
   "metadata": {},
   "outputs": [
    {
     "data": {
      "text/plain": [
       "['A', 'D', 'E', 'B', 'F', 'C']"
      ]
     },
     "execution_count": 24,
     "metadata": {},
     "output_type": "execute_result"
    }
   ],
   "source": [
    "list(roundrobin('ABC', 'D', 'EF'))"
   ]
  },
  {
   "cell_type": "markdown",
   "metadata": {},
   "source": [
    "## Queue"
   ]
  },
  {
   "cell_type": "code",
   "execution_count": 1,
   "metadata": {},
   "outputs": [],
   "source": [
    "from queue import Queue"
   ]
  },
  {
   "cell_type": "code",
   "execution_count": 2,
   "metadata": {},
   "outputs": [],
   "source": [
    "simpleq = Queue()"
   ]
  },
  {
   "cell_type": "code",
   "execution_count": 3,
   "metadata": {},
   "outputs": [
    {
     "name": "stdout",
     "output_type": "stream",
     "text": [
      "<queue.Queue object at 0x000002480DA5E720>\n"
     ]
    }
   ],
   "source": [
    "simpleq.put('cat')\n",
    "simpleq.put('dog')\n",
    "simpleq.put('tiger')\n",
    "print(simpleq)"
   ]
  },
  {
   "cell_type": "code",
   "execution_count": 4,
   "metadata": {},
   "outputs": [
    {
     "data": {
      "text/plain": [
       "'cat'"
      ]
     },
     "execution_count": 4,
     "metadata": {},
     "output_type": "execute_result"
    }
   ],
   "source": [
    "simpleq.get()"
   ]
  },
  {
   "cell_type": "code",
   "execution_count": 5,
   "metadata": {},
   "outputs": [
    {
     "data": {
      "text/plain": [
       "'dog'"
      ]
     },
     "execution_count": 5,
     "metadata": {},
     "output_type": "execute_result"
    }
   ],
   "source": [
    "simpleq.get()"
   ]
  },
  {
   "cell_type": "code",
   "execution_count": 6,
   "metadata": {},
   "outputs": [
    {
     "data": {
      "text/plain": [
       "'tiger'"
      ]
     },
     "execution_count": 6,
     "metadata": {},
     "output_type": "execute_result"
    }
   ],
   "source": [
    "simpleq.get()"
   ]
  },
  {
   "cell_type": "code",
   "execution_count": 1,
   "metadata": {},
   "outputs": [
    {
     "ename": "NameError",
     "evalue": "name 'simpleq' is not defined",
     "output_type": "error",
     "traceback": [
      "\u001b[1;31m---------------------------------------------------------------------------\u001b[0m",
      "\u001b[1;31mNameError\u001b[0m                                 Traceback (most recent call last)",
      "Cell \u001b[1;32mIn[1], line 2\u001b[0m\n\u001b[0;32m      1\u001b[0m \u001b[38;5;66;03m# 当没有数据时会阻塞，等待有数据输入\u001b[39;00m\n\u001b[1;32m----> 2\u001b[0m simpleq\u001b[38;5;241m.\u001b[39mget()\n",
      "\u001b[1;31mNameError\u001b[0m: name 'simpleq' is not defined"
     ]
    }
   ],
   "source": [
    "# 当没有数据时会阻塞，等待有数据输入\n",
    "simpleq.get()"
   ]
  },
  {
   "cell_type": "markdown",
   "metadata": {},
   "source": [
    "```python\n",
    "Queue.get(block=True, timeout=None)\n",
    "```\n",
    "从队列中移除并返回一个项目(数据)。\n",
    "\n",
    "```block=Ture```: 意味着没有获取到数据时会发生阻塞，直到获取到数据。如果此时设置了 ```timeout``, 则会最多阻塞 timeout 秒，超过了这个时间将引发 Empty 异常。\n",
    "\n",
    "```block=False```: 时如果没有获取到数据，立即引发 Empty 异常。"
   ]
  },
  {
   "cell_type": "markdown",
   "metadata": {},
   "source": [
    "```python\n",
    "Queue.task_done()\n",
    "```\n",
    "表示前面排队的任务已经被完成，被队列的消费者线程使用。\n",
    "\n",
    "每个get()被用于获取一个任务，后续调用 task_done() 告诉队列，该任务的处理已经完成。\n",
    "\n",
    "如果 join()当前正在阻塞，在所有条目都被处理后，将接触阻塞（意味着每个 put() 进队列的条目的 task_done() 都被收到）。\n",
    "如果被调用的次数多于放入队列中的项目数量，将引发 ValueError 异常。"
   ]
  },
  {
   "cell_type": "markdown",
   "metadata": {},
   "source": [
    "```python\n",
    "Queue.join()\n",
    "```\n",
    "阻塞至队列中所有的元素都被接收和处理完毕。当条目添加到队列的时候，未完成的任务的计数就会增加。每当消费者线程调用 task_done 表示这个条目已经被回收，该条目所有工作已经完成，未完成计数就会减少。当未完成计数降到零的时候，join()阻塞被解除。"
   ]
  },
  {
   "cell_type": "code",
   "execution_count": 1,
   "metadata": {},
   "outputs": [
    {
     "name": "stdout",
     "output_type": "stream",
     "text": [
      "Working on 0\n",
      "Finished 0\n",
      "Working on 1\n",
      "Finished 1\n",
      "Working on 2\n",
      "Finished 2\n",
      "Working on 3\n",
      "Finished 3\n",
      "Working on 4\n",
      "Finished 4\n",
      "Working on 5\n",
      "Finished 5\n",
      "Working on 6\n",
      "Finished 6\n",
      "Working on 7\n",
      "Finished 7\n",
      "Working on 8\n",
      "Finished 8\n",
      "Working on 9\n",
      "Finished 9\n",
      "All work done.\n"
     ]
    }
   ],
   "source": [
    "import threading\n",
    "import queue\n",
    "\n",
    "def worker(q):\n",
    "    while True:\n",
    "        item = q.get()\n",
    "        print(f'Working on {item}')\n",
    "        print(f'Finished {item}')\n",
    "        q.task_done()\n",
    "\n",
    "q = queue.Queue()\n",
    "threading.Thread(target=worker, args=(q, ), daemon=True).start()\n",
    "\n",
    "for item in range(10):\n",
    "    q.put(item)\n",
    "q.join()\n",
    "print('All work done.')"
   ]
  },
  {
   "cell_type": "code",
   "execution_count": 10,
   "metadata": {},
   "outputs": [
    {
     "name": "stdout",
     "output_type": "stream",
     "text": [
      "--- Exrcuteing Job ---\n",
      "--- Exrcuteing Job ---\n",
      "--- Exrcuteing Job ---\n",
      "--- Exrcuteing Job ---\n",
      "DoneDone 3\n",
      "--- Exrcuteing Job ---\n",
      "Done 2\n",
      "--- Exrcuteing Job ---\n",
      "Done 1\n",
      "--- Exrcuteing Job ---\n",
      " 0\n",
      "--- Exrcuteing Job ---\n",
      "RESULT:  3 [H]\n",
      "RESULT:  2 [H]\n",
      "RESULT:  1 [H]\n",
      "RESULT:  0 [H]\n",
      "Done 7\n",
      "--- Exrcuteing Job ---\n",
      "RESULT:  7 [H]\n",
      "Done 5\n",
      "--- Exrcuteing Job ---\n",
      "RESULT:  5 [H]\n",
      "Done 6\n",
      "--- Exrcuteing Job ---\n",
      "RESULT:  6 [H]\n",
      "Done 4\n",
      "--- Exrcuteing Job ---\n",
      "RESULT:  4 [H]\n",
      "Done 10\n",
      "RESULT:  10 [H]\n",
      "Done 8\n",
      "RESULT:  8 [H]\n",
      "Done 9\n",
      "RESULT:  9 [H]\n"
     ]
    },
    {
     "ename": "",
     "evalue": "",
     "output_type": "error",
     "traceback": [
      "\u001b[1;31mCannot execute code, session has been disposed. Please try restarting the Kernel."
     ]
    },
    {
     "ename": "",
     "evalue": "",
     "output_type": "error",
     "traceback": [
      "\u001b[1;31mCannot execute code, session has been disposed. Please try restarting the Kernel. \n",
      "\u001b[1;31mView Jupyter <a href='command:jupyter.viewOutput'>log</a> for further details."
     ]
    }
   ],
   "source": [
    "from queue import Queue\n",
    "import time\n",
    "from datetime import datetime\n",
    "from concurrent.futures import ThreadPoolExecutor, as_completed\n",
    "\n",
    "def worker(q, idx):\n",
    "    print('--- Exrcuteing Job ---')\n",
    "    data = q.get()\n",
    "    time.sleep(3)\n",
    "    print('Done', idx)\n",
    "    return f'{data} [H]'\n",
    "\n",
    "q = Queue()\n",
    "start_time = datetime.now()\n",
    "with ThreadPoolExecutor(max_workers=4) as executor:\n",
    "    futures = {\n",
    "        executor.submit(worker, q, idx): idx for idx in range(12)\n",
    "    }\n",
    "\n",
    "    # 生产者制造数据\n",
    "    for i in range(11):\n",
    "        q.put(i)\n",
    "\n",
    "    # print(\"制造数据完成\")\n",
    "    # 归并结果\n",
    "    for f in as_completed(futures):\n",
    "        print('RESULT: ', f.result())\n",
    "\n",
    "end_time = datetime.now()\n",
    "elapsed = end_time - start_time\n",
    "print(f'elapsed {elapsed}')"
   ]
  },
  {
   "cell_type": "markdown",
   "metadata": {},
   "source": [
    "## LifoQueue"
   ]
  },
  {
   "cell_type": "code",
   "execution_count": 1,
   "metadata": {},
   "outputs": [],
   "source": [
    "from queue import LifoQueue"
   ]
  },
  {
   "cell_type": "code",
   "execution_count": 2,
   "metadata": {},
   "outputs": [
    {
     "name": "stdout",
     "output_type": "stream",
     "text": [
      "<queue.LifoQueue object at 0x000001C4FFD438C0>\n"
     ]
    }
   ],
   "source": [
    "squeue = LifoQueue()\n",
    "squeue.put('cat')\n",
    "squeue.put('dog')\n",
    "squeue.put('tiger')\n",
    "print(squeue)"
   ]
  },
  {
   "cell_type": "code",
   "execution_count": 3,
   "metadata": {},
   "outputs": [
    {
     "data": {
      "text/plain": [
       "'tiger'"
      ]
     },
     "execution_count": 3,
     "metadata": {},
     "output_type": "execute_result"
    }
   ],
   "source": [
    "squeue.get()"
   ]
  },
  {
   "cell_type": "code",
   "execution_count": 4,
   "metadata": {},
   "outputs": [],
   "source": [
    "squeue.put('fox')"
   ]
  },
  {
   "cell_type": "code",
   "execution_count": 5,
   "metadata": {},
   "outputs": [
    {
     "data": {
      "text/plain": [
       "'fox'"
      ]
     },
     "execution_count": 5,
     "metadata": {},
     "output_type": "execute_result"
    }
   ],
   "source": [
    "squeue.get()"
   ]
  },
  {
   "cell_type": "code",
   "execution_count": 6,
   "metadata": {},
   "outputs": [
    {
     "data": {
      "text/plain": [
       "'dog'"
      ]
     },
     "execution_count": 6,
     "metadata": {},
     "output_type": "execute_result"
    }
   ],
   "source": [
    "squeue.get()"
   ]
  },
  {
   "cell_type": "code",
   "execution_count": 7,
   "metadata": {},
   "outputs": [
    {
     "data": {
      "text/plain": [
       "'cat'"
      ]
     },
     "execution_count": 7,
     "metadata": {},
     "output_type": "execute_result"
    }
   ],
   "source": [
    "squeue.get()"
   ]
  },
  {
   "cell_type": "markdown",
   "metadata": {},
   "source": [
    "Lifo 队列为空时继续取数据，会发生阻塞。直到新的数据进入。"
   ]
  },
  {
   "cell_type": "code",
   "execution_count": null,
   "metadata": {},
   "outputs": [
    {
     "ename": "",
     "evalue": "",
     "output_type": "error",
     "traceback": [
      "\u001b[1;31mCannot execute code, session has been disposed. Please try restarting the Kernel."
     ]
    },
    {
     "ename": "",
     "evalue": "",
     "output_type": "error",
     "traceback": [
      "\u001b[1;31mCannot execute code, session has been disposed. Please try restarting the Kernel. \n",
      "\u001b[1;31mView Jupyter <a href='command:jupyter.viewOutput'>log</a> for further details."
     ]
    }
   ],
   "source": [
    "squeue.get()"
   ]
  },
  {
   "cell_type": "code",
   "execution_count": null,
   "metadata": {},
   "outputs": [],
   "source": [
    "squeue.put('x')"
   ]
  },
  {
   "cell_type": "code",
   "execution_count": 9,
   "metadata": {},
   "outputs": [
    {
     "name": "stdout",
     "output_type": "stream",
     "text": [
      "Working on 9\n",
      "Finisher 9\n",
      "Working on 8\n",
      "Finisher 8\n",
      "Working on 7\n",
      "Finisher 7\n",
      "Working on 6\n",
      "Finisher 6\n",
      "Working on 5\n",
      "Finisher 5\n",
      "Working on 4\n",
      "Finisher 4\n",
      "Working on 3\n",
      "Finisher 3\n",
      "Working on 2\n",
      "Finisher 2\n",
      "Working on 1\n",
      "Finisher 1\n",
      "Working on 0\n",
      "Finisher 0\n",
      "All work done.\n"
     ]
    }
   ],
   "source": [
    "import threading\n",
    "import queue\n",
    "import time\n",
    "\n",
    "def worker(q):\n",
    "    while True:\n",
    "        item = q.get()\n",
    "        print(f'Working on {item}')\n",
    "        print(f'Finisher {item}')\n",
    "        q.task_done()\n",
    "\n",
    "q = queue.LifoQueue()\n",
    "threading.Thread(target=worker, args=(q, ), daemon=True).start()\n",
    "for item in range(10):\n",
    "    q.put(item)\n",
    "    # time.sleep(3)\n",
    "q.join()\n",
    "print('All work done.')"
   ]
  },
  {
   "cell_type": "markdown",
   "metadata": {},
   "source": [
    "## Muiltiprocessing 中 Queue 作为共享作业队列\n",
    "解决 python 环境中多线程的 GIL(global interpreter lock)\n",
    "\n",
    "```python\n",
    "multiprocessing.Queue\n",
    "```\n",
    "进程间共享数据， 跨进程工作， 解决 GIL限制"
   ]
  },
  {
   "cell_type": "code",
   "execution_count": 1,
   "metadata": {},
   "outputs": [],
   "source": [
    "from multiprocessing import Queue"
   ]
  },
  {
   "cell_type": "code",
   "execution_count": 12,
   "metadata": {},
   "outputs": [],
   "source": [
    "multiq = Queue()\n",
    "multiq.put('cat')\n",
    "multiq.put('dog')\n",
    "multiq.put('tiger')"
   ]
  },
  {
   "cell_type": "code",
   "execution_count": 13,
   "metadata": {},
   "outputs": [
    {
     "name": "stdout",
     "output_type": "stream",
     "text": [
      "<multiprocessing.queues.Queue object at 0x00000209A5A4C6B0>\n"
     ]
    }
   ],
   "source": [
    "print(multiq)"
   ]
  },
  {
   "cell_type": "code",
   "execution_count": 14,
   "metadata": {},
   "outputs": [
    {
     "data": {
      "text/plain": [
       "'cat'"
      ]
     },
     "execution_count": 14,
     "metadata": {},
     "output_type": "execute_result"
    }
   ],
   "source": [
    "multiq.get()"
   ]
  },
  {
   "cell_type": "code",
   "execution_count": 15,
   "metadata": {},
   "outputs": [
    {
     "data": {
      "text/plain": [
       "'dog'"
      ]
     },
     "execution_count": 15,
     "metadata": {},
     "output_type": "execute_result"
    }
   ],
   "source": [
    "multiq.get()"
   ]
  },
  {
   "cell_type": "code",
   "execution_count": 16,
   "metadata": {},
   "outputs": [
    {
     "data": {
      "text/plain": [
       "'tiger'"
      ]
     },
     "execution_count": 16,
     "metadata": {},
     "output_type": "execute_result"
    }
   ],
   "source": [
    "multiq.get()"
   ]
  },
  {
   "cell_type": "code",
   "execution_count": null,
   "metadata": {},
   "outputs": [],
   "source": [
    "multiq.get()"
   ]
  },
  {
   "cell_type": "code",
   "execution_count": 1,
   "metadata": {},
   "outputs": [],
   "source": [
    "import time\n",
    "import random\n",
    "\n",
    "from multiprocessing import Process, Queue, current_process\n",
    "\n",
    "def worker(input: Queue, output: Queue) -> None:\n",
    "    for func, args in iter(input.get, 'QUIT'):\n",
    "        result = calculate(func, args)\n",
    "        output.put(result)\n",
    "\n",
    "def calculate(func, args):\n",
    "    result = func(*args)\n",
    "    return f'{current_process().name}: {func.__name__}{args} = {result}'\n",
    "\n",
    "def mul(a, b):\n",
    "    time.sleep(0.5 * random.random())\n",
    "    return a * b\n",
    "\n",
    "def plus(a, b):\n",
    "    time.sleep(0.5*random.random())\n",
    "    return a + b\n",
    "\n",
    "def main():\n",
    "    NUMBER_OF_PROCESS = 4\n",
    "    COUNT_OF_TASK1 = 20\n",
    "    COUNT_OF_TASK2 = 10\n",
    "    TASK1 = [(mul, (i, 10)) for i in range(COUNT_OF_TASK1)]\n",
    "    TASK2 = [(plus, (i, 20)) for i in range(COUNT_OF_TASK2)]\n",
    "\n",
    "    task_queue = Queue()\n",
    "    done_queue = Queue()\n",
    "\n",
    "    for task in TASK1:\n",
    "        task_queue.put(task)\n",
    "\n",
    "    for i in range(NUMBER_OF_PROCESS):\n",
    "        Process(target=worker, args=(task_queue, done_queue)).start()\n",
    "\n",
    "    print('result:')\n",
    "    for i in range(len(TASK1)):\n",
    "        print('\\t', done_queue.get())\n",
    "\n",
    "    for task in TASK2:\n",
    "        task_queue.put(task)\n",
    "\n",
    "    for i in range(len(TASK2)):\n",
    "        print('\\t', done_queue.get())\n",
    "\n",
    "    # Send STOP message to stop the child process\n",
    "    for i in range(NUMBER_OF_PROCESS):\n",
    "        task_queue.put('QUIT')"
   ]
  },
  {
   "cell_type": "code",
   "execution_count": null,
   "metadata": {},
   "outputs": [
    {
     "name": "stdout",
     "output_type": "stream",
     "text": [
      "result:\n"
     ]
    }
   ],
   "source": [
    "if __name__ == '__main__':\n",
    "    main()"
   ]
  },
  {
   "cell_type": "code",
   "execution_count": 1,
   "metadata": {},
   "outputs": [
    {
     "name": "stdout",
     "output_type": "stream",
     "text": [
      "Overwriting multiprocess_queue.py\n"
     ]
    }
   ],
   "source": [
    "%%writefile multiprocess_queue.py\n",
    "import time\n",
    "import random\n",
    "\n",
    "from multiprocessing import Process, Queue, current_process\n",
    "\n",
    "def worker(input: Queue, output: Queue) -> None:\n",
    "    for func, args in iter(input.get, 'QUIT'):\n",
    "        result = calculate(func, args)\n",
    "        output.put(result)\n",
    "\n",
    "def calculate(func, args):\n",
    "    result = func(*args)\n",
    "    return f'{current_process().name}: {func.__name__}{args} = {result}'\n",
    "\n",
    "def mul(a, b):\n",
    "    time.sleep(0.5 * random.random())\n",
    "    return a * b\n",
    "\n",
    "def plus(a, b):\n",
    "    time.sleep(0.5*random.random())\n",
    "    return a + b\n",
    "\n",
    "def main():\n",
    "    NUMBER_OF_PROCESS = 4\n",
    "    COUNT_OF_TASK1 = 20\n",
    "    COUNT_OF_TASK2 = 10\n",
    "    TASK1 = [(mul, (i, 10)) for i in range(COUNT_OF_TASK1)]\n",
    "    TASK2 = [(plus, (i, 20)) for i in range(COUNT_OF_TASK2)]\n",
    "\n",
    "    task_queue = Queue()\n",
    "    done_queue = Queue()\n",
    "\n",
    "    for task in TASK1:\n",
    "        task_queue.put(task)\n",
    "\n",
    "    for i in range(NUMBER_OF_PROCESS):\n",
    "        Process(target=worker, args=(task_queue, done_queue)).start()\n",
    "\n",
    "    print('result:')\n",
    "    for i in range(len(TASK1)):\n",
    "        print('\\t', done_queue.get())\n",
    "\n",
    "    for task in TASK2:\n",
    "        task_queue.put(task)\n",
    "\n",
    "    for i in range(len(TASK2)):\n",
    "        print('\\t', done_queue.get())\n",
    "\n",
    "    # Send STOP message to stop the child process\n",
    "    for i in range(NUMBER_OF_PROCESS):\n",
    "        task_queue.put('QUIT')\n",
    "\n",
    "if __name__ == \"__main__\":\n",
    "    main()"
   ]
  },
  {
   "cell_type": "code",
   "execution_count": 2,
   "metadata": {},
   "outputs": [
    {
     "name": "stdout",
     "output_type": "stream",
     "text": [
      "result:\n",
      "\t Process-4: mul(3, 10) = 30\n",
      "\t Process-4: mul(4, 10) = 40\n",
      "\t Process-3: mul(2, 10) = 20\n",
      "\t Process-1: mul(0, 10) = 0\n",
      "\t Process-1: mul(7, 10) = 70\n",
      "\t Process-2: mul(1, 10) = 10\n",
      "\t Process-3: mul(6, 10) = 60\n",
      "\t Process-2: mul(9, 10) = 90\n",
      "\t Process-2: mul(11, 10) = 110\n",
      "\t Process-3: mul(10, 10) = 100\n",
      "\t Process-4: mul(5, 10) = 50\n",
      "\t Process-1: mul(8, 10) = 80\n",
      "\t Process-2: mul(12, 10) = 120\n",
      "\t Process-1: mul(15, 10) = 150\n",
      "\t Process-3: mul(13, 10) = 130\n",
      "\t Process-2: mul(16, 10) = 160\n",
      "\t Process-4: mul(14, 10) = 140\n",
      "\t Process-2: mul(19, 10) = 190\n",
      "\t Process-1: mul(17, 10) = 170\n",
      "\t Process-3: mul(18, 10) = 180\n",
      "\t Process-1: plus(2, 20) = 22\n",
      "\t Process-2: plus(1, 20) = 21\n",
      "\t Process-3: plus(3, 20) = 23\n",
      "\t Process-3: plus(6, 20) = 26\n",
      "\t Process-4: plus(0, 20) = 20\n",
      "\t Process-1: plus(4, 20) = 24\n",
      "\t Process-4: plus(8, 20) = 28\n",
      "\t Process-2: plus(5, 20) = 25\n",
      "\t Process-3: plus(7, 20) = 27\n",
      "\t Process-1: plus(9, 20) = 29\n"
     ]
    }
   ],
   "source": [
    "%run multiprocess_queue.py"
   ]
  },
  {
   "cell_type": "markdown",
   "metadata": {},
   "source": [
    "## ProorityQueue\n",
    "内部实现为 heapq\n",
    "\n",
    "O($log_{n}$)"
   ]
  },
  {
   "cell_type": "code",
   "execution_count": 3,
   "metadata": {},
   "outputs": [
    {
     "name": "stdout",
     "output_type": "stream",
     "text": [
      "(1, 'cat')\n",
      "(2, 'dog')\n",
      "(3, 'tiger')\n"
     ]
    }
   ],
   "source": [
    "import heapq\n",
    "\n",
    "items = []\n",
    "\n",
    "heapq.heappush(items, (2, 'dog'))\n",
    "heapq.heappush(items, (1, 'cat'))\n",
    "heapq.heappush(items, (3, 'tiger'))\n",
    "\n",
    "while items:\n",
    "    nex_thing = heapq.heappop(items)\n",
    "    print(nex_thing)"
   ]
  },
  {
   "cell_type": "code",
   "execution_count": 4,
   "metadata": {},
   "outputs": [],
   "source": [
    "from queue import PriorityQueue"
   ]
  },
  {
   "cell_type": "code",
   "execution_count": 6,
   "metadata": {},
   "outputs": [],
   "source": [
    "pq = PriorityQueue()\n",
    "pq.put((2, 'dog'))\n",
    "pq.put((3, 'tiger'))\n",
    "pq.put((1, 'cat'))"
   ]
  },
  {
   "cell_type": "code",
   "execution_count": 7,
   "metadata": {},
   "outputs": [
    {
     "name": "stdout",
     "output_type": "stream",
     "text": [
      "(1, 'cat')\n",
      "(2, 'dog')\n",
      "(3, 'tiger')\n"
     ]
    }
   ],
   "source": [
    "while not pq.empty():\n",
    "    next_element = pq.get()\n",
    "    print(next_element)"
   ]
  },
  {
   "cell_type": "code",
   "execution_count": 4,
   "metadata": {},
   "outputs": [
    {
     "name": "stdout",
     "output_type": "stream",
     "text": [
      "--- Exrcuteing Job ---\n",
      "--- Exrcuteing Job ---\n",
      "--- Exrcuteing Job ---\n",
      "--- Exrcuteing Job ---\n",
      "--- Exrcuteing Job ---\n",
      "--- Exrcuteing Job ---\n",
      "--- Exrcuteing Job ---\n",
      "--- Exrcuteing Job ---\n",
      "--- Exrcuteing Job ---\n",
      "--- Exrcuteing Job ---\n",
      "--- Exrcuteing Job ---\n",
      "--- Exrcuteing Job ---\n",
      "Original Data:  [4, 8, 7, 3, 9, 6, 11, 10, 0, 2, 1, 5]\n",
      "Done 8\n",
      "Done 11\n",
      "Done 9\n",
      "Done 7\n",
      "Done 2\n",
      "Done 1\n",
      "Done 6\n",
      "Done 5\n",
      "Done 4\n",
      "Done 0\n",
      "Done 10\n",
      "Done 3\n",
      "RESULT:  [0, 1, 4, 9, 16, 25, 36, 49, 64, 81, 100, 121]\n",
      "elapsed 0:00:03.011030\n"
     ]
    }
   ],
   "source": [
    "from queue import PriorityQueue\n",
    "import time\n",
    "import random\n",
    "from datetime import datetime\n",
    "from concurrent.futures import ThreadPoolExecutor, wait, ALL_COMPLETED\n",
    "\n",
    "def worker(input_queue: PriorityQueue, output_queue: PriorityQueue, idx):\n",
    "    print('--- Exrcuteing Job ---')\n",
    "    data = input_queue.get()\n",
    "    time.sleep(3)\n",
    "    print('Done', idx)\n",
    "    # output_queue.put(f'{data} [H]')\n",
    "    output_queue.put(data)\n",
    "\n",
    "input_queue = PriorityQueue()\n",
    "output_queue = PriorityQueue()\n",
    "start_time = datetime.now()\n",
    "with ThreadPoolExecutor(max_workers=12) as executor:\n",
    "    futures = {\n",
    "        executor.submit(\n",
    "            worker, input_queue, output_queue, idx): idx for idx in range(12)\n",
    "    }\n",
    "\n",
    "    # 生产者制造数据\n",
    "    raw_data = list(range(12))\n",
    "    random.shuffle(raw_data)\n",
    "    print('Original Data: ', raw_data)\n",
    "    for data in raw_data:\n",
    "        input_queue.put(data * data)\n",
    "\n",
    "    # print(\"制造数据完成\")\n",
    "    # 归并结果\n",
    "    wait(futures, return_when=ALL_COMPLETED)\n",
    "    result = [output_queue.get() for _ in range(len(raw_data))]\n",
    "    print('RESULT: ', result)\n",
    "\n",
    "end_time = datetime.now()\n",
    "elapsed = end_time - start_time\n",
    "print(f'elapsed {elapsed}')"
   ]
  },
  {
   "cell_type": "code",
   "execution_count": null,
   "metadata": {},
   "outputs": [],
   "source": []
  }
 ],
 "metadata": {
  "kernelspec": {
   "display_name": "base",
   "language": "python",
   "name": "python3"
  },
  "language_info": {
   "codemirror_mode": {
    "name": "ipython",
    "version": 3
   },
   "file_extension": ".py",
   "mimetype": "text/x-python",
   "name": "python",
   "nbconvert_exporter": "python",
   "pygments_lexer": "ipython3",
   "version": "3.12.4"
  }
 },
 "nbformat": 4,
 "nbformat_minor": 2
}
