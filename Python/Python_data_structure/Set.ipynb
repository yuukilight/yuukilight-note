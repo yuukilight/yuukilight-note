{
 "cells": [
  {
   "cell_type": "markdown",
   "metadata": {},
   "source": [
    "## 集合基本操作"
   ]
  },
  {
   "cell_type": "code",
   "execution_count": 1,
   "metadata": {},
   "outputs": [],
   "source": [
    "programming_languages = {'Python', 'Java', 'C#', 'Ruby', 'Go'}\n",
    "squares = {x * x for x in range(10)}"
   ]
  },
  {
   "cell_type": "code",
   "execution_count": 2,
   "metadata": {},
   "outputs": [
    {
     "name": "stdout",
     "output_type": "stream",
     "text": [
      "{'Ruby', 'Go', 'Python', 'C#', 'Java'}\n",
      "{0, 1, 64, 4, 36, 9, 16, 49, 81, 25}\n"
     ]
    }
   ],
   "source": [
    "print(programming_languages)\n",
    "print(squares)"
   ]
  },
  {
   "cell_type": "code",
   "execution_count": 3,
   "metadata": {},
   "outputs": [
    {
     "name": "stdout",
     "output_type": "stream",
     "text": [
      "<class 'dict'>\n",
      "<class 'set'>\n"
     ]
    }
   ],
   "source": [
    "s = {}\n",
    "true_s = set()\n",
    "print(type(s))\n",
    "print(type(true_s))"
   ]
  },
  {
   "cell_type": "code",
   "execution_count": 4,
   "metadata": {},
   "outputs": [],
   "source": [
    "dynamic_languages = {'Ruby', 'Python', 'JavaScript', 'Lua'}"
   ]
  },
  {
   "cell_type": "code",
   "execution_count": 5,
   "metadata": {},
   "outputs": [
    {
     "data": {
      "text/plain": [
       "{'C#', 'Go', 'Java', 'JavaScript', 'Lua', 'Python', 'Ruby'}"
      ]
     },
     "execution_count": 5,
     "metadata": {},
     "output_type": "execute_result"
    }
   ],
   "source": [
    "programming_languages | dynamic_languages   # 并集 Union"
   ]
  },
  {
   "cell_type": "code",
   "execution_count": 6,
   "metadata": {},
   "outputs": [
    {
     "data": {
      "text/plain": [
       "{'Python', 'Ruby'}"
      ]
     },
     "execution_count": 6,
     "metadata": {},
     "output_type": "execute_result"
    }
   ],
   "source": [
    "programming_languages & dynamic_languages   # 交集 Intersection"
   ]
  },
  {
   "cell_type": "code",
   "execution_count": 7,
   "metadata": {},
   "outputs": [
    {
     "data": {
      "text/plain": [
       "{'C#', 'Go', 'Java'}"
      ]
     },
     "execution_count": 7,
     "metadata": {},
     "output_type": "execute_result"
    }
   ],
   "source": [
    "programming_languages - dynamic_languages # 差集 Difference"
   ]
  },
  {
   "cell_type": "code",
   "execution_count": 8,
   "metadata": {},
   "outputs": [
    {
     "data": {
      "text/plain": [
       "{'JavaScript', 'Lua'}"
      ]
     },
     "execution_count": 8,
     "metadata": {},
     "output_type": "execute_result"
    }
   ],
   "source": [
    "dynamic_languages - programming_languages"
   ]
  },
  {
   "cell_type": "code",
   "execution_count": 9,
   "metadata": {},
   "outputs": [
    {
     "data": {
      "text/plain": [
       "{'C#', 'Go', 'Java', 'JavaScript', 'Lua'}"
      ]
     },
     "execution_count": 9,
     "metadata": {},
     "output_type": "execute_result"
    }
   ],
   "source": [
    "programming_languages ^ dynamic_languages   # Symmetric Difference "
   ]
  },
  {
   "cell_type": "code",
   "execution_count": 10,
   "metadata": {},
   "outputs": [
    {
     "data": {
      "text/plain": [
       "['Rose', 'Jane']"
      ]
     },
     "execution_count": 10,
     "metadata": {},
     "output_type": "execute_result"
    }
   ],
   "source": [
    "# 普通做法 vs pythonic\n",
    "\n",
    "backend_developers = ['John', 'Rose', 'Jane', 'Steven']\n",
    "frontend_developers = ['May', 'Rose', 'Jane', 'Jonny']\n",
    "full_stack_developers = []\n",
    "for developer in backend_developers:\n",
    "    if developer in frontend_developers:\n",
    "        full_stack_developers.append(developer)\n",
    "full_stack_developers"
   ]
  },
  {
   "cell_type": "code",
   "execution_count": 12,
   "metadata": {},
   "outputs": [
    {
     "data": {
      "text/plain": [
       "['Jane', 'Rose']"
      ]
     },
     "execution_count": 12,
     "metadata": {},
     "output_type": "execute_result"
    },
    {
     "ename": "",
     "evalue": "",
     "output_type": "error",
     "traceback": [
      "\u001b[1;31mThe Kernel crashed while executing code in the current cell or a previous cell. \n",
      "\u001b[1;31mPlease review the code in the cell(s) to identify a possible cause of the failure. \n",
      "\u001b[1;31mClick <a href='https://aka.ms/vscodeJupyterKernelCrash'>here</a> for more info. \n",
      "\u001b[1;31mView Jupyter <a href='command:jupyter.viewOutput'>log</a> for further details."
     ]
    }
   ],
   "source": [
    "full_stack_developers = list(set(backend_developers) & set(frontend_developers))\n",
    "full_stack_developers"
   ]
  },
  {
   "cell_type": "markdown",
   "metadata": {},
   "source": [
    "## 集合推导"
   ]
  },
  {
   "cell_type": "code",
   "execution_count": 3,
   "metadata": {},
   "outputs": [],
   "source": [
    "from dataclasses import dataclass\n",
    "\n",
    "@dataclass\n",
    "class Person:\n",
    "    name: str"
   ]
  },
  {
   "cell_type": "code",
   "execution_count": 4,
   "metadata": {},
   "outputs": [],
   "source": [
    "people = [Person(f'name - {i}') for i in range(1000)]"
   ]
  },
  {
   "cell_type": "code",
   "execution_count": 5,
   "metadata": {},
   "outputs": [],
   "source": [
    "def build_names():\n",
    "    names = set()\n",
    "    for person in people:\n",
    "        names.add(person.name)\n",
    "    return names"
   ]
  },
  {
   "cell_type": "code",
   "execution_count": 10,
   "metadata": {},
   "outputs": [],
   "source": [
    "def build_names_comprehension():\n",
    "    names = {person.name for person in people}\n",
    "    return names"
   ]
  },
  {
   "cell_type": "code",
   "execution_count": 11,
   "metadata": {},
   "outputs": [
    {
     "name": "stdout",
     "output_type": "stream",
     "text": [
      "56.4 μs ± 1.27 μs per loop (mean ± std. dev. of 7 runs, 10,000 loops each)\n"
     ]
    }
   ],
   "source": [
    "%timeit build_names()"
   ]
  },
  {
   "cell_type": "code",
   "execution_count": 12,
   "metadata": {},
   "outputs": [
    {
     "name": "stdout",
     "output_type": "stream",
     "text": [
      "40 μs ± 193 ns per loop (mean ± std. dev. of 7 runs, 10,000 loops each)\n"
     ]
    }
   ],
   "source": [
    "%timeit build_names_comprehension()"
   ]
  },
  {
   "cell_type": "code",
   "execution_count": 13,
   "metadata": {},
   "outputs": [],
   "source": [
    "import dis"
   ]
  },
  {
   "cell_type": "code",
   "execution_count": 14,
   "metadata": {},
   "outputs": [
    {
     "name": "stdout",
     "output_type": "stream",
     "text": [
      "  1           0 RESUME                   0\n",
      "\n",
      "  2           2 LOAD_GLOBAL              1 (NULL + set)\n",
      "             12 CALL                     0\n",
      "             20 STORE_FAST               0 (names)\n",
      "\n",
      "  3          22 LOAD_GLOBAL              2 (people)\n",
      "             32 GET_ITER\n",
      "        >>   34 FOR_ITER                29 (to 96)\n",
      "             38 STORE_FAST               1 (person)\n",
      "\n",
      "  4          40 LOAD_FAST                0 (names)\n",
      "             42 LOAD_ATTR                5 (NULL|self + add)\n",
      "             62 LOAD_FAST                1 (person)\n",
      "             64 LOAD_ATTR                6 (name)\n",
      "             84 CALL                     1\n",
      "             92 POP_TOP\n",
      "             94 JUMP_BACKWARD           31 (to 34)\n",
      "\n",
      "  3     >>   96 END_FOR\n",
      "\n",
      "  5          98 LOAD_FAST                0 (names)\n",
      "            100 RETURN_VALUE\n"
     ]
    }
   ],
   "source": [
    "dis.dis(build_names)"
   ]
  },
  {
   "cell_type": "code",
   "execution_count": 15,
   "metadata": {},
   "outputs": [
    {
     "name": "stdout",
     "output_type": "stream",
     "text": [
      "  1           0 RESUME                   0\n",
      "\n",
      "  2           2 LOAD_GLOBAL              0 (people)\n",
      "             12 GET_ITER\n",
      "             14 LOAD_FAST_AND_CLEAR      0 (person)\n",
      "             16 SWAP                     2\n",
      "             18 BUILD_SET                0\n",
      "             20 SWAP                     2\n",
      "        >>   22 FOR_ITER                14 (to 54)\n",
      "             26 STORE_FAST               0 (person)\n",
      "             28 LOAD_FAST                0 (person)\n",
      "             30 LOAD_ATTR                2 (name)\n",
      "             50 SET_ADD                  2\n",
      "             52 JUMP_BACKWARD           16 (to 22)\n",
      "        >>   54 END_FOR\n",
      "             56 STORE_FAST               1 (names)\n",
      "             58 STORE_FAST               0 (person)\n",
      "\n",
      "  3          60 LOAD_FAST                1 (names)\n",
      "             62 RETURN_VALUE\n",
      "        >>   64 SWAP                     2\n",
      "             66 POP_TOP\n",
      "\n",
      "  2          68 SWAP                     2\n",
      "             70 STORE_FAST               0 (person)\n",
      "             72 RERAISE                  0\n",
      "ExceptionTable:\n",
      "  18 to 54 -> 64 [2]\n"
     ]
    }
   ],
   "source": [
    "dis.dis(build_names_comprehension)"
   ]
  },
  {
   "cell_type": "markdown",
   "metadata": {},
   "source": [
    "## 集合检测列表值的存在\n",
    "\n",
    "更高效也更易读"
   ]
  },
  {
   "cell_type": "code",
   "execution_count": 21,
   "metadata": {},
   "outputs": [],
   "source": [
    "favorite_names = [f'name - {i}' for i in range(100)]\n",
    "other_names = [f'name - {i}' for i in range(50, 150)]"
   ]
  },
  {
   "cell_type": "code",
   "execution_count": 22,
   "metadata": {},
   "outputs": [],
   "source": [
    "def are_common_names(one_names, other_names):\n",
    "    has_both = False\n",
    "    for name in one_names:\n",
    "        if name in other_names:\n",
    "            has_both = True\n",
    "            return True\n",
    "    return has_both"
   ]
  },
  {
   "cell_type": "code",
   "execution_count": 23,
   "metadata": {},
   "outputs": [],
   "source": [
    "def are_common_names_set_operation(\n",
    "        one_names, other_names\n",
    "):\n",
    "    return len(set(one_names) & set(other_names)) > 0"
   ]
  },
  {
   "cell_type": "code",
   "execution_count": 24,
   "metadata": {},
   "outputs": [
    {
     "name": "stdout",
     "output_type": "stream",
     "text": [
      "55.3 µs ± 658 ns per loop (mean ± std. dev. of 7 runs, 10,000 loops each)\n"
     ]
    }
   ],
   "source": [
    "%timeit are_common_names(favorite_names, other_names)"
   ]
  },
  {
   "cell_type": "code",
   "execution_count": 25,
   "metadata": {},
   "outputs": [
    {
     "name": "stdout",
     "output_type": "stream",
     "text": [
      "5.95 µs ± 271 ns per loop (mean ± std. dev. of 7 runs, 100,000 loops each)\n"
     ]
    }
   ],
   "source": [
    "%timeit are_common_names_set_operation(favorite_names, other_names)"
   ]
  },
  {
   "cell_type": "markdown",
   "metadata": {},
   "source": [
    "## 集合高效去重\n",
    "\n",
    "不重复的元素越多，差距越大"
   ]
  },
  {
   "cell_type": "code",
   "execution_count": 26,
   "metadata": {},
   "outputs": [],
   "source": [
    "list_of_games = [\n",
    "    'PES2021',\n",
    "    'Fifa22',\n",
    "    '1943',\n",
    "    '1943 Kai',\n",
    "    'Super Street Fighter II',\n",
    "    '1943',\n",
    "    'PES2021',\n",
    "    'Fifa22',\n",
    "]"
   ]
  },
  {
   "cell_type": "code",
   "execution_count": 31,
   "metadata": {},
   "outputs": [],
   "source": [
    "def get_unique_of_games(games):\n",
    "    unique_of_games = []\n",
    "    for game in games:\n",
    "        if game not in unique_of_games:\n",
    "            unique_of_games.append(game)\n",
    "\n",
    "    return unique_of_games\n",
    "\n",
    "def get_unique_of_games_with_set_operation(games):\n",
    "    return set(games)"
   ]
  },
  {
   "cell_type": "code",
   "execution_count": 34,
   "metadata": {},
   "outputs": [
    {
     "name": "stdout",
     "output_type": "stream",
     "text": [
      "788 ns ± 26.1 ns per loop (mean ± std. dev. of 7 runs, 1,000,000 loops each)\n"
     ]
    }
   ],
   "source": [
    "%timeit get_unique_of_games(list_of_games)"
   ]
  },
  {
   "cell_type": "code",
   "execution_count": 35,
   "metadata": {},
   "outputs": [
    {
     "name": "stdout",
     "output_type": "stream",
     "text": [
      "299 ns ± 3.96 ns per loop (mean ± std. dev. of 7 runs, 1,000,000 loops each)\n"
     ]
    }
   ],
   "source": [
    "%timeit get_unique_of_games_with_set_operation(list_of_games)"
   ]
  },
  {
   "cell_type": "code",
   "execution_count": 36,
   "metadata": {},
   "outputs": [],
   "source": [
    "import dis"
   ]
  },
  {
   "cell_type": "code",
   "execution_count": 37,
   "metadata": {},
   "outputs": [
    {
     "name": "stdout",
     "output_type": "stream",
     "text": [
      "  2           0 BUILD_LIST               0\n",
      "              2 STORE_FAST               1 (unique_of_games)\n",
      "\n",
      "  3           4 LOAD_FAST                0 (games)\n",
      "              6 GET_ITER\n",
      "        >>    8 FOR_ITER                22 (to 32)\n",
      "             10 STORE_FAST               2 (game)\n",
      "\n",
      "  4          12 LOAD_FAST                2 (game)\n",
      "             14 LOAD_FAST                1 (unique_of_games)\n",
      "             16 COMPARE_OP               7 (not in)\n",
      "             18 POP_JUMP_IF_FALSE        8\n",
      "\n",
      "  5          20 LOAD_FAST                1 (unique_of_games)\n",
      "             22 LOAD_METHOD              0 (append)\n",
      "             24 LOAD_FAST                2 (game)\n",
      "             26 CALL_METHOD              1\n",
      "             28 POP_TOP\n",
      "             30 JUMP_ABSOLUTE            8\n",
      "\n",
      "  7     >>   32 LOAD_FAST                1 (unique_of_games)\n",
      "             34 RETURN_VALUE\n"
     ]
    }
   ],
   "source": [
    "dis.dis(get_unique_of_games)"
   ]
  },
  {
   "cell_type": "code",
   "execution_count": 39,
   "metadata": {},
   "outputs": [
    {
     "name": "stdout",
     "output_type": "stream",
     "text": [
      " 10           0 LOAD_GLOBAL              0 (set)\n",
      "              2 LOAD_FAST                0 (games)\n",
      "              4 CALL_FUNCTION            1\n",
      "              6 RETURN_VALUE\n"
     ]
    }
   ],
   "source": [
    "dis.dis(get_unique_of_games_with_set_operation)"
   ]
  },
  {
   "cell_type": "markdown",
   "metadata": {},
   "source": [
    "## 不可变集合"
   ]
  },
  {
   "cell_type": "code",
   "execution_count": 40,
   "metadata": {},
   "outputs": [
    {
     "data": {
      "text/plain": [
       "frozenset({1, 2, 3})"
      ]
     },
     "execution_count": 40,
     "metadata": {},
     "output_type": "execute_result"
    }
   ],
   "source": [
    "frozenset([1,2,3])"
   ]
  },
  {
   "cell_type": "code",
   "execution_count": 41,
   "metadata": {},
   "outputs": [
    {
     "data": {
      "text/plain": [
       "frozenset({1, 2, 3})"
      ]
     },
     "execution_count": 41,
     "metadata": {},
     "output_type": "execute_result"
    }
   ],
   "source": [
    "frozenset((1, 2, 3,))"
   ]
  },
  {
   "cell_type": "code",
   "execution_count": 42,
   "metadata": {},
   "outputs": [
    {
     "data": {
      "text/plain": [
       "frozenset({'a', 'b'})"
      ]
     },
     "execution_count": 42,
     "metadata": {},
     "output_type": "execute_result"
    }
   ],
   "source": [
    "frozenset(({'a':1, 'b':2}))"
   ]
  },
  {
   "cell_type": "code",
   "execution_count": 43,
   "metadata": {},
   "outputs": [],
   "source": [
    "languages = ['Python', 'C#', 'Java']"
   ]
  },
  {
   "cell_type": "markdown",
   "metadata": {},
   "source": [
    "## Counter"
   ]
  },
  {
   "cell_type": "code",
   "execution_count": null,
   "metadata": {},
   "outputs": [],
   "source": []
  },
  {
   "cell_type": "code",
   "execution_count": null,
   "metadata": {},
   "outputs": [],
   "source": []
  }
 ],
 "metadata": {
  "kernelspec": {
   "display_name": "dv3r1_3d",
   "language": "python",
   "name": "python3"
  },
  "language_info": {
   "codemirror_mode": {
    "name": "ipython",
    "version": 3
   },
   "file_extension": ".py",
   "mimetype": "text/x-python",
   "name": "python",
   "nbconvert_exporter": "python",
   "pygments_lexer": "ipython3",
   "version": "3.8.10"
  }
 },
 "nbformat": 4,
 "nbformat_minor": 2
}
