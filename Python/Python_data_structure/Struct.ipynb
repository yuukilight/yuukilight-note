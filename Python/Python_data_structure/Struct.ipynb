{
 "cells": [
  {
   "cell_type": "code",
   "execution_count": 1,
   "metadata": {},
   "outputs": [],
   "source": [
    "from struct import Struct"
   ]
  },
  {
   "cell_type": "code",
   "execution_count": 2,
   "metadata": {},
   "outputs": [
    {
     "data": {
      "text/plain": [
       "b'f\\x00\\x00\\x00\\x00\\x00\\x00\\x00\\xcd\\xcc|A'"
      ]
     },
     "execution_count": 2,
     "metadata": {},
     "output_type": "execute_result"
    }
   ],
   "source": [
    "my_struct = Struct('i?f')\n",
    "data = my_struct.pack(102, False, 15.8)\n",
    "data"
   ]
  },
  {
   "cell_type": "code",
   "execution_count": 3,
   "metadata": {},
   "outputs": [
    {
     "data": {
      "text/plain": [
       "(102, False, 15.800000190734863)"
      ]
     },
     "execution_count": 3,
     "metadata": {},
     "output_type": "execute_result"
    }
   ],
   "source": [
    "unpack_data = my_struct.unpack(data)\n",
    "unpack_data"
   ]
  },
  {
   "cell_type": "code",
   "execution_count": 4,
   "metadata": {},
   "outputs": [],
   "source": [
    "from collections import namedtuple"
   ]
  },
  {
   "cell_type": "markdown",
   "metadata": {},
   "source": [
    "Struct 没有字符串的概念，需要转换成 bytes"
   ]
  },
  {
   "cell_type": "code",
   "execution_count": 7,
   "metadata": {},
   "outputs": [
    {
     "data": {
      "text/plain": [
       "Person(name=b'Bobby', desc=b'Hell, Bobby!\\xe6\\xb5\\x8b\\xe8\\xaf\\x95\\xe5\\x93\\xa6\\xef\\xbc\\x81', age=28, upgrade=False, score=99.5)"
      ]
     },
     "execution_count": 7,
     "metadata": {},
     "output_type": "execute_result"
    }
   ],
   "source": [
    "Person = namedtuple('Person', 'name, desc, age, upgrade, score')\n",
    "person = Person(\n",
    "    bytes('Bobby', encoding='UTF-8'),\n",
    "    bytes('Hell, Bobby!测试哦！', encoding = 'UTF-8'),\n",
    "    28,\n",
    "    False,\n",
    "    99.5,\n",
    ")\n",
    "person"
   ]
  },
  {
   "cell_type": "code",
   "execution_count": 8,
   "metadata": {},
   "outputs": [
    {
     "data": {
      "text/plain": [
       "b'BobbyHell, Bobby!\\xe6\\xb5\\x8b\\xe8\\xaf\\x95\\xe5\\x93\\xa6\\xef\\xbc\\x81\\x00\\x00\\x00\\x1c\\x00\\x00\\x00\\x00\\x00\\x00\\x00\\x00\\x00\\xc7B'"
      ]
     },
     "execution_count": 8,
     "metadata": {},
     "output_type": "execute_result"
    }
   ],
   "source": [
    "my_struct = Struct(f'{len(person.name)}s{len(person.desc)}si?f')\n",
    "data = my_struct.pack(*person)\n",
    "data"
   ]
  },
  {
   "cell_type": "code",
   "execution_count": 9,
   "metadata": {},
   "outputs": [],
   "source": [
    "unpack_data = my_struct.unpack(data)"
   ]
  },
  {
   "cell_type": "code",
   "execution_count": 10,
   "metadata": {},
   "outputs": [
    {
     "data": {
      "text/plain": [
       "Person(name=b'Bobby', desc=b'Hell, Bobby!\\xe6\\xb5\\x8b\\xe8\\xaf\\x95\\xe5\\x93\\xa6\\xef\\xbc\\x81', age=28, upgrade=False, score=99.5)"
      ]
     },
     "execution_count": 10,
     "metadata": {},
     "output_type": "execute_result"
    }
   ],
   "source": [
    "person = Person._make(unpack_data)\n",
    "person"
   ]
  },
  {
   "cell_type": "code",
   "execution_count": 11,
   "metadata": {},
   "outputs": [
    {
     "name": "stdout",
     "output_type": "stream",
     "text": [
      "Bobby\n",
      "Hell, Bobby!测试哦！\n",
      "28 False 99.5\n"
     ]
    }
   ],
   "source": [
    "print(str(person.name, encoding = 'UTF-8'))\n",
    "print(str(person.desc, encoding = 'UTF-8'))\n",
    "print(person.age, person.upgrade, person.score)"
   ]
  },
  {
   "cell_type": "code",
   "execution_count": 12,
   "metadata": {},
   "outputs": [
    {
     "data": {
      "text/plain": [
       "{'x': 1, 'gs': 2}"
      ]
     },
     "execution_count": 12,
     "metadata": {},
     "output_type": "execute_result"
    }
   ],
   "source": [
    "t = {'x': 1, 'gs': 2}\n",
    "t"
   ]
  },
  {
   "cell_type": "code",
   "execution_count": 13,
   "metadata": {},
   "outputs": [
    {
     "data": {
      "text/plain": [
       "1"
      ]
     },
     "execution_count": 13,
     "metadata": {},
     "output_type": "execute_result"
    }
   ],
   "source": [
    "t['x']"
   ]
  },
  {
   "cell_type": "code",
   "execution_count": 24,
   "metadata": {},
   "outputs": [],
   "source": [
    "def unpack(**x):\n",
    "    for _ in x:\n",
    "        print(type(x))\n",
    "        print(_)"
   ]
  },
  {
   "cell_type": "code",
   "execution_count": 29,
   "metadata": {},
   "outputs": [
    {
     "ename": "TypeError",
     "evalue": "unpack() got an unexpected keyword argument 'x'",
     "output_type": "error",
     "traceback": [
      "\u001b[1;31m---------------------------------------------------------------------------\u001b[0m",
      "\u001b[1;31mTypeError\u001b[0m                                 Traceback (most recent call last)",
      "Cell \u001b[1;32mIn[29], line 1\u001b[0m\n\u001b[1;32m----> 1\u001b[0m unpack(\u001b[38;5;241m*\u001b[39m\u001b[38;5;241m*\u001b[39mt)\n",
      "\u001b[1;31mTypeError\u001b[0m: unpack() got an unexpected keyword argument 'x'"
     ]
    }
   ],
   "source": [
    "unpack(**t)"
   ]
  },
  {
   "cell_type": "code",
   "execution_count": null,
   "metadata": {},
   "outputs": [],
   "source": []
  }
 ],
 "metadata": {
  "kernelspec": {
   "display_name": "base",
   "language": "python",
   "name": "python3"
  },
  "language_info": {
   "codemirror_mode": {
    "name": "ipython",
    "version": 3
   },
   "file_extension": ".py",
   "mimetype": "text/x-python",
   "name": "python",
   "nbconvert_exporter": "python",
   "pygments_lexer": "ipython3",
   "version": "3.12.4"
  }
 },
 "nbformat": 4,
 "nbformat_minor": 2
}
