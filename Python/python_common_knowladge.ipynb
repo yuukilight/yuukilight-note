{
 "cells": [
  {
   "cell_type": "markdown",
   "metadata": {},
   "source": [
    "## 使用 assert 确保程序正确的运行\n",
    "\n",
    "在程序运行过程中，肯会出现各种奇怪的问题。如果带着这些问题继续运行，可能导致：\n",
    "1. 出现各种意想不到的的结果；\n",
    "2. 结果异常，耗费大量时间去排查；\n",
    "等等...\n",
    "\n",
    "通过使用 assert 语句限制变量的范围。当变量不满足要求则直接退出程序，并提示预设的信息。\n",
    "\n",
    "下面的代码是一段使用 assert 的示例，通过 ```assert result > 0```, 限制变量 ```result```必须要大于 0 ， 程序才能正常运行，否则就会报错并提示信息 ```Error with result = {result}```."
   ]
  },
  {
   "cell_type": "code",
   "execution_count": null,
   "metadata": {},
   "outputs": [],
   "source": [
    "result = 1\n",
    "\n",
    "assert result > 0, \"Error with result = {0}\".format(result)"
   ]
  },
  {
   "cell_type": "markdown",
   "metadata": {},
   "source": [
    "## 选择正确的逗号位置\n",
    "\n",
    "代码版控制器对于代码的改动，通常是以行为单位。也就是说如果一行出现多处改动，会导致查看代码变动时，难以定位改动的地方。\n",
    "\n",
    "因此在 python 中， 定义类似列表和字典的数据结构时，对其中的每个元素都是一行使用一个逗号分隔。\n",
    "\n",
    "如下代码，展示了一个 好的逗号分隔 和 糟糕的逗号分隔："
   ]
  },
  {
   "cell_type": "code",
   "execution_count": null,
   "metadata": {},
   "outputs": [],
   "source": [
    "# good\n",
    "hh = ['FireFly',\n",
    "      'Mikasa',\n",
    "      'Misaka',\n",
    "      ]\n",
    "\n",
    "\n",
    "# bad\n",
    "hh = ['FireFly','Mikasa','Misaka',]"
   ]
  },
  {
   "cell_type": "markdown",
   "metadata": {},
   "source": [
    "## python 中的下划线\n",
    "- 导入模块时，开头加下划线的不会被导入\n",
    "- 命名为了解决冲突可以在名字结尾加上_\n",
    "- 类中使用双下划线命名或者方法，可以避免子类覆盖或访问基类的私有属性或方法\n",
    "\n",
    "如下示例代码中定义了 ```self.__center``` ， 实例化后变成了 ```_Dock__center```, 从而防止子类和实例化后被调用。"
   ]
  },
  {
   "cell_type": "code",
   "execution_count": 2,
   "metadata": {},
   "outputs": [
    {
     "data": {
      "text/plain": [
       "['_Dock__center',\n",
       " '__class__',\n",
       " '__delattr__',\n",
       " '__dict__',\n",
       " '__dir__',\n",
       " '__doc__',\n",
       " '__eq__',\n",
       " '__format__',\n",
       " '__ge__',\n",
       " '__getattribute__',\n",
       " '__getstate__',\n",
       " '__gt__',\n",
       " '__hash__',\n",
       " '__init__',\n",
       " '__init_subclass__',\n",
       " '__le__',\n",
       " '__lt__',\n",
       " '__module__',\n",
       " '__ne__',\n",
       " '__new__',\n",
       " '__reduce__',\n",
       " '__reduce_ex__',\n",
       " '__repr__',\n",
       " '__setattr__',\n",
       " '__sizeof__',\n",
       " '__str__',\n",
       " '__subclasshook__',\n",
       " '__weakref__',\n",
       " '_right',\n",
       " 'left',\n",
       " 'print_center']"
      ]
     },
     "execution_count": 2,
     "metadata": {},
     "output_type": "execute_result"
    }
   ],
   "source": [
    "class Dock:\n",
    "    def __init__(self):\n",
    "        self.left = 0\n",
    "        self._right = 100\n",
    "        self.__center = 50\n",
    "\n",
    "    def print_center(self):\n",
    "        print(self.__center)\n",
    "\n",
    "dock = Dock()\n",
    "dir(dock)"
   ]
  },
  {
   "cell_type": "markdown",
   "metadata": {},
   "source": [
    "## 格式化字符串，基于 C style\n",
    "\n",
    "即字符串中有 '%s', '%d' 等 c 风格的格式化占位符时。在其后方添加 '%(var1, var2)' 将会用变量替换这些占位符\n",
    "\n",
    "话不多说， 直接看例子"
   ]
  },
  {
   "cell_type": "code",
   "execution_count": 3,
   "metadata": {},
   "outputs": [
    {
     "data": {
      "text/plain": [
       "'Hello, Henry'"
      ]
     },
     "execution_count": 3,
     "metadata": {},
     "output_type": "execute_result"
    }
   ],
   "source": [
    "name = 'Henry'\n",
    "'Hello, %s' % name"
   ]
  },
  {
   "cell_type": "code",
   "execution_count": 6,
   "metadata": {},
   "outputs": [
    {
     "data": {
      "text/plain": [
       "'4c9'"
      ]
     },
     "execution_count": 6,
     "metadata": {},
     "output_type": "execute_result"
    }
   ],
   "source": [
    "error_code = 1225\n",
    "'%x' % error_code"
   ]
  },
  {
   "cell_type": "code",
   "execution_count": 7,
   "metadata": {},
   "outputs": [
    {
     "data": {
      "text/plain": [
       "'Hello Henry, has a 0x4c9 error!'"
      ]
     },
     "execution_count": 7,
     "metadata": {},
     "output_type": "execute_result"
    }
   ],
   "source": [
    "'Hello %s, has a 0x%x error!' % (name, error_code)"
   ]
  },
  {
   "cell_type": "code",
   "execution_count": 8,
   "metadata": {},
   "outputs": [
    {
     "data": {
      "text/plain": [
       "'Hello Henry, has a 0x4c9 error!'"
      ]
     },
     "execution_count": 8,
     "metadata": {},
     "output_type": "execute_result"
    }
   ],
   "source": [
    "'Hello %(name)s, has a 0x%(error_code)x error!' % {\n",
    "    'name': name,\n",
    "    'error_code':error_code,\n",
    "}"
   ]
  },
  {
   "cell_type": "markdown",
   "metadata": {},
   "source": [
    "## 使用模板打印字符串"
   ]
  },
  {
   "cell_type": "markdown",
   "metadata": {},
   "source": [
    "使用 string 库中的 Template 可以自定义 string 模板\n",
    "```python\n",
    "from string import Template\n",
    "template = Template('Hello, $var1!, $var2!!!')\n",
    "```\n",
    "$ 符号后表示的是变量， 可以自己进行定义\n",
    "```python\n",
    "from string import Template\n",
    "class MyTemplate(Template):\n",
    "    delimiter = '%'\n",
    "```"
   ]
  },
  {
   "cell_type": "code",
   "execution_count": null,
   "metadata": {},
   "outputs": [
    {
     "data": {
      "text/plain": [
       "'Hello, yuukilight!, 123!!!'"
      ]
     },
     "execution_count": 2,
     "metadata": {},
     "output_type": "execute_result"
    }
   ],
   "source": [
    "from string import Template\n",
    "\n",
    "template = Template('Hello, $username!, $gg!!!')\n",
    "\n",
    "template.substitute(username='yuukilight', gg = 123)"
   ]
  },
  {
   "cell_type": "markdown",
   "metadata": {},
   "source": [
    "## With 语句和上下文管理器\n",
    "\n",
    "只要正确实现了上下文管理就可以使用 with 语句。\n",
    "### ```__enter__``` 与 ```__exit__```\n",
    "\n",
    "上下文管理器通过 ```__enter__``` 和 ```__exit__``` 两个方法实现\n",
    "\n",
    "例如：\n",
    "```python\n",
    "class Query(object):\n",
    "    def __init__(self, name):\n",
    "        self.name = name\n",
    "    \n",
    "    def __enter__(self):\n",
    "        print('Begin')\n",
    "        return self\n",
    "\n",
    "    def __exit__(self, exc_type, exc_value, trace_back):\n",
    "        if exc_type:\n",
    "            print('Error')\n",
    "        else:\n",
    "            print('End')\n",
    "\n",
    "    def query(self):\n",
    "        print('Query info about %s...' % self.name)\n",
    "\n",
    "with Query('Bob') as q:\n",
    "    q.query()\n",
    "```"
   ]
  },
  {
   "cell_type": "code",
   "execution_count": 3,
   "metadata": {},
   "outputs": [
    {
     "name": "stdout",
     "output_type": "stream",
     "text": [
      "Begin\n",
      "Query info about Bob...\n",
      "End\n"
     ]
    }
   ],
   "source": [
    "class Query(object):\n",
    "    def __init__(self, name):\n",
    "        self.name = name\n",
    "    \n",
    "    def __enter__(self):\n",
    "        print('Begin')\n",
    "        return self\n",
    "\n",
    "    def __exit__(self, exc_type, exc_value, trace_back):\n",
    "        if exc_type:\n",
    "            print('Error')\n",
    "        else:\n",
    "            print('End')\n",
    "\n",
    "    def query(self):\n",
    "        print('Query info about %s...' % self.name)\n",
    "\n",
    "with Query('Bob') as q:\n",
    "    q.query()"
   ]
  },
  {
   "cell_type": "markdown",
   "metadata": {},
   "source": [
    "编写__enter__和__exit__仍然很繁琐，因此Python的标准库contextlib提供了更简单的写法，上面的代码可以改写如下：\n",
    "```python\n",
    "from contextlib import contextmanager\n",
    "\n",
    "class Query(object):\n",
    "    def __init__(self, name):\n",
    "        self.name = name\n",
    "\n",
    "    def query(self):\n",
    "        print('Query info about %s...' % self.name)\n",
    "\n",
    "@contextmanager\n",
    "def create_query(name):\n",
    "    print('Begin')\n",
    "    q = Query(name)\n",
    "    yield q\n",
    "    print('End')\n",
    "```\n",
    "\n",
    "@contextmanager 这个 decorator 接受一个generator，用yield语句把with ... as var把变量输出出去，然后，with语句就可以正常地工作了：\n",
    "\n",
    "相当于 yield 返回前的部分是 ```__enter__```, yield 返回后的部分是 ```__exit__```. "
   ]
  },
  {
   "cell_type": "markdown",
   "metadata": {},
   "source": [
    "### @contextmanager \n",
    "\n",
    "当我们希望在执行某段代码前后固定执行特定代码，也可以使用 @contextmanager 实现。\n",
    "例如："
   ]
  },
  {
   "cell_type": "code",
   "execution_count": 4,
   "metadata": {},
   "outputs": [
    {
     "name": "stdout",
     "output_type": "stream",
     "text": [
      "<yuukilight>\n",
      "Hello\n",
      "world\n",
      "<yuukilight>\n"
     ]
    }
   ],
   "source": [
    "from contextlib import contextmanager\n",
    "\n",
    "@contextmanager\n",
    "def tag(name):\n",
    "    print(\"<%s>\" % name)\n",
    "    yield\n",
    "    print(\"<%s>\" % name)\n",
    "\n",
    "with tag('yuukilight'):\n",
    "    print('Hello')\n",
    "    print('world')"
   ]
  },
  {
   "cell_type": "markdown",
   "metadata": {},
   "source": [
    "代码执行顺序\n",
    "1. with 语句首先执行 yield 前的语句\n",
    "2. 执行 with 内部所有的语句\n",
    "3. 最后执行 yield 后的语句"
   ]
  },
  {
   "cell_type": "markdown",
   "metadata": {},
   "source": [
    "### @closing\n",
    "\n",
    "如果一个对象没有实现上下文，我们就不能把它用于with语句。这个时候，可以用closing()来把该对象变为上下文对象。例如，用with语句使用urlopen()：\n",
    "```python\n",
    "from contextlib import closing\n",
    "from urllib.request import urlopen\n",
    "\n",
    "with closing(urlopen('https://www.python.org')) as page:\n",
    "    for line in page:\n",
    "        print(line)\n",
    "\n",
    "```\n",
    "closing也是一个经过@contextmanager装饰的generator，这个generator编写起来其实非常简单：\n",
    "```python\n",
    "@contextmanager\n",
    "def closing(thing):\n",
    "    try:\n",
    "        yield thing\n",
    "    finally:\n",
    "        thing.close()\n",
    "```\n",
    "@closing 的作用是将任意对象变成上下文对象，从而可以支持 with 语句。\n"
   ]
  },
  {
   "cell_type": "markdown",
   "metadata": {},
   "source": [
    "## Comment\n",
    "### block comments\n",
    "- 通常多行，解释一些细节。\n",
    "- 缩进和当前代码同级。\n",
    "- 注释如果要分段，使用空白行间隔。空白行同样需要 # 号开头。\n",
    "- 块注释中不要去解释过程\n",
    "\n",
    "### inline comments\n",
    "- 尽量避免使用\n",
    "- 尽量和描述的代码在同一行\n",
    "- 和代码之间最好有两个以上的空格\n",
    "- 避免用来描述很明显的逻辑\n",
    "\n",
    "注释要和代码保持同步更新\n"
   ]
  },
  {
   "cell_type": "code",
   "execution_count": 10,
   "metadata": {},
   "outputs": [],
   "source": [
    "# Add comment for you codes\n",
    "# Block comment tutrial\n",
    "\n",
    "from typing import Iterable\n",
    "\n",
    "def read_lines_from_file(path: str) -> Iterable[str]:\n",
    "    # Read every line from the given file,\n",
    "    # if just handles the rows which is not blank,\n",
    "    # it should ignore the newline character\n",
    "    #\n",
    "    # By the way, it should not check the existence of the given file\n",
    "    # it's not the business of this function\n",
    "    # let the invoker to handle the raises if it does not exists that file\n",
    "    #\n",
    "    # the file readline document below\n",
    "    # see: https://jupyter-docker-stacks..................................................................................................................................................\n",
    "    with open(path, 'r') as file:\n",
    "        while line := file.readline():\n",
    "            line = line.strip()\n",
    "            if line:\n",
    "                yield line"
   ]
  },
  {
   "cell_type": "code",
   "execution_count": 11,
   "metadata": {},
   "outputs": [
    {
     "name": "stdout",
     "output_type": "stream",
     "text": [
      "The Zen of Python, by Tim Peters\n",
      "\n",
      "Beautiful is better than ugly.\n",
      "Explicit is better than implicit.\n",
      "Simple is better than complex.\n",
      "Complex is better than complicated.\n",
      "Flat is better than nested.\n",
      "Sparse is better than dense.\n",
      "Readability counts.\n",
      "Special cases aren't special enough to break the rules.\n",
      "Although practicality beats purity.\n",
      "Errors should never pass silently.\n",
      "Unless explicitly silenced.\n",
      "In the face of ambiguity, refuse the temptation to guess.\n",
      "There should be one-- and preferably only one --obvious way to do it.\n",
      "Although that way may not be obvious at first unless you're Dutch.\n",
      "Now is better than never.\n",
      "Although never is often better than *right* now.\n",
      "If the implementation is hard to explain, it's a bad idea.\n",
      "If the implementation is easy to explain, it may be a good idea.\n",
      "Namespaces are one honking great idea -- let's do more of those!\n"
     ]
    }
   ],
   "source": [
    "import this"
   ]
  },
  {
   "cell_type": "markdown",
   "metadata": {},
   "source": [
    "## 布局\n",
    "- 不同类和函数之间用两个空行隔开\n",
    "- 类内部的函数中一个空行隔开\n",
    "- 函数内可以划分为不同步骤，不同的步骤可以分开"
   ]
  },
  {
   "cell_type": "markdown",
   "metadata": {},
   "source": [
    "## 文档字符串（Docstring）\n",
    "我们可以在函数体的第一行使用一对三个单引号 ''' 或者一对三个双引号 \"\"\" 来定义文档字符串。\n",
    "\n",
    "你可以使用 __doc__（注意双下划线）调用函数中的文档字符串属性。\n",
    "\n",
    "DocStrings 文档字符串使用惯例：它的首行简述函数功能，第二行空行，第三行为函数的具体描述。\n",
    "\n",
    "注意不要用这种方式写注释，因为会导致一些自动化工具自动解析成文档。导致阅读困难"
   ]
  },
  {
   "cell_type": "markdown",
   "metadata": {},
   "source": [
    "**Ex 1:**"
   ]
  },
  {
   "cell_type": "code",
   "execution_count": 12,
   "metadata": {},
   "outputs": [
    {
     "name": "stdout",
     "output_type": "stream",
     "text": [
      "执行操作\n",
      "    \n",
      "    先执行a, 再执行b\n",
      "    \n"
     ]
    }
   ],
   "source": [
    "def execute():\n",
    "    \"\"\"执行操作\n",
    "    \n",
    "    先执行a, 再执行b\n",
    "    \"\"\"\n",
    "    pass\n",
    "\n",
    "print(execute.__doc__)"
   ]
  },
  {
   "cell_type": "code",
   "execution_count": 23,
   "metadata": {},
   "outputs": [
    {
     "name": "stdout",
     "output_type": "stream",
     "text": [
      "\u001b[1;31mSignature:\u001b[0m \u001b[0mexecute\u001b[0m\u001b[1;33m(\u001b[0m\u001b[1;33m)\u001b[0m\u001b[1;33m\u001b[0m\u001b[1;33m\u001b[0m\u001b[0m\n",
      "\u001b[1;31mDocstring:\u001b[0m\n",
      "执行操作\n",
      "\n",
      "先执行a, 再执行b\n",
      "\u001b[1;31mFile:\u001b[0m      c:\\users\\b3720\\appdata\\local\\temp\\ipykernel_15976\\3133771763.py\n",
      "\u001b[1;31mType:\u001b[0m      function"
     ]
    }
   ],
   "source": [
    "execute?"
   ]
  },
  {
   "cell_type": "markdown",
   "metadata": {},
   "source": [
    "**Ex 2:**"
   ]
  },
  {
   "cell_type": "code",
   "execution_count": 9,
   "metadata": {},
   "outputs": [],
   "source": [
    "def fetch_content_from(url: str) -> str:\n",
    "    \"\"\"fetch_content_from fetch the content in utf-8 encoded with given url\n",
    "    Some decription here.\n",
    "    Another decription here.\n",
    "\n",
    "    Not: The key point to note\n",
    "\n",
    "    Args:\n",
    "        url: A string where to fetch the content from\n",
    "\n",
    "    Returns:\n",
    "        A string with utf-8 encoded content provided by the site\n",
    "\n",
    "    Raises:\n",
    "        ValueError: if url argument is not of the expected type(str)\n",
    "    \"\"\"\n",
    "    pass"
   ]
  },
  {
   "cell_type": "code",
   "execution_count": 17,
   "metadata": {},
   "outputs": [
    {
     "name": "stdout",
     "output_type": "stream",
     "text": [
      "\u001b[1;31mSignature:\u001b[0m \u001b[0mfetch_content_from\u001b[0m\u001b[1;33m(\u001b[0m\u001b[0murl\u001b[0m\u001b[1;33m:\u001b[0m \u001b[0mstr\u001b[0m\u001b[1;33m)\u001b[0m \u001b[1;33m->\u001b[0m \u001b[0mstr\u001b[0m\u001b[1;33m\u001b[0m\u001b[1;33m\u001b[0m\u001b[0m\n",
      "\u001b[1;31mDocstring:\u001b[0m\n",
      "fetch_content_from fetch the content in utf-8 encoded with given url\n",
      "Some decription here.\n",
      "Another decription here.\n",
      "\n",
      "Not: The key point to note\n",
      "\n",
      "Args:\n",
      "    url: A string where to fetch the content from\n",
      "\n",
      "Returns:\n",
      "    A string with utf-8 encoded content provided by the site\n",
      "\n",
      "Raises:\n",
      "    ValueError: if url argument is not of the expected type(str)\n",
      "\u001b[1;31mFile:\u001b[0m      c:\\users\\b3720\\appdata\\local\\temp\\ipykernel_15976\\3322123609.py\n",
      "\u001b[1;31mType:\u001b[0m      function"
     ]
    }
   ],
   "source": [
    "\n",
    "fetch_content_from?"
   ]
  },
  {
   "cell_type": "code",
   "execution_count": 11,
   "metadata": {},
   "outputs": [
    {
     "data": {
      "text/plain": [
       "'fetch_content_from fetch the content in utf-8 encoded with given url\\n    Some decription here.\\n    Another decription here.\\n\\n    Not: The key point to note\\n\\n    Args:\\n        url: A string where to fetch the content from\\n\\n    Returns:\\n        A string with utf-8 encoded content provided by the site\\n\\n    Raises:\\n        ValueError: if url argument is not of the expected type(str)\\n    '"
      ]
     },
     "execution_count": 11,
     "metadata": {},
     "output_type": "execute_result"
    }
   ],
   "source": [
    "fetch_content_from.__doc__"
   ]
  },
  {
   "cell_type": "markdown",
   "metadata": {},
   "source": [
    "**Ex 3:**"
   ]
  },
  {
   "cell_type": "code",
   "execution_count": 24,
   "metadata": {},
   "outputs": [
    {
     "name": "stdout",
     "output_type": "stream",
     "text": [
      "\u001b[1;31mDocstring:\u001b[0m\n",
      "D.update([E, ]**F) -> None.  Update D from dict/iterable E and F.\n",
      "If E is present and has a .keys() method, then does:  for k in E: D[k] = E[k]\n",
      "If E is present and lacks a .keys() method, then does:  for k, v in E: D[k] = v\n",
      "In either case, this is followed by: for k in F:  D[k] = F[k]\n",
      "\u001b[1;31mType:\u001b[0m      method_descriptor"
     ]
    }
   ],
   "source": [
    "dict.update?"
   ]
  },
  {
   "cell_type": "markdown",
   "metadata": {},
   "source": [
    "PEP 3107\n",
    "## 注解 Annotations\n",
    "\n"
   ]
  },
  {
   "cell_type": "code",
   "execution_count": 25,
   "metadata": {},
   "outputs": [
    {
     "data": {
      "text/plain": [
       "{'radius': float, 'return': __main__.Circle}"
      ]
     },
     "execution_count": 25,
     "metadata": {},
     "output_type": "execute_result"
    }
   ],
   "source": [
    "class Circle:\n",
    "    def __init__(self, radius):\n",
    "        self.radius = radius\n",
    "        self.area = 0\n",
    "\n",
    "def area(radius: float) -> Circle:\n",
    "    \"\"\"Comput area of a Cricle with given radius\"\"\"\n",
    "    pass\n",
    "\n",
    "area.__annotations__"
   ]
  },
  {
   "cell_type": "markdown",
   "metadata": {},
   "source": [
    "## 命名\n",
    "一般情况下\n",
    "\n",
    "描述业务功能 优于 函数功能。好的命名不需要注释"
   ]
  },
  {
   "cell_type": "code",
   "execution_count": null,
   "metadata": {},
   "outputs": [],
   "source": []
  }
 ],
 "metadata": {
  "kernelspec": {
   "display_name": "Python 3",
   "language": "python",
   "name": "python3"
  },
  "language_info": {
   "codemirror_mode": {
    "name": "ipython",
    "version": 3
   },
   "file_extension": ".py",
   "mimetype": "text/x-python",
   "name": "python",
   "nbconvert_exporter": "python",
   "pygments_lexer": "ipython3",
   "version": "3.11.11"
  }
 },
 "nbformat": 4,
 "nbformat_minor": 2
}
