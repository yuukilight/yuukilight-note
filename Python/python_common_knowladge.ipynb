{
 "cells": [
  {
   "cell_type": "markdown",
   "metadata": {},
   "source": [
    "## 使用 assert 确保程序正确的运行\n",
    "\n",
    "在程序运行过程中，肯会出现各种奇怪的问题。如果带着这些问题继续运行，可能导致：\n",
    "1. 出现各种意想不到的的结果；\n",
    "2. 结果异常，耗费大量时间去排查；\n",
    "等等...\n",
    "\n",
    "通过使用 assert 语句限制变量的范围。当变量不满足要求则直接退出程序，并提示预设的信息。\n",
    "\n",
    "下面的代码是一段使用 assert 的示例，通过 ```assert result > 0```, 限制变量 ```result```必须要大于 0 ， 程序才能正常运行，否则就会报错并提示信息 ```Error with result = {result}```."
   ]
  },
  {
   "cell_type": "code",
   "execution_count": null,
   "metadata": {},
   "outputs": [],
   "source": [
    "result = 1\n",
    "\n",
    "assert result > 0, \"Error with result = {0}\".format(result)"
   ]
  },
  {
   "cell_type": "markdown",
   "metadata": {},
   "source": [
    "## 选择正确的逗号位置\n",
    "\n",
    "代码版控制器对于代码的改动，通常是以行为单位。也就是说如果一行出现多处改动，会导致查看代码变动时，难以定位改动的地方。\n",
    "\n",
    "因此在 python 中， 定义类似列表和字典的数据结构时，对其中的每个元素都是一行使用一个逗号分隔。\n",
    "\n",
    "如下代码，展示了一个 好的逗号分隔 和 糟糕的逗号分隔："
   ]
  },
  {
   "cell_type": "code",
   "execution_count": null,
   "metadata": {},
   "outputs": [],
   "source": [
    "# good\n",
    "hh = ['FireFly',\n",
    "      'Mikasa',\n",
    "      'Misaka',\n",
    "      ]\n",
    "\n",
    "\n",
    "# bad\n",
    "hh = ['FireFly','Mikasa','Misaka',]"
   ]
  },
  {
   "cell_type": "markdown",
   "metadata": {},
   "source": [
    "## python 中的下划线\n",
    "- 导入模块时，开头加下划线的不会被导入\n",
    "- 命名为了解决冲突可以在名字结尾加上_\n",
    "- 类中使用双下划线命名或者方法，可以避免子类覆盖或访问基类的私有属性或方法\n",
    "\n",
    "如下示例代码中定义了 ```self.__center``` ， 实例化后变成了 ```_Dock__center```, 从而防止子类和实例化后被调用。"
   ]
  },
  {
   "cell_type": "code",
   "execution_count": 2,
   "metadata": {},
   "outputs": [
    {
     "data": {
      "text/plain": [
       "['_Dock__center',\n",
       " '__class__',\n",
       " '__delattr__',\n",
       " '__dict__',\n",
       " '__dir__',\n",
       " '__doc__',\n",
       " '__eq__',\n",
       " '__format__',\n",
       " '__ge__',\n",
       " '__getattribute__',\n",
       " '__getstate__',\n",
       " '__gt__',\n",
       " '__hash__',\n",
       " '__init__',\n",
       " '__init_subclass__',\n",
       " '__le__',\n",
       " '__lt__',\n",
       " '__module__',\n",
       " '__ne__',\n",
       " '__new__',\n",
       " '__reduce__',\n",
       " '__reduce_ex__',\n",
       " '__repr__',\n",
       " '__setattr__',\n",
       " '__sizeof__',\n",
       " '__str__',\n",
       " '__subclasshook__',\n",
       " '__weakref__',\n",
       " '_right',\n",
       " 'left',\n",
       " 'print_center']"
      ]
     },
     "execution_count": 2,
     "metadata": {},
     "output_type": "execute_result"
    }
   ],
   "source": [
    "class Dock:\n",
    "    def __init__(self):\n",
    "        self.left = 0\n",
    "        self._right = 100\n",
    "        self.__center = 50\n",
    "\n",
    "    def print_center(self):\n",
    "        print(self.__center)\n",
    "\n",
    "dock = Dock()\n",
    "dir(dock)"
   ]
  },
  {
   "cell_type": "markdown",
   "metadata": {},
   "source": [
    "## 格式化字符串，基于 C style\n",
    "\n",
    "话不多说， 直接看例子"
   ]
  },
  {
   "cell_type": "code",
   "execution_count": 3,
   "metadata": {},
   "outputs": [
    {
     "data": {
      "text/plain": [
       "'Hello, Henry'"
      ]
     },
     "execution_count": 3,
     "metadata": {},
     "output_type": "execute_result"
    }
   ],
   "source": [
    "name = 'Henry'\n",
    "'Hello, %s' % name"
   ]
  },
  {
   "cell_type": "code",
   "execution_count": 6,
   "metadata": {},
   "outputs": [
    {
     "data": {
      "text/plain": [
       "'4c9'"
      ]
     },
     "execution_count": 6,
     "metadata": {},
     "output_type": "execute_result"
    }
   ],
   "source": [
    "error_code = 1225\n",
    "'%x' % error_code"
   ]
  },
  {
   "cell_type": "code",
   "execution_count": 7,
   "metadata": {},
   "outputs": [
    {
     "data": {
      "text/plain": [
       "'Hello Henry, has a 0x4c9 error!'"
      ]
     },
     "execution_count": 7,
     "metadata": {},
     "output_type": "execute_result"
    }
   ],
   "source": [
    "'Hello %s, has a 0x%x error!' % (name, error_code)"
   ]
  },
  {
   "cell_type": "code",
   "execution_count": 8,
   "metadata": {},
   "outputs": [
    {
     "data": {
      "text/plain": [
       "'Hello Henry, has a 0x4c9 error!'"
      ]
     },
     "execution_count": 8,
     "metadata": {},
     "output_type": "execute_result"
    }
   ],
   "source": [
    "'Hello %(name)s, has a 0x%(error_code)x error!' % {\n",
    "    'name': name,\n",
    "    'error_code':error_code,\n",
    "}"
   ]
  },
  {
   "cell_type": "code",
   "execution_count": 9,
   "metadata": {},
   "outputs": [
    {
     "data": {
      "text/plain": [
       "'Hello, yuukilight!'"
      ]
     },
     "execution_count": 9,
     "metadata": {},
     "output_type": "execute_result"
    }
   ],
   "source": [
    "from string import Template\n",
    "\n",
    "template = Template('Hello, $username!')\n",
    "\n",
    "template.substitute(username='yuukilight')"
   ]
  },
  {
   "cell_type": "markdown",
   "metadata": {},
   "source": [
    "## With 语句\n",
    "\n",
    "只要正确实现了上下文管理就可以使用 with 语句。\n",
    "\n",
    "上下文管理器通过 ```__enter__``` 和 ```__exit__``` 两个方法实现\n"
   ]
  },
  {
   "cell_type": "markdown",
   "metadata": {},
   "source": [
    "更多细节可以参考Python的标准库 ```contextlib``` 的用法"
   ]
  },
  {
   "cell_type": "markdown",
   "metadata": {},
   "source": [
    "## Comment\n",
    "### block comments\n",
    "- 通常多行，解释一些细节。\n",
    "- 缩进和当前代码同级。\n",
    "- 注释如果要分段，使用空白行间隔。空白行同样需要 # 号开头。\n",
    "- 块注释中不要去解释过程\n",
    "\n",
    "### inline comments\n",
    "- 尽量避免使用\n",
    "- 尽量和描述的代码在同一行\n",
    "- 和代码之间最好有两个以上的空格\n",
    "- 避免用来描述很明显的逻辑\n",
    "\n",
    "注释要和代码保持同步更新\n"
   ]
  },
  {
   "cell_type": "code",
   "execution_count": 10,
   "metadata": {},
   "outputs": [],
   "source": [
    "# Add comment for you codes\n",
    "# Block comment tutrial\n",
    "\n",
    "from typing import Iterable\n",
    "\n",
    "def read_lines_from_file(path: str) -> Iterable[str]:\n",
    "    # Read every line from the given file,\n",
    "    # if just handles the rows which is not blank,\n",
    "    # it should ignore the newline character\n",
    "    #\n",
    "    # By the way, it should not check the existence of the given file\n",
    "    # it's not the business of this function\n",
    "    # let the invoker to handle the raises if it does not exists that file\n",
    "    #\n",
    "    # the file readline document below\n",
    "    # see: https://jupyter-docker-stacks..................................................................................................................................................\n",
    "    with open(path, 'r') as file:\n",
    "        while line := file.readline():\n",
    "            line = line.strip()\n",
    "            if line:\n",
    "                yield line"
   ]
  },
  {
   "cell_type": "code",
   "execution_count": 11,
   "metadata": {},
   "outputs": [
    {
     "name": "stdout",
     "output_type": "stream",
     "text": [
      "The Zen of Python, by Tim Peters\n",
      "\n",
      "Beautiful is better than ugly.\n",
      "Explicit is better than implicit.\n",
      "Simple is better than complex.\n",
      "Complex is better than complicated.\n",
      "Flat is better than nested.\n",
      "Sparse is better than dense.\n",
      "Readability counts.\n",
      "Special cases aren't special enough to break the rules.\n",
      "Although practicality beats purity.\n",
      "Errors should never pass silently.\n",
      "Unless explicitly silenced.\n",
      "In the face of ambiguity, refuse the temptation to guess.\n",
      "There should be one-- and preferably only one --obvious way to do it.\n",
      "Although that way may not be obvious at first unless you're Dutch.\n",
      "Now is better than never.\n",
      "Although never is often better than *right* now.\n",
      "If the implementation is hard to explain, it's a bad idea.\n",
      "If the implementation is easy to explain, it may be a good idea.\n",
      "Namespaces are one honking great idea -- let's do more of those!\n"
     ]
    }
   ],
   "source": [
    "import this"
   ]
  },
  {
   "cell_type": "code",
   "execution_count": null,
   "metadata": {},
   "outputs": [],
   "source": []
  },
  {
   "cell_type": "markdown",
   "metadata": {},
   "source": [
    "## 布局\n",
    "- 不同类和函数之间用两个空行隔开\n",
    "- 类内部的函数中一个空行隔开\n",
    "- 函数内可以划分为不同步骤，不同的步骤可以分开"
   ]
  }
 ],
 "metadata": {
  "kernelspec": {
   "display_name": "Python 3",
   "language": "python",
   "name": "python3"
  },
  "language_info": {
   "codemirror_mode": {
    "name": "ipython",
    "version": 3
   },
   "file_extension": ".py",
   "mimetype": "text/x-python",
   "name": "python",
   "nbconvert_exporter": "python",
   "pygments_lexer": "ipython3",
   "version": "3.11.11"
  }
 },
 "nbformat": 4,
 "nbformat_minor": 2
}
