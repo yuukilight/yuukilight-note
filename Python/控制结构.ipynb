{
 "cells": [
  {
   "cell_type": "code",
   "execution_count": 1,
   "id": "977d9cb2-4ebd-4170-8b42-cd4a315833ef",
   "metadata": {},
   "outputs": [
    {
     "name": "stdout",
     "output_type": "stream",
     "text": [
      "[[1, 4, 7], [2, 5, 8], [3, 6, 9]]\n"
     ]
    }
   ],
   "source": [
    "# 列表推导: 可以替代多重循环\n",
    "\n",
    "matrix = [\n",
    "    [1, 2, 3],\n",
    "    [4, 5, 6],\n",
    "    [7, 8, 9]\n",
    "]\n",
    "\n",
    "width = 3\n",
    "height = 3\n",
    "\n",
    "result = [\n",
    "    [matrix[row][col] for row in range(0, height)] for col in range(0, width)\n",
    "]\n",
    "\n",
    "print(result)"
   ]
  },
  {
   "cell_type": "code",
   "execution_count": 3,
   "id": "70fd4f80-38a0-4f5c-a56a-1866b5a020df",
   "metadata": {},
   "outputs": [
    {
     "name": "stdout",
     "output_type": "stream",
     "text": [
      "[120, 150]\n"
     ]
    }
   ],
   "source": [
    "weights = [120, 150, 533, 878, 12, 33, 48]\n",
    "\n",
    "heavy = [\n",
    "    weight\n",
    "    for weight in weights\n",
    "    if weight > 100 and weight < 500 and weight is not None\n",
    "]\n",
    "\n",
    "heavy = []\n",
    "for weight in weights:\n",
    "    if weight > 100 and weight < 500 and weight is not None:\n",
    "        heavy.append(weight)\n",
    "print(heavy)"
   ]
  },
  {
   "cell_type": "code",
   "execution_count": 6,
   "id": "4ea95001-2fc0-4d52-9436-a62e498c2421",
   "metadata": {},
   "outputs": [],
   "source": [
    "# lambda 表达式\n",
    "data = [[1, 2, 3], [4, 5]]\n",
    "\n",
    "\n",
    "def min_val(input):\n",
    "    return min(input, key=lambda x: x[-1])"
   ]
  },
  {
   "cell_type": "code",
   "execution_count": 7,
   "id": "617c90e5-c51a-4d1a-89f2-c3984461cbf3",
   "metadata": {},
   "outputs": [
    {
     "data": {
      "text/plain": [
       "[1, 2, 3]"
      ]
     },
     "execution_count": 7,
     "metadata": {},
     "output_type": "execute_result"
    }
   ],
   "source": [
    "min_val(data)"
   ]
  },
  {
   "cell_type": "code",
   "execution_count": 8,
   "id": "96f137a5-d83d-416e-b077-7de0080972c8",
   "metadata": {},
   "outputs": [
    {
     "name": "stdout",
     "output_type": "stream",
     "text": [
      "4 4\n"
     ]
    }
   ],
   "source": [
    "# Pythonic\n",
    "def f(x):\n",
    "    return x*x\n",
    "\n",
    "\n",
    "# Non-Pythonic\n",
    "fx = lambda x: x*x\n",
    "\n",
    "print(f(2), fx(2))"
   ]
  },
  {
   "cell_type": "code",
   "execution_count": 9,
   "id": "a9c1152f-614e-45f2-8f06-8762e349f59f",
   "metadata": {},
   "outputs": [],
   "source": [
    "# 列表推导， 内存占用多省时间\n",
    "# 生成器，内存占用少，但是耗时长"
   ]
  },
  {
   "cell_type": "code",
   "execution_count": 10,
   "id": "b94b539d-c87e-4cfe-833e-2b490bd1ccb4",
   "metadata": {},
   "outputs": [
    {
     "data": {
      "text/plain": [
       "range(0, 10)"
      ]
     },
     "execution_count": 10,
     "metadata": {},
     "output_type": "execute_result"
    }
   ],
   "source": [
    "range(10)"
   ]
  }
 ],
 "metadata": {
  "kernelspec": {
   "display_name": "Python 3 (ipykernel)",
   "language": "python",
   "name": "python3"
  },
  "language_info": {
   "codemirror_mode": {
    "name": "ipython",
    "version": 3
   },
   "file_extension": ".py",
   "mimetype": "text/x-python",
   "name": "python",
   "nbconvert_exporter": "python",
   "pygments_lexer": "ipython3",
   "version": "3.12.4"
  }
 },
 "nbformat": 4,
 "nbformat_minor": 5
}
