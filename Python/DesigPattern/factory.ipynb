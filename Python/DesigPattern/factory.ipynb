{
 "cells": [
  {
   "cell_type": "code",
   "execution_count": 1,
   "id": "e94a70fb",
   "metadata": {},
   "outputs": [
    {
     "name": "stdout",
     "output_type": "stream",
     "text": [
      "Overwriting player.py\n"
     ]
    }
   ],
   "source": [
    "%%file player.py\n",
    "\n",
    "from abc import abstractmethod, ABC\n",
    "\n",
    "class Player(ABC):\n",
    "    def __init__(self, name ,role):\n",
    "        self.name = name\n",
    "        self.role = role\n",
    "\n",
    "    @abstractmethod\n",
    "    def action(self):\n",
    "        \"\"\"球员动作\"\"\"\n",
    "\n",
    "    def __str__(self):\n",
    "        return f'name={self.name}, role={self.role}'\n",
    "\n",
    "class Forward(Player):\n",
    "    def action(self):\n",
    "        print(f'{self.name} 带球突破后卫，转身，倒挂金钩！')\n",
    "\n",
    "class MiddleField(Player):\n",
    "    def action(self):\n",
    "        print(f'{self.name} 控球，虚晃摆脱对手，精准长传！')\n",
    "\n",
    "class DefenseField(Player):\n",
    "    def action(self):\n",
    "        print(f'{self.name} 一个滑铲，抢走球权！')"
   ]
  },
  {
   "cell_type": "code",
   "execution_count": null,
   "id": "278fc247",
   "metadata": {},
   "outputs": [
    {
     "name": "stdout",
     "output_type": "stream",
     "text": [
      "Overwriting factory.py\n"
     ]
    }
   ],
   "source": [
    "%%file factory.py\n",
    "from typing import Callable, Any\n",
    "from player import  Player\n",
    "\n",
    "player_creation_functions: dict[str, Callable[..., Player]] = {}\n",
    "\n",
    "def register(role: str, creation_function: Callable[..., Player]) -> None:\n",
    "    player_creation_functions[role] = creation_function\n",
    "    \n",
    "def unregister(role: str) -> None:\n",
    "    player_creation_functions.pop(role, None)\n",
    "\n",
    "def create(args: dict[str, Any]) -> Player:\n",
    "    the_args = args.copy()\n",
    "    role = the_args['role']\n",
    "\n",
    "    try:\n",
    "        create_function = player_creation_functions[role]\n",
    "        return create_function(**the_args)\n",
    "    except KeyError:\n",
    "        raise ValueError(f'未知的角色 {role}') from None"
   ]
  },
  {
   "cell_type": "code",
   "execution_count": 3,
   "id": "826afcc8",
   "metadata": {},
   "outputs": [
    {
     "name": "stdout",
     "output_type": "stream",
     "text": [
      "Overwriting player.json\n"
     ]
    }
   ],
   "source": [
    "%%file player.json\n",
    "{\n",
    "    \"players\": [\n",
    "        {\n",
    "            \"name\": \"Eric Cantona\",\n",
    "            \"role\": \"FW\"\n",
    "        },\n",
    "        {\n",
    "            \"name\": \"David Backham\",\n",
    "            \"role\": \"MF\"\n",
    "        },\n",
    "        {\n",
    "            \"name\": \"Steven Bruce\",\n",
    "            \"role\": \"DF\"\n",
    "        }\n",
    "    ]\n",
    "}"
   ]
  },
  {
   "cell_type": "code",
   "execution_count": 4,
   "id": "c4a502f1",
   "metadata": {},
   "outputs": [
    {
     "name": "stdout",
     "output_type": "stream",
     "text": [
      "name=Eric Cantona, role=FW\n",
      "Eric Cantona 带球突破后卫，转身，倒挂金钩！\n",
      "name=David Backham, role=MF\n",
      "David Backham 控球，虚晃摆脱对手，精准长传！\n",
      "name=Steven Bruce, role=DF\n",
      "Steven Bruce 一个滑铲，抢走球权！\n"
     ]
    }
   ],
   "source": [
    "import json\n",
    "from player import Player, Forward, MiddleField, DefenseField\n",
    "from factory import register, create\n",
    "\n",
    "def load_players_json_file():\n",
    "    with open('player.json', 'r') as f:\n",
    "        return json.load(f)\n",
    "    \n",
    "def main():\n",
    "    data = load_players_json_file()\n",
    "\n",
    "    register('FW', Forward)\n",
    "    register('MF', MiddleField)\n",
    "    register('DF', DefenseField)\n",
    "    \n",
    "    for args in data['players']:\n",
    "        player = create(args)\n",
    "        print(player)\n",
    "        player.action()\n",
    "\n",
    "if __name__ == '__main__':\n",
    "    \n",
    "    main()"
   ]
  },
  {
   "cell_type": "code",
   "execution_count": null,
   "id": "fcfcf015",
   "metadata": {},
   "outputs": [],
   "source": []
  },
  {
   "cell_type": "code",
   "execution_count": null,
   "id": "2c317989",
   "metadata": {},
   "outputs": [],
   "source": []
  }
 ],
 "metadata": {
  "kernelspec": {
   "display_name": "base",
   "language": "python",
   "name": "python3"
  },
  "language_info": {
   "codemirror_mode": {
    "name": "ipython",
    "version": 3
   },
   "file_extension": ".py",
   "mimetype": "text/x-python",
   "name": "python",
   "nbconvert_exporter": "python",
   "pygments_lexer": "ipython3",
   "version": "3.12.3"
  }
 },
 "nbformat": 4,
 "nbformat_minor": 5
}
