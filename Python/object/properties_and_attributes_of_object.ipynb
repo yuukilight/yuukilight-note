{
 "cells": [
  {
   "cell_type": "markdown",
   "metadata": {},
   "source": [
    "Python 中的对象属性本质上是公共的，并且不支持任何访问说明符来使它们成为私有或受保护的。您不能阻止任何调用对象访问基础对象上的任何属性。\n",
    "Python 没有严格执行访问说明符，但它是一种社区驱动的语言，有几个约定可以弥补它。当你用双下划线开始一个属性时，你表明它对于对象的范围是私有的。\n",
    "\n",
    "## 可迭代对象及其创建"
   ]
  },
  {
   "cell_type": "markdown",
   "metadata": {},
   "source": [
    "Python 中\n",
    "\n",
    "```python\n",
    "for element in elements:\n",
    "    ...\n",
    "\n",
    "```\n",
    "\n",
    "1. 会判断对象是否具有 __iter__, 或 __next__ 迭代器方法 \n",
    "2. 被迭代的序列对象是否具有 __getitem__ 或 __len__ 方法"
   ]
  },
  {
   "cell_type": "code",
   "execution_count": 26,
   "metadata": {},
   "outputs": [],
   "source": [
    "class Fibonacci:\n",
    "    def __init__(self, n):\n",
    "        self.n = n\n",
    "        self.previous = 0\n",
    "        self.current = 1\n",
    "        self._count = 0\n",
    "\n",
    "    def __iter__(self):\n",
    "        print(\"use iter\")\n",
    "        return self\n",
    "    \n",
    "    def __next__(self):\n",
    "        if self._count > self.n:\n",
    "            raise StopIteration\n",
    "        \n",
    "        self._count += 1\n",
    "        return_value = self.previous\n",
    "        self.previous, self.current = self.current, self.previous + self.current\n",
    "        return return_value\n",
    "\n",
    "\n",
    "class tmp_iter:\n",
    "    def __init__(self, n):\n",
    "        self.n = n\n",
    "        self.previous = 0\n",
    "        self.current = 1\n",
    "        self._count = 0\n",
    "\n",
    "    def __iter__(self):\n",
    "        return Fibonacci(10)\n",
    "    \n",
    "    # def __next__(self):\n",
    "    #     if self._count > 10:\n",
    "    #                 raise StopIteration\n",
    "    #     return 1\n",
    "    #     self._count += 1"
   ]
  },
  {
   "cell_type": "code",
   "execution_count": 31,
   "metadata": {},
   "outputs": [
    {
     "name": "stdout",
     "output_type": "stream",
     "text": [
      "0 1 1 2 3 5 8 13 21 34 55 "
     ]
    }
   ],
   "source": [
    "# for num in Fibonacci(10):\n",
    "#     print(num, end = \" \")\n",
    "\n",
    "for num in tmp_iter(10):\n",
    "    print(num, end = \" \")"
   ]
  },
  {
   "cell_type": "code",
   "execution_count": 4,
   "metadata": {},
   "outputs": [
    {
     "name": "stdout",
     "output_type": "stream",
     "text": [
      "use iter\n",
      "0, 1, 1, 2, 3, 5, 8, 13, 21, 34, 55, \n",
      "use iter\n"
     ]
    }
   ],
   "source": [
    "t = Fibonacci(10)\n",
    "for num in t:\n",
    "    print(num, end = ', ')\n",
    "\n",
    "print()\n",
    "for num in t:\n",
    "    print(num, end = ', ')"
   ]
  },
  {
   "cell_type": "markdown",
   "metadata": {},
   "source": [
    "**对上述结果的一些分析**：\n",
    "\n",
    "首先我们创建了一个, Fibonacci 类, 这个类具有 ```__iter__``` 和 ```__next__```属性\n",
    "\n",
    "在使用 for 循环迭代时会调用 iter, 返回一个可迭代对象(具有 next) 方法。\n",
    "\n",
    "```python\n",
    "t = Fibonacci(10)\n",
    "```\n",
    "\n",
    "只创建了一次，在第一个 for 循环中迭代完成后，内部已经完成了数据的生成。\n",
    "\n",
    "第二个 for 循环不会再生成新的数据。"
   ]
  },
  {
   "cell_type": "code",
   "execution_count": 12,
   "metadata": {},
   "outputs": [],
   "source": [
    "def fib(n):\n",
    "    prev, current = 0, 1\n",
    "    for _ in range(n + 1):\n",
    "        yield prev\n",
    "        prev, current = current, prev + current"
   ]
  },
  {
   "cell_type": "code",
   "execution_count": null,
   "metadata": {},
   "outputs": [],
   "source": [
    "for num in fib(5):\n",
    "    print(num, end = \" \")"
   ]
  },
  {
   "cell_type": "markdown",
   "metadata": {},
   "source": [
    "## 序列的创建\n",
    "确保实现了\n",
    "```python\n",
    "__len__()\n",
    "```\n",
    "\n",
    "和\n",
    "```python\n",
    "__gettiem__()\n",
    "```\n",
    "\n",
    "方法\n",
    "\n",
    "### 与迭代器对比\n",
    "会占用更多的内存，但是获取数据的时间会更快。同时支持随机访问。\n",
    "\n",
    "本质上是一种 时间和空间 的交换。"
   ]
  },
  {
   "cell_type": "code",
   "execution_count": 28,
   "metadata": {},
   "outputs": [],
   "source": [
    "from datetime import date, timedelta"
   ]
  },
  {
   "cell_type": "code",
   "execution_count": 29,
   "metadata": {},
   "outputs": [],
   "source": [
    "class DataRange:\n",
    "    def __init__(self, start_dt, end_dt):\n",
    "        self.start_dt = start_dt\n",
    "        self.end_dt = end_dt\n",
    "        self._range_values = self._get_range_values()\n",
    "\n",
    "    def _get_range_values(self):\n",
    "        data = []\n",
    "\n",
    "        current_dt = self.start_dt\n",
    "        while current_dt < self.end_dt:\n",
    "            data.append(current_dt)\n",
    "            current_dt += timedelta(days=1)\n",
    "\n",
    "        return data\n",
    "    \n",
    "    def __len__(self):\n",
    "        return len(self._range_values)\n",
    "    \n",
    "    def __getitem__(self, index):\n",
    "        return self._range_values[index]"
   ]
  },
  {
   "cell_type": "code",
   "execution_count": 30,
   "metadata": {},
   "outputs": [
    {
     "name": "stdout",
     "output_type": "stream",
     "text": [
      "2022-06-01\n",
      "2022-06-02\n",
      "2022-06-03\n",
      "2022-06-04\n",
      "2022-06-05\n",
      "2022-06-06\n",
      "2022-06-07\n",
      "2022-06-08\n",
      "2022-06-09\n"
     ]
    }
   ],
   "source": [
    "my_data_range = DataRange(date(2022, 6, 1), date(2022, 6, 10))\n",
    "for my_data in my_data_range:\n",
    "    print(my_data)"
   ]
  },
  {
   "cell_type": "markdown",
   "metadata": {},
   "source": [
    "## 容器对象\n",
    "Python 中实现 ```__contains__()``` 魔术方法并返回真值的对象称为容器。它通常与 in 运算符一起使用以检查成员资格。\n",
    "容器是包含任意数量的其他对象的对象。通常，容器提供了一种访问所包含对象并对其进行迭代的方法。\n",
    "Python内建的容器包括 tuple、list、set、dict等。在实践中，所有容器都将具有 ```__contains__``` 魔术方法。\n",
    "\n",
    "测试一个对象是否是一个容器时，应该使用:\n",
    "```python\n",
    "isinstance(x, collections.abc.Container) \n",
    "```\n",
    "\n",
    "另外，从面向对象与代码维护的角度看，容器对象用好了，可以写出容易维护的代码。\n",
    "\n",
    "\n",
    "**鸭子方法:**: 看起来像鸭子，跑起来像鸭子。那它就是鸭子。"
   ]
  },
  {
   "cell_type": "code",
   "execution_count": 41,
   "metadata": {},
   "outputs": [],
   "source": [
    "class Product:\n",
    "    def __init__(self, name:str, price:float, spec_num: int) -> None:\n",
    "        self.name = name\n",
    "        self.price = price\n",
    "        self.spec_num = spec_num    # 根据编号决定使用那种促销\n",
    "\n",
    "class Promotion:\n",
    "    def __init__(self, lower_num:int, upper_num: int, rate: float) -> None:\n",
    "        self.__lower_num = lower_num\n",
    "        self.__upper_num = upper_num \n",
    "        self.__rate = rate\n",
    "\n",
    "    @property\n",
    "    def rate(self) -> float:\n",
    "         return self.__rate\n",
    "    \n",
    "    def __contains__(self, product: Product) -> bool:\n",
    "        return self.__lower_num <= product.spec_num <= self.__upper_num\n",
    "    \n",
    "from typing import List\n",
    "\n",
    "def get_total_price(products: List[Product], promotions: List[Promotion]) -> float:\n",
    "    total_price = 0\n",
    "\n",
    "    for t in promotions:\n",
    "        pass\n",
    "\n",
    "    for product in products:\n",
    "        promotion = [promotion for promotion in promotions if product in promotion][0]\n",
    "        total_price += product.price * promotion.rate\n",
    "\n",
    "    return total_price"
   ]
  },
  {
   "cell_type": "code",
   "execution_count": 42,
   "metadata": {},
   "outputs": [
    {
     "name": "stdout",
     "output_type": "stream",
     "text": [
      "5822.37\n",
      "5822.37\n"
     ]
    }
   ],
   "source": [
    "top_promotion = Promotion(100, 199, 0.5)\n",
    "average_promotion = Promotion(50, 99, 0.8)\n",
    "none_promotion = Promotion(0, 49, 1.0)\n",
    "promotions = (top_promotion, average_promotion, none_promotion)\n",
    "\n",
    "products = (\n",
    "    Product('cart', 1999.9, 188),\n",
    "    Product('computer', 5999.9, 88),\n",
    "    Product('toy', 22.5, 33)\n",
    ")\n",
    "\n",
    "total_price = get_total_price(products, promotions)\n",
    "print(total_price)\n",
    "print(1999.9 * 0.5 + 5999.9 * 0.8 + 22.5 * 1)"
   ]
  },
  {
   "cell_type": "code",
   "execution_count": 44,
   "metadata": {},
   "outputs": [
    {
     "name": "stdout",
     "output_type": "stream",
     "text": [
      "True\n",
      "True\n",
      "True\n",
      "True\n"
     ]
    }
   ],
   "source": [
    "import collections\n",
    "import collections.abc\n",
    "\n",
    "a = [1, 2, 3]\n",
    "b = {'a': 1, 'c': 2}\n",
    "c = (1, 2, 3)\n",
    "\n",
    "print(isinstance(average_promotion, collections.abc.Container))\n",
    "print(isinstance(a, collections.abc.Container))\n",
    "print(isinstance(b, collections.abc.Container))\n",
    "print(isinstance(c, collections.abc.Container))"
   ]
  },
  {
   "cell_type": "markdown",
   "metadata": {},
   "source": [
    "## 动态处理对象属性\n",
    "\n",
    "Python 中访问一个类的任何属性都会经过 ```__getattribute__``` 方法, 包括类本身包含(编写该类时定义的属性，以及一些默认属性：例如 ```__dict__``` )的属性和实例化后新增的属性。\n",
    "\n",
    "可以通过重构 ```__getattribute__``` 方法, 在获取对象属性时，对属性做一些中间操作。（一般情况下不建议这么做，因为这样不符合单一功能原则，同时可读性也会较差）\n",
    "\n",
    "对于访问不存在的属性，回进入 ```__getattr__``` 方法，在这里可以处理不存在的属性，返回一些特定值，或者抛出异常进行提示。"
   ]
  },
  {
   "cell_type": "markdown",
   "metadata": {},
   "source": [
    "__getattribute__是属性访问拦截器，就是当这个类的属性被实例访问时，会自动调用类的__getattribute__方法。\n",
    "\n",
    "可以看到下面的代码在访问 name, ```__dict__``` 这些默认属性和新添加的属性 age 时都会经过 ```__getattribute__``` 方法而不会经过 ```__get_attr__``` 方法。\n",
    "\n",
    "对于访问不存在的属性 nick_name，则会同时经过 ```__getattr__``` 和 ```__getattribute__``` 方法。"
   ]
  },
  {
   "cell_type": "code",
   "execution_count": 1,
   "metadata": {},
   "outputs": [],
   "source": [
    "class Person:\n",
    "    def __init__(self, name: str) -> None:\n",
    "        self.name = name\n",
    "\n",
    "    def __getattr__(self, attr):\n",
    "        print('** get attr **', attr)\n",
    "        return f'Not support attribute \"{attr}\".'\n",
    "\n",
    "    def __getattribute__(self, attr):\n",
    "        print('** get attribute **', attr)\n",
    "        # raise AttributeError(f'Not support attribute \"{attr}\".')\n",
    "        return super().__getattribute__(attr)"
   ]
  },
  {
   "cell_type": "code",
   "execution_count": 2,
   "metadata": {},
   "outputs": [
    {
     "name": "stdout",
     "output_type": "stream",
     "text": [
      "** get attribute ** name\n",
      "** get attribute ** age\n",
      "** get attribute ** nick_name\n",
      "** get attr ** nick_name\n",
      "Steven 23 Not support attribute \"nick_name\".\n",
      "** get attribute ** __dict__\n",
      "{'name': 'Steven', 'age': 23}\n"
     ]
    }
   ],
   "source": [
    "person = Person('Steven')\n",
    "person.age = 23\n",
    "# print(person.name, person.age)\n",
    "print(person.name, person.age, person.nick_name)\n",
    "print(person.__dict__)"
   ]
  },
  {
   "cell_type": "markdown",
   "metadata": {},
   "source": [
    "```__getattribute__```方法的一些使用场景\n",
    "\n",
    "在访问某些属性前对其权限进行判断"
   ]
  },
  {
   "cell_type": "code",
   "execution_count": 3,
   "metadata": {},
   "outputs": [],
   "source": [
    "from typing import List\n",
    "\n",
    "class Context:\n",
    "    def __init__(self, user: str, roles: List[str] = []) -> None:\n",
    "        self.user = user\n",
    "        self.roles = set(roles)\n",
    "\n",
    "    def has_permission(self, role: str) -> bool:\n",
    "        return role in self.roles\n",
    "    \n",
    "    def grant_permission(self, role: str) -> None:\n",
    "        self.roles.add(role)\n",
    "\n",
    "class Project:\n",
    "    def __init__(self, name: str, price: float, context: Context) -> None:\n",
    "        self.name = name\n",
    "        self.price = price\n",
    "        self.context = context\n",
    "\n",
    "    def __getattribute__(self, attr):\n",
    "        if attr == 'price':\n",
    "            if self.context.has_permission('owner'):\n",
    "                return super().__getattribute__(attr)\n",
    "            else:\n",
    "                raise AttributeError(f'访问属性 “{attr}”失败.')\n",
    "        return super().__getattribute__(attr)"
   ]
  },
  {
   "cell_type": "code",
   "execution_count": 4,
   "metadata": {},
   "outputs": [
    {
     "name": "stdout",
     "output_type": "stream",
     "text": [
      "1680000.0\n"
     ]
    }
   ],
   "source": [
    "context = Context('Steven', ['user', 'admin'])\n",
    "project = Project('Big Project', 1680000.0, context)\n",
    "context.grant_permission('owner')\n",
    "print(project.price)"
   ]
  },
  {
   "cell_type": "markdown",
   "metadata": {},
   "source": [
    "## 可调用对象\n",
    "\n",
    "Python 允许您创建行为类似于函数的对象。此功能的众多应用之一是创建更健壮的装饰器。当试图执行对象时，我们使用__call__ 魔术方法l来模拟正常函数。此外，提供给对象的参数将被移交给 __call__ 方法。\n",
    "\n",
    "__call__方法是双刃剑，用好了让你的代码丝般顺滑，让人容易理解，容易维护；但用的不好的话，会导致羞涩难懂的尴尬。它作为后续装饰器decorator的铺垫起到了重要的作用。\n",
    "\n"
   ]
  },
  {
   "cell_type": "code",
   "execution_count": 9,
   "metadata": {},
   "outputs": [],
   "source": [
    "class Person:\n",
    "    def __init__(self, name: str, age: int) -> None:\n",
    "        self.name = name\n",
    "        self.age = age\n",
    "\n",
    "    def __call__(self, weight):\n",
    "        self.weight = weight\n",
    "        print(self.name, self.age, self.weight)\n",
    "        return self"
   ]
  },
  {
   "cell_type": "code",
   "execution_count": 15,
   "metadata": {},
   "outputs": [
    {
     "name": "stdout",
     "output_type": "stream",
     "text": [
      "True\n",
      "Steven 23 100\n",
      "Steven 23 100\n",
      "Steven 23 200\n",
      "Steven 23 200\n",
      "****************\n",
      "Steven 23 200\n",
      "Steven 23 200\n",
      "Steven 23 200\n"
     ]
    }
   ],
   "source": [
    "person = Person('Steven', 23)\n",
    "print(callable(person))\n",
    "its_me = person(100)\n",
    "print(its_me.name, its_me.age, its_me.weight)\n",
    "\n",
    "curme = its_me(200)\n",
    "print(curme.name, curme.age, curme.weight)\n",
    "\n",
    "print('****************')\n",
    "print(person.name, person.age, person.weight)\n",
    "print(its_me.name, its_me.age, its_me.weight)\n",
    "print(curme.name, curme.age, curme.weight)"
   ]
  },
  {
   "cell_type": "code",
   "execution_count": null,
   "metadata": {},
   "outputs": [],
   "source": [
    "# 可记录函数状态的，函数调用跟踪器\n",
    "# 下面的代码相当于一个函数调用计数器\n",
    "\n",
    "from collections import defaultdict\n",
    "\n",
    "class TrackFuntionCalls:\n",
    "    def __init__(self):\n",
    "        self._call_count = defaultdict(int)\n",
    "\n",
    "    def __call__(self, arg):\n",
    "        self._call_count[arg] += 1\n",
    "        return self._call_count[arg]\n"
   ]
  },
  {
   "cell_type": "code",
   "execution_count": 27,
   "metadata": {},
   "outputs": [
    {
     "data": {
      "text/plain": [
       "1"
      ]
     },
     "execution_count": 27,
     "metadata": {},
     "output_type": "execute_result"
    }
   ],
   "source": [
    "call_count = TrackFuntionCalls()\n",
    "call_count(2022)"
   ]
  },
  {
   "cell_type": "code",
   "execution_count": 28,
   "metadata": {},
   "outputs": [
    {
     "data": {
      "text/plain": [
       "1"
      ]
     },
     "execution_count": 28,
     "metadata": {},
     "output_type": "execute_result"
    }
   ],
   "source": [
    "call_count(1988)"
   ]
  },
  {
   "cell_type": "code",
   "execution_count": 29,
   "metadata": {},
   "outputs": [
    {
     "data": {
      "text/plain": [
       "2"
      ]
     },
     "execution_count": 29,
     "metadata": {},
     "output_type": "execute_result"
    }
   ],
   "source": [
    "call_count(2022)"
   ]
  },
  {
   "cell_type": "code",
   "execution_count": 30,
   "metadata": {},
   "outputs": [
    {
     "data": {
      "text/plain": [
       "1"
      ]
     },
     "execution_count": 30,
     "metadata": {},
     "output_type": "execute_result"
    }
   ],
   "source": [
    "call_count(9911)"
   ]
  },
  {
   "cell_type": "markdown",
   "metadata": {},
   "source": [
    "## \\_\\_str__ 和 \\_\\_repr\\_\\_\n",
    "\n",
    "当你定义一个你知道你会在某个时候 print() 的类时，默认的 Python 表示可能不是很有帮助。您可以定义自定义 ```__str__``` 方法来控制不同组件的打印方式，以获得更好的清晰度和可读性。\n",
    "```__str__``` 方法实现允许我们以人类可读的方式显示类，```__repr__``` 方法可用于获取类的机器可读格式。\n",
    "Python 类中__repr__ 的事实上的实现没有重要用途。该方法应该具有构造对象所需的一切。对象和 ```__repr__``` 输出应该是可区分的对象。这在日志记录用例中很有帮助；例如，列表对象的组成部分使用 ```__repr__``` 而不是 ```__str__``` 表示形式显示。"
   ]
  },
  {
   "cell_type": "code",
   "execution_count": 48,
   "metadata": {},
   "outputs": [],
   "source": [
    "class Person:\n",
    "    def __init__(self, name: str, interests:List[str]) -> None:\n",
    "        self.name = name\n",
    "        self.interests = interests\n",
    "\n",
    "    def __str__(self):\n",
    "        return f'{self.name} like {\",\".join(self.interests)}'\n",
    "    \n",
    "    def __repr__(self):\n",
    "        return f'Person(name=\"{self.name}\", interests={self.interests})'\n",
    "    \n",
    "    def __eq__(self, other):\n",
    "        return self.name == other.name and self.interests == other.interests"
   ]
  },
  {
   "cell_type": "code",
   "execution_count": 51,
   "metadata": {},
   "outputs": [
    {
     "name": "stdout",
     "output_type": "stream",
     "text": [
      "Steven like football,basketball,swimming\n"
     ]
    },
    {
     "data": {
      "text/plain": [
       "True"
      ]
     },
     "execution_count": 51,
     "metadata": {},
     "output_type": "execute_result"
    }
   ],
   "source": [
    "person = Person('Steven', ['football', 'basketball', 'swimming'])\n",
    "print(person)\n",
    "str(person)\n",
    "repr(person)\n",
    "\n",
    "t = eval(repr(person))\n",
    "\n",
    "t == person"
   ]
  },
  {
   "cell_type": "code",
   "execution_count": 53,
   "metadata": {},
   "outputs": [
    {
     "name": "stdout",
     "output_type": "stream",
     "text": [
      "a\"b 'a\"b'\n"
     ]
    }
   ],
   "source": [
    "# 一般而言，str 是给用户看的。repr 是给开发者看的\n",
    "\n",
    "s = 'a\"b'\n",
    "str(s)\n",
    "repr(s)\n",
    "print(str(s), repr(s))"
   ]
  },
  {
   "cell_type": "code",
   "execution_count": 55,
   "metadata": {},
   "outputs": [
    {
     "name": "stdout",
     "output_type": "stream",
     "text": [
      "2025-02-10 13:42:59.434354\n"
     ]
    }
   ],
   "source": [
    "import datetime\n",
    "\n",
    "print(datetime.datetime.now())"
   ]
  },
  {
   "cell_type": "code",
   "execution_count": 57,
   "metadata": {},
   "outputs": [
    {
     "name": "stdout",
     "output_type": "stream",
     "text": [
      "datetime.datetime(2025, 2, 10, 13, 43, 35, 299201)\n"
     ]
    }
   ],
   "source": [
    "print(repr(datetime.datetime.now()))"
   ]
  },
  {
   "cell_type": "code",
   "execution_count": null,
   "metadata": {},
   "outputs": [],
   "source": []
  }
 ],
 "metadata": {
  "kernelspec": {
   "display_name": "base",
   "language": "python",
   "name": "python3"
  },
  "language_info": {
   "codemirror_mode": {
    "name": "ipython",
    "version": 3
   },
   "file_extension": ".py",
   "mimetype": "text/x-python",
   "name": "python",
   "nbconvert_exporter": "python",
   "pygments_lexer": "ipython3",
   "version": "3.12.3"
  }
 },
 "nbformat": 4,
 "nbformat_minor": 2
}
