{
 "cells": [
  {
   "cell_type": "markdown",
   "metadata": {},
   "source": [
    "在进行对象赋值操作时，Python 都不会进行深度复制。相反，您只需创建一个引用并将名称绑定到对象。对于不可变或只读对象，副本的类型无关紧要。但是，对于可以修改的对象，数据的浅拷贝在多个引用中共享同一个对象——因此，无论是否有意，更改底层对象将影响所有引用。对于可变对象，应始终首选深拷贝。\n",
    "通过例子结合内存布局的图解分析了浅层克隆（shallow copy）的原理以及使用的要点。再有通过源代码的分析，也让大家知道了其来龙去脉，达到了知其所以然的目的。\n",
    "\n",
    "[参考图像地址](./clone.excalidraw)"
   ]
  },
  {
   "cell_type": "markdown",
   "metadata": {},
   "source": [
    "可变对象的复制首选深拷贝（deep copy）"
   ]
  },
  {
   "cell_type": "markdown",
   "metadata": {},
   "source": [
    "对于浅拷贝，python 会创造一个新的对象。然后尽可能将原始对象中找到的对象的 引用 插入其中。\n",
    "\n",
    "如下代码所示，对应的结构图可参考 Fig.1."
   ]
  },
  {
   "cell_type": "code",
   "execution_count": 3,
   "metadata": {},
   "outputs": [
    {
     "name": "stdout",
     "output_type": "stream",
     "text": [
      "[[1, 2, 3], [4, 5, 6]] [[1, 2, 3], [4, 5, 6]]\n",
      "1714809793344 1714809791744\n",
      "1714809789696 1714809789696\n",
      "1714809794816 1714809794816\n"
     ]
    }
   ],
   "source": [
    "list1 = [[1, 2, 3], [4, 5, 6]]\n",
    "list2 = list(list1)\n",
    "print(list1, list2)\n",
    "print(id(list1), id(list2))\n",
    "print(id(list1[0]), id(list2[0]))\n",
    "print(id(list1[1]), id(list2[1]))"
   ]
  },
  {
   "cell_type": "code",
   "execution_count": 4,
   "metadata": {},
   "outputs": [
    {
     "data": {
      "text/plain": [
       "([[1, 2, 3], [4, 5, 6], [11, 12]], [[1, 2, 3], [4, 5, 6]])"
      ]
     },
     "execution_count": 4,
     "metadata": {},
     "output_type": "execute_result"
    }
   ],
   "source": [
    "list1.append([11, 12])\n",
    "list1, list2"
   ]
  },
  {
   "cell_type": "code",
   "execution_count": 5,
   "metadata": {},
   "outputs": [
    {
     "name": "stdout",
     "output_type": "stream",
     "text": [
      "1714809789696 1714809794816 1714809791040\n",
      "1714809789696 1714809794816\n"
     ]
    }
   ],
   "source": [
    "print(id(list1[0]), id(list1[1]), id(list1[2]))\n",
    "\n",
    "print(id(list2[0]), id(list2[1]))"
   ]
  },
  {
   "cell_type": "code",
   "execution_count": 6,
   "metadata": {},
   "outputs": [
    {
     "name": "stdout",
     "output_type": "stream",
     "text": [
      "[[1, 2, 3], ['R', 5, 6], [11, 12]] [[1, 2, 3], ['R', 5, 6]]\n",
      "1714809793344 1714809791744\n",
      "1714809789696 1714809789696\n",
      "1714809794816 1714809794816\n"
     ]
    }
   ],
   "source": [
    "list1[1][0] = 'R'\n",
    "print(list1, list2)\n",
    "print(id(list1), id(list2))\n",
    "print(id(list1[0]), id(list2[0]))\n",
    "print(id(list1[1]), id(list2[1]))"
   ]
  },
  {
   "cell_type": "markdown",
   "metadata": {},
   "source": [
    "## deep copy\n"
   ]
  },
  {
   "cell_type": "code",
   "execution_count": null,
   "metadata": {},
   "outputs": [],
   "source": [
    "import copy\n",
    "\n"
   ]
  }
 ],
 "metadata": {
  "kernelspec": {
   "display_name": "base",
   "language": "python",
   "name": "python3"
  },
  "language_info": {
   "codemirror_mode": {
    "name": "ipython",
    "version": 3
   },
   "file_extension": ".py",
   "mimetype": "text/x-python",
   "name": "python",
   "nbconvert_exporter": "python",
   "pygments_lexer": "ipython3",
   "version": "3.12.3"
  }
 },
 "nbformat": 4,
 "nbformat_minor": 2
}
