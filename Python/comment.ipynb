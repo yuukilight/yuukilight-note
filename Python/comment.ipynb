{
 "cells": [
  {
   "cell_type": "markdown",
   "metadata": {},
   "source": [
    "## block comments\n",
    "- 通常多行，解释一些细节。\n",
    "- 缩进和当前代码同级。\n",
    "- 注释如果要分段，使用空白行间隔。空白行同样需要 # 号开头。\n",
    "- 块注释中不要去解释过程\n",
    "## inline comments\n",
    "\n",
    "注释要和代码保持同步更新\n"
   ]
  },
  {
   "cell_type": "code",
   "execution_count": 1,
   "metadata": {},
   "outputs": [
    {
     "name": "stdout",
     "output_type": "stream",
     "text": [
      "The Zen of Python, by Tim Peters\n",
      "\n",
      "Beautiful is better than ugly.\n",
      "Explicit is better than implicit.\n",
      "Simple is better than complex.\n",
      "Complex is better than complicated.\n",
      "Flat is better than nested.\n",
      "Sparse is better than dense.\n",
      "Readability counts.\n",
      "Special cases aren't special enough to break the rules.\n",
      "Although practicality beats purity.\n",
      "Errors should never pass silently.\n",
      "Unless explicitly silenced.\n",
      "In the face of ambiguity, refuse the temptation to guess.\n",
      "There should be one-- and preferably only one --obvious way to do it.\n",
      "Although that way may not be obvious at first unless you're Dutch.\n",
      "Now is better than never.\n",
      "Although never is often better than *right* now.\n",
      "If the implementation is hard to explain, it's a bad idea.\n",
      "If the implementation is easy to explain, it may be a good idea.\n",
      "Namespaces are one honking great idea -- let's do more of those!\n"
     ]
    }
   ],
   "source": [
    "# Add comment for you codes\n",
    "# Block comment tutrial\n",
    "\n",
    "from typing import Iterable\n",
    "\n",
    "def read_lines_from_file(path: str) -> Iterable[str]:\n",
    "    # Read every line from the given file,\n",
    "    # if just handles the rows which is not blank,\n",
    "    # it should ignore the newline character\n",
    "    #\n",
    "    # By the way, it should not check the existence of the given file\n",
    "    # it's not the business of this function\n",
    "    # let the invoker to handle the raises if it does not exists that file\n",
    "    #\n",
    "    # the file readline document below\n",
    "    # see: https://jupyter-docker-stacks..................................................................................................................................................\n",
    "    with open(path, 'r') as file:\n",
    "        while line := file.readline():\n",
    "            line = line.strip()\n",
    "            if line:\n",
    "                yield line"
   ]
  },
  {
   "cell_type": "code",
   "execution_count": 2,
   "metadata": {},
   "outputs": [
    {
     "name": "stdout",
     "output_type": "stream",
     "text": [
      "123\n"
     ]
    }
   ],
   "source": [
    "print(\"123\")"
   ]
  },
  {
   "cell_type": "code",
   "execution_count": null,
   "metadata": {},
   "outputs": [],
   "source": []
  }
 ],
 "metadata": {
  "kernelspec": {
   "display_name": "base",
   "language": "python",
   "name": "python3"
  },
  "language_info": {
   "codemirror_mode": {
    "name": "ipython",
    "version": 3
   },
   "file_extension": ".py",
   "mimetype": "text/x-python",
   "name": "python",
   "nbconvert_exporter": "python",
   "pygments_lexer": "ipython3",
   "version": "3.12.4"
  }
 },
 "nbformat": 4,
 "nbformat_minor": 2
}
