{
 "cells": [
  {
   "cell_type": "markdown",
   "metadata": {},
   "source": [
    "Python 中约定\n",
    "\n",
    "类中名称开头为 '_' 的属性表示私有\n",
    "\n",
    "类中名称开头为 '__' ， 必须用类名来访问。 保护属性\n",
    "\n"
   ]
  },
  {
   "cell_type": "markdown",
   "metadata": {},
   "source": []
  }
 ],
 "metadata": {
  "language_info": {
   "name": "python"
  }
 },
 "nbformat": 4,
 "nbformat_minor": 2
}
