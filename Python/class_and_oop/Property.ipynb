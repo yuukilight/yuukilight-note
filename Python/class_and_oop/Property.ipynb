{
 "cells": [
  {
   "cell_type": "markdown",
   "metadata": {},
   "source": [
    "我们把在代码运行期间动态增加函数或方法功能的方式，叫“装饰器”（Decorator）。面向对象的设计强调封装， 把对象内聚的状态私有化，仅供类的内部进行操作。被封装的属性通常是通过类的 getter 和 setter 方法来实现的。在 Python 中，普遍认为直接访问属性进行读写比创建单独的 getter 和 setter 方法更有意义。"
   ]
  },
  {
   "cell_type": "code",
   "execution_count": 1,
   "metadata": {},
   "outputs": [
    {
     "name": "stdout",
     "output_type": "stream",
     "text": [
      "25\n"
     ]
    }
   ],
   "source": [
    "class Square:\n",
    "    def __init__(self):\n",
    "        self._side = None\n",
    "\n",
    "    def get_side(self):\n",
    "        return self._side\n",
    "    \n",
    "    def set_side(self, side):\n",
    "        assert side >= 0, \"side should > 0\"\n",
    "        self._side = side\n",
    "\n",
    "    def get_area(self):\n",
    "        assert self.get_side() != None, \"not set side\"\n",
    "        return self.get_side() * self.get_side()\n",
    "    \n",
    "square = Square()\n",
    "square.set_side(5)\n",
    "print(square.get_area())"
   ]
  },
  {
   "cell_type": "code",
   "execution_count": 5,
   "metadata": {},
   "outputs": [
    {
     "name": "stdout",
     "output_type": "stream",
     "text": [
      "25\n",
      "0\n"
     ]
    }
   ],
   "source": [
    "class Square:\n",
    "    def __init__(self):\n",
    "        self._side = None\n",
    "\n",
    "    @property\n",
    "    def side(self):\n",
    "        return self._side\n",
    "    \n",
    "    @side.setter\n",
    "    def side(self, side):\n",
    "        assert side >= 0, \"side should > 0\"\n",
    "        self._side = side\n",
    "\n",
    "    @side.deleter\n",
    "    def side(self):\n",
    "        self._side = 0\n",
    "\n",
    "    @property\n",
    "    def area(self):\n",
    "        return self.side * self.side\n",
    "    \n",
    "square = Square()\n",
    "square.side = 5\n",
    "print(square.area)\n",
    "\n",
    "del square.side\n",
    "print(square.area)"
   ]
  },
  {
   "cell_type": "code",
   "execution_count": null,
   "metadata": {},
   "outputs": [],
   "source": []
  }
 ],
 "metadata": {
  "kernelspec": {
   "display_name": "mmdet3d",
   "language": "python",
   "name": "python3"
  },
  "language_info": {
   "codemirror_mode": {
    "name": "ipython",
    "version": 3
   },
   "file_extension": ".py",
   "mimetype": "text/x-python",
   "name": "python",
   "nbconvert_exporter": "python",
   "pygments_lexer": "ipython3",
   "version": "3.10.16"
  }
 },
 "nbformat": 4,
 "nbformat_minor": 2
}
