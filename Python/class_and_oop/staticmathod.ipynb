{
 "cells": [
  {
   "cell_type": "markdown",
   "metadata": {},
   "source": [
    "1. 简单的没有隐含参数的函数\n",
    "2. 可以作为类或实例的方法调用\n",
    "3. 使用内建的 @staticmethod 创建\n",
    "4. 内聚在类之中，有强烈的归属感，与类要表达的业务逻辑息息相关。\n",
    "5. 相对于使用模块级别的函数来说，减少了过多的 import\n",
    "6. 子类不需要重新声明就能使用父类的静态方法\n",
    "7. 子类可以覆盖父类的静态方法"
   ]
  },
  {
   "cell_type": "markdown",
   "metadata": {},
   "source": []
  }
 ],
 "metadata": {
  "kernelspec": {
   "display_name": "base",
   "language": "python",
   "name": "python3"
  },
  "language_info": {
   "name": "python",
   "version": "3.12.4"
  }
 },
 "nbformat": 4,
 "nbformat_minor": 2
}
