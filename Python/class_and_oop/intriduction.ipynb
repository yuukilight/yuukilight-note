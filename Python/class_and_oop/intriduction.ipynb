{
 "cells": [
  {
   "cell_type": "markdown",
   "metadata": {},
   "source": [
    "python 中不需要每次都创建类\n",
    "\n",
    "很灵活，易于学习。\n",
    "\n",
    "但是对于大型的项目，类是有必要的。"
   ]
  },
  {
   "cell_type": "markdown",
   "metadata": {},
   "source": [
    "如何定义同一个类中的内容，何时放进同一个类，何时拆分\n",
    "\n",
    "Single Responsibility Principle(SRP) 原则\n",
    "\n",
    "一般一个文件中定义一个类，或者多个耦合的类 （coupling）"
   ]
  },
  {
   "cell_type": "markdown",
   "metadata": {},
   "source": [
    "评估每个方法和代码单元的适合性"
   ]
  },
  {
   "cell_type": "markdown",
   "metadata": {},
   "source": [
    "找到重复或复制的代码将其拆分（DRY， Don't Reapt Yourself）"
   ]
  },
  {
   "cell_type": "markdown",
   "metadata": {},
   "source": [
    "遵循开闭原则： 可扩展的地方开发，内部修改的地方封闭"
   ]
  },
  {
   "cell_type": "markdown",
   "metadata": {},
   "source": [
    "## Example1:"
   ]
  },
  {
   "cell_type": "code",
   "execution_count": 7,
   "metadata": {},
   "outputs": [],
   "source": [
    "class User:\n",
    "    def __init__(self, name: str, age: int) -> None:\n",
    "        self.name = name\n",
    "        self.age = age\n",
    "    \n",
    "    def is_old(self):\n",
    "        return self.age > 60\n",
    "\n",
    "    def output_html(self):\n",
    "        print(f'<h1>Name: {self.name}</h1')\n",
    "\n",
    "    def output_json(self):\n",
    "        print(f'{{\"name\": {self.name}}}')"
   ]
  },
  {
   "cell_type": "code",
   "execution_count": 8,
   "metadata": {},
   "outputs": [
    {
     "name": "stdout",
     "output_type": "stream",
     "text": [
      "False\n",
      "<h1>Name: Bobby</h1\n",
      "{\"name\": Bobby}\n"
     ]
    }
   ],
   "source": [
    "user = User('Bobby', 32)\n",
    "print(user.is_old())\n",
    "user.output_html()\n",
    "user.output_json()"
   ]
  },
  {
   "cell_type": "code",
   "execution_count": 9,
   "metadata": {},
   "outputs": [],
   "source": [
    "class User:\n",
    "    def __init__(self, name: str, age: int) -> None:\n",
    "        self.name = name\n",
    "        self.age = age\n",
    "    \n",
    "    def is_old(self):\n",
    "        return self.age > 60\n",
    "    \n",
    "class PrintOutput():\n",
    "    def output_html(self, user: User):\n",
    "        print(f'<h1>Name: {user.name}</h1')\n",
    "\n",
    "    def output_json(self, user: User):\n",
    "        print(f'{{\"name\": {user.name}}}')"
   ]
  },
  {
   "cell_type": "code",
   "execution_count": 10,
   "metadata": {},
   "outputs": [
    {
     "name": "stdout",
     "output_type": "stream",
     "text": [
      "False\n",
      "<h1>Name: Bobby</h1\n",
      "{\"name\": Bobby}\n"
     ]
    }
   ],
   "source": [
    "user = User('Bobby', 32)\n",
    "print(user.is_old())\n",
    "output = PrintOutput()\n",
    "output.output_html(user)\n",
    "output.output_json(user)"
   ]
  }
 ],
 "metadata": {
  "kernelspec": {
   "display_name": "base",
   "language": "python",
   "name": "python3"
  },
  "language_info": {
   "codemirror_mode": {
    "name": "ipython",
    "version": 3
   },
   "file_extension": ".py",
   "mimetype": "text/x-python",
   "name": "python",
   "nbconvert_exporter": "python",
   "pygments_lexer": "ipython3",
   "version": "3.12.4"
  }
 },
 "nbformat": 4,
 "nbformat_minor": 2
}
