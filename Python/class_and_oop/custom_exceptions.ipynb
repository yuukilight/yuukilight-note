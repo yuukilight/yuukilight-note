{
 "cells": [
  {
   "cell_type": "markdown",
   "metadata": {},
   "source": [
    "## 自定义异常类\n",
    "\n",
    "Python 带有一系列异常类型和相应的处理程序类。有时，在编写自己的软件时，您可能想要创建自己的自定义异常。它们不仅有助于为调试代码中的错误添加更多信息，而且还可以在适当的时候保持代码库的可维护性。\n",
    "\n",
    "自定义的异常类要从业务角度出发去定义和衍生。不能随意，否则项目规模变化后会有很多模糊的界限产生，带来不必要的维护成本。\n",
    "\n",
    "通过对官方的 EAFP——“求原谅比求许可更容易” 和 LYBL——“先查看后跳跃”进行讲解”，让大家了解两种不同的编风格以便在实际中选择。\n",
    "\n",
    "同时从代码易维护和可读性的角度强调了编码规范的一些要点。"
   ]
  },
  {
   "cell_type": "markdown",
   "metadata": {},
   "source": [
    "python 用太多的魔术数字和魔术字符串, 这会导致代码难以维护。(我认为是因为这样的变量太多，他们的 id 地址是一样的，难以准确的进行定位。特别是发生修改后)"
   ]
  },
  {
   "cell_type": "code",
   "execution_count": 4,
   "metadata": {},
   "outputs": [
    {
     "name": "stdout",
     "output_type": "stream",
     "text": [
      "abcdefghijklmnopqrstuvwxyz\n",
      "ABCDEFGHIJKLMNOPQRSTUVWXYZ\n",
      "0123456789\n",
      "!\"#$%&'()*+,-./:;<=>?@[\\]^_`{|}~\n"
     ]
    }
   ],
   "source": [
    "import string\n",
    "\n",
    "print(string.ascii_lowercase)\n",
    "print(string.ascii_uppercase)\n",
    "print(string.digits)\n",
    "print(string.punctuation)"
   ]
  },
  {
   "cell_type": "markdown",
   "metadata": {},
   "source": [
    "自定义的异常类应该派生于 Exception, 并且以 Error 结尾。\n",
    "\n",
    "实际业务中，各种异常应该根据实际的业务范围进行分层"
   ]
  },
  {
   "cell_type": "code",
   "execution_count": 9,
   "metadata": {},
   "outputs": [],
   "source": [
    "class InvalidPasswordError(ValueError):\n",
    "    pass"
   ]
  },
  {
   "cell_type": "code",
   "execution_count": 10,
   "metadata": {},
   "outputs": [],
   "source": [
    "MIN_PASSWORD_LENGTH = 12\n",
    "EMPTY_SET = set()\n",
    "\n",
    "def less_length(password: str, min_length) -> bool:\\\n",
    "    return len(password) < min_length\n",
    "\n",
    "def lack_of_lowercase(password: str) -> bool:\n",
    "    return set(password) & set(string.ascii_lowercase) == EMPTY_SET\n",
    "\n",
    "def lack_of_uppercase(password: str) -> bool:\n",
    "    return set(password) & set(string.ascii_uppercase) == EMPTY_SET\n",
    "\n",
    "def lack_of_digits(password: str) -> bool:\n",
    "    return set(password) & set(string.digits) == EMPTY_SET\n",
    "\n",
    "def lack_of_punctuation(password: str) -> bool:\n",
    "    return set(password) & set(string.punctuation) == EMPTY_SET\n",
    "\n",
    "def validate_password(\n",
    "    password: str,\n",
    "    min_length: int = MIN_PASSWORD_LENGTH,\n",
    "    ) -> None:\n",
    "    if less_length(password, min_length) or \\\n",
    "        lack_of_lowercase(password) or \\\n",
    "        lack_of_uppercase(password) or \\\n",
    "        lack_of_digits(password) or \\\n",
    "        lack_of_punctuation(password):\n",
    "        raise InvalidPasswordError('Password is too weak')\n",
    "    print('ok')"
   ]
  },
  {
   "cell_type": "code",
   "execution_count": 11,
   "metadata": {},
   "outputs": [
    {
     "ename": "InvalidPasswordError",
     "evalue": "Password is too weak",
     "output_type": "error",
     "traceback": [
      "\u001b[1;31m---------------------------------------------------------------------------\u001b[0m",
      "\u001b[1;31mInvalidPasswordError\u001b[0m                      Traceback (most recent call last)",
      "Cell \u001b[1;32mIn[11], line 1\u001b[0m\n\u001b[1;32m----> 1\u001b[0m \u001b[43mvalidate_password\u001b[49m\u001b[43m(\u001b[49m\u001b[38;5;124;43m'\u001b[39;49m\u001b[38;5;124;43mabc\u001b[39;49m\u001b[38;5;124;43m'\u001b[39;49m\u001b[43m)\u001b[49m\n",
      "Cell \u001b[1;32mIn[10], line 28\u001b[0m, in \u001b[0;36mvalidate_password\u001b[1;34m(password, min_length)\u001b[0m\n\u001b[0;32m     19\u001b[0m \u001b[38;5;28;01mdef\u001b[39;00m\u001b[38;5;250m \u001b[39m\u001b[38;5;21mvalidate_password\u001b[39m(\n\u001b[0;32m     20\u001b[0m     password: \u001b[38;5;28mstr\u001b[39m,\n\u001b[0;32m     21\u001b[0m     min_length: \u001b[38;5;28mint\u001b[39m \u001b[38;5;241m=\u001b[39m MIN_PASSWORD_LENGTH,\n\u001b[0;32m     22\u001b[0m     ) \u001b[38;5;241m-\u001b[39m\u001b[38;5;241m>\u001b[39m \u001b[38;5;28;01mNone\u001b[39;00m:\n\u001b[0;32m     23\u001b[0m     \u001b[38;5;28;01mif\u001b[39;00m less_length(password, min_length) \u001b[38;5;129;01mor\u001b[39;00m \\\n\u001b[0;32m     24\u001b[0m         lack_of_lowercase(password) \u001b[38;5;129;01mor\u001b[39;00m \\\n\u001b[0;32m     25\u001b[0m         lack_of_uppercase(password) \u001b[38;5;129;01mor\u001b[39;00m \\\n\u001b[0;32m     26\u001b[0m         lack_of_digits(password) \u001b[38;5;129;01mor\u001b[39;00m \\\n\u001b[0;32m     27\u001b[0m         lack_of_punctuation(password):\n\u001b[1;32m---> 28\u001b[0m         \u001b[38;5;28;01mraise\u001b[39;00m InvalidPasswordError(\u001b[38;5;124m'\u001b[39m\u001b[38;5;124mPassword is too weak\u001b[39m\u001b[38;5;124m'\u001b[39m)\n\u001b[0;32m     29\u001b[0m     \u001b[38;5;28mprint\u001b[39m(\u001b[38;5;124m'\u001b[39m\u001b[38;5;124mok\u001b[39m\u001b[38;5;124m'\u001b[39m)\n",
      "\u001b[1;31mInvalidPasswordError\u001b[0m: Password is too weak"
     ]
    }
   ],
   "source": [
    "validate_password('abc')"
   ]
  },
  {
   "cell_type": "markdown",
   "metadata": {},
   "source": [
    "Python 处理异常的风格是 EAFP, 与之对应的风格是 LBYL"
   ]
  }
 ],
 "metadata": {
  "kernelspec": {
   "display_name": "mmdet3d",
   "language": "python",
   "name": "python3"
  },
  "language_info": {
   "codemirror_mode": {
    "name": "ipython",
    "version": 3
   },
   "file_extension": ".py",
   "mimetype": "text/x-python",
   "name": "python",
   "nbconvert_exporter": "python",
   "pygments_lexer": "ipython3",
   "version": "3.10.16"
  }
 },
 "nbformat": 4,
 "nbformat_minor": 2
}
