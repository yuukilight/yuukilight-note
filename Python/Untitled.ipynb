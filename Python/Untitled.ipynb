{
 "cells": [
  {
   "cell_type": "markdown",
   "id": "1c4e0d6c-d3af-420d-b172-25a8b1920053",
   "metadata": {},
   "source": [
    "## 文档字符串（Docstring）\n",
    "不要用这种方式写注释，因为会导致一些自动化工具自动解析成文档。导致阅读困难"
   ]
  },
  {
   "cell_type": "code",
   "execution_count": 3,
   "id": "cab11a01-ae47-4d55-b52d-e4cc770c57d8",
   "metadata": {},
   "outputs": [
    {
     "data": {
      "text/plain": [
       "'wdfoasnfaoksng'"
      ]
     },
     "execution_count": 3,
     "metadata": {},
     "output_type": "execute_result"
    }
   ],
   "source": [
    "def execute():\n",
    "    \"\"\"wdfoasnfaoksng\"\"\"\n",
    "    pass\n",
    "\n",
    "execute.__doc__"
   ]
  },
  {
   "cell_type": "code",
   "execution_count": 4,
   "id": "4c538e06-98ab-44ba-ac9d-8efa8eefc054",
   "metadata": {},
   "outputs": [
    {
     "data": {
      "text/plain": [
       "\u001b[1;31mSignature:\u001b[0m \u001b[0mexecute\u001b[0m\u001b[1;33m(\u001b[0m\u001b[1;33m)\u001b[0m\u001b[1;33m\u001b[0m\u001b[1;33m\u001b[0m\u001b[0m\n",
       "\u001b[1;31mDocstring:\u001b[0m wdfoasnfaoksng\n",
       "\u001b[1;31mFile:\u001b[0m      c:\\users\\b3720\\appdata\\local\\temp\\ipykernel_29624\\2792363116.py\n",
       "\u001b[1;31mType:\u001b[0m      function"
      ]
     },
     "metadata": {},
     "output_type": "display_data"
    }
   ],
   "source": [
    "execute?"
   ]
  },
  {
   "cell_type": "code",
   "execution_count": 5,
   "id": "b67b2f07-4762-43af-88c8-f134a68d7eae",
   "metadata": {},
   "outputs": [],
   "source": [
    "def fetch_content_from(url: str) -> str:\n",
    "    \"\"\"fetch_content_from fetch the content in utf-8 encoded with given url\n",
    "    Some decription here.\n",
    "    Another decription here.\n",
    "\n",
    "    Not: The key point to note\n",
    "\n",
    "    Args:\n",
    "        url: A string where to fetch the content from\n",
    "\n",
    "    Returns:\n",
    "        A string with utf-8 encoded content provided by the site\n",
    "\n",
    "    Raises:\n",
    "        ValueError: if url argument is not of the expected type(str)\n",
    "    \"\"\"\n",
    "    pass"
   ]
  },
  {
   "cell_type": "code",
   "execution_count": 6,
   "id": "a67df192-9870-41ba-944e-6d734e8d6245",
   "metadata": {},
   "outputs": [
    {
     "data": {
      "text/plain": [
       "\u001b[1;31mSignature:\u001b[0m \u001b[0mfetch_content_from\u001b[0m\u001b[1;33m(\u001b[0m\u001b[0murl\u001b[0m\u001b[1;33m:\u001b[0m \u001b[0mstr\u001b[0m\u001b[1;33m)\u001b[0m \u001b[1;33m->\u001b[0m \u001b[0mstr\u001b[0m\u001b[1;33m\u001b[0m\u001b[1;33m\u001b[0m\u001b[0m\n",
       "\u001b[1;31mDocstring:\u001b[0m\n",
       "fetch_content_from fetch the content in utf-8 encoded with given url\n",
       "Some decription here.\n",
       "Another decription here.\n",
       "\n",
       "Not: The key point to note\n",
       "\n",
       "Args:\n",
       "    url: A string where to fetch the content from\n",
       "\n",
       "Returns:\n",
       "    A string with utf-8 encoded content provided by the site\n",
       "\n",
       "Raises:\n",
       "    ValueError: if url argument is not of the expected type(str)\n",
       "\u001b[1;31mFile:\u001b[0m      c:\\users\\b3720\\appdata\\local\\temp\\ipykernel_29624\\3322123609.py\n",
       "\u001b[1;31mType:\u001b[0m      function"
      ]
     },
     "metadata": {},
     "output_type": "display_data"
    }
   ],
   "source": [
    "fetch_content_from?"
   ]
  },
  {
   "cell_type": "code",
   "execution_count": 7,
   "id": "fee0a6ac-b014-4e8b-82fc-5253470380e6",
   "metadata": {},
   "outputs": [
    {
     "data": {
      "text/plain": [
       "'fetch_content_from fetch the content in utf-8 encoded with given url\\n    Some decription here.\\n    Another decription here.\\n\\n    Not: The key point to note\\n\\n    Args:\\n        url: A string where to fetch the content from\\n\\n    Returns:\\n        A string with utf-8 encoded content provided by the site\\n\\n    Raises:\\n        ValueError: if url argument is not of the expected type(str)\\n    '"
      ]
     },
     "execution_count": 7,
     "metadata": {},
     "output_type": "execute_result"
    }
   ],
   "source": [
    "fetch_content_from.__doc__"
   ]
  },
  {
   "cell_type": "markdown",
   "id": "c18e0788-0acc-4948-aae0-37fad7bb3726",
   "metadata": {},
   "source": [
    "PEP 3107\n",
    "## 注解 Annotations"
   ]
  },
  {
   "cell_type": "code",
   "execution_count": 8,
   "id": "d7062373-dc9e-4d44-b263-d0a6ad480406",
   "metadata": {},
   "outputs": [
    {
     "data": {
      "text/plain": [
       "\u001b[1;31mDocstring:\u001b[0m\n",
       "D.update([E, ]**F) -> None.  Update D from dict/iterable E and F.\n",
       "If E is present and has a .keys() method, then does:  for k in E: D[k] = E[k]\n",
       "If E is present and lacks a .keys() method, then does:  for k, v in E: D[k] = v\n",
       "In either case, this is followed by: for k in F:  D[k] = F[k]\n",
       "\u001b[1;31mType:\u001b[0m      method_descriptor"
      ]
     },
     "metadata": {},
     "output_type": "display_data"
    }
   ],
   "source": [
    "dict.update?"
   ]
  },
  {
   "cell_type": "code",
   "execution_count": 9,
   "id": "d245c300-0a9b-4328-a68f-a6fd4fcf209b",
   "metadata": {},
   "outputs": [],
   "source": [
    "class Circle:\n",
    "    def __init__(self, radius):\n",
    "        self.radius = radius\n",
    "        self.area = 0"
   ]
  },
  {
   "cell_type": "code",
   "execution_count": 10,
   "id": "72e5d18e-63a8-4bdf-ac3f-3c8aec8bc35e",
   "metadata": {},
   "outputs": [],
   "source": [
    "def area(radius: float) -> Circle:\n",
    "    \"\"\"Comput area of a Cricle with given radius\"\"\"\n",
    "    pass"
   ]
  },
  {
   "cell_type": "code",
   "execution_count": 11,
   "id": "528269c5-327e-40f8-a453-26de7c18371b",
   "metadata": {},
   "outputs": [
    {
     "data": {
      "text/plain": [
       "{'radius': float, 'return': __main__.Circle}"
      ]
     },
     "execution_count": 11,
     "metadata": {},
     "output_type": "execute_result"
    }
   ],
   "source": [
    "area.__annotations__"
   ]
  },
  {
   "cell_type": "markdown",
   "id": "c51634e0-6506-414a-8f91-c974cffc5d58",
   "metadata": {},
   "source": [
    "## 命名\n",
    "一般情况下\n",
    "\n",
    "描述业务功能 优于 函数功能。好的命名不需要注释"
   ]
  },
  {
   "cell_type": "code",
   "execution_count": 14,
   "id": "e2d9b700-6def-4503-879d-2abcbd529db6",
   "metadata": {},
   "outputs": [],
   "source": [
    "tmp_dict = {\n",
    "    \"x\": 1,\n",
    "    \"y\": 2,\n",
    "    \"z\": 3,\n",
    "}"
   ]
  },
  {
   "cell_type": "code",
   "execution_count": 15,
   "id": "c2a57133-38cb-45af-bda0-a94ba82f1017",
   "metadata": {},
   "outputs": [
    {
     "data": {
      "text/plain": [
       "{'x': 1, 'y': 2, 'z': 3}"
      ]
     },
     "execution_count": 15,
     "metadata": {},
     "output_type": "execute_result"
    }
   ],
   "source": [
    "tmp_dict"
   ]
  },
  {
   "cell_type": "code",
   "execution_count": 19,
   "id": "2efaa819-f41a-4e96-9afe-676614f32399",
   "metadata": {},
   "outputs": [
    {
     "data": {
      "text/plain": [
       "5"
      ]
     },
     "execution_count": 19,
     "metadata": {},
     "output_type": "execute_result"
    }
   ],
   "source": [
    "tmp_dict.get(\"j\", 5)"
   ]
  },
  {
   "cell_type": "markdown",
   "id": "d7120e33-af8a-4e56-a27c-b3fdfe4fd815",
   "metadata": {},
   "source": [
    "### 运算符\n",
    "给最低级运算符的两边添加空格"
   ]
  },
  {
   "cell_type": "code",
   "execution_count": null,
   "id": "552aecc2-9e40-44bc-95a2-d32aef662e80",
   "metadata": {},
   "outputs": [],
   "source": [
    "# Correct\n",
    "i, x, y, a, b = 0\n",
    "i = i + 1\n",
    "x = x*2 - 1\n",
    "hypot2 = x*x + y*y\n",
    "c = (a+b) * (a-b)"
   ]
  },
  {
   "cell_type": "markdown",
   "id": "b9005388-618a-48d8-82dd-3a83d521d406",
   "metadata": {},
   "source": [
    "函数中参数的默认值赋值不能添加空格，返回时的赋值也不能添加"
   ]
  },
  {
   "cell_type": "code",
   "execution_count": null,
   "id": "5acbcd84-9852-412d-a1d9-6f55617bbda4",
   "metadata": {},
   "outputs": [],
   "source": [
    "# testgsetg\n",
    "def complex(real, image=0.0):\n",
    "    return magic(r=real, i=imag)"
   ]
  }
 ],
 "metadata": {
  "kernelspec": {
   "display_name": "Python 3 (ipykernel)",
   "language": "python",
   "name": "python3"
  },
  "language_info": {
   "codemirror_mode": {
    "name": "ipython",
    "version": 3
   },
   "file_extension": ".py",
   "mimetype": "text/x-python",
   "name": "python",
   "nbconvert_exporter": "python",
   "pygments_lexer": "ipython3",
   "version": "3.12.4"
  }
 },
 "nbformat": 4,
 "nbformat_minor": 5
}
