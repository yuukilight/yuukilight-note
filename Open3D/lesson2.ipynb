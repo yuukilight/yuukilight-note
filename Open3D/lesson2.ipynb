{
 "cells": [
  {
   "cell_type": "markdown",
   "metadata": {},
   "source": [
    "## 点云特征提取"
   ]
  },
  {
   "cell_type": "markdown",
   "metadata": {},
   "source": [
    "### 法线估计"
   ]
  },
  {
   "cell_type": "code",
   "execution_count": 4,
   "metadata": {},
   "outputs": [
    {
     "name": "stdout",
     "output_type": "stream",
     "text": [
      "->正在加载点云... \n",
      "PointCloud with 801147 points.\n",
      "->正在估计法线并可视化...\n",
      "->正在打印前10个点的法向量...\n",
      "[[0. 0. 1.]\n",
      " [0. 0. 1.]\n",
      " [0. 0. 1.]\n",
      " [0. 0. 1.]\n",
      " [0. 0. 1.]\n",
      " [0. 0. 1.]\n",
      " [0. 0. 1.]\n",
      " [0. 0. 1.]\n",
      " [0. 0. 1.]\n",
      " [0. 0. 1.]]\n"
     ]
    }
   ],
   "source": [
    "import open3d as o3d \n",
    "import numpy as np \n",
    "print(\"->正在加载点云... \") \n",
    "pcd = o3d.io.read_point_cloud(\"test1.pcd\") \n",
    "print(pcd) \n",
    "print(\"->正在估计法线并可视化...\") \n",
    "radius = 0.01 # 搜索半径 \n",
    "max_nn = 30 # 邻域内用于估算法线的最大点数 \n",
    "pcd.estimate_normals(search_param=o3d.geometry.KDTreeSearchParamHybrid(radius, max_nn)) # 执行法线估计 \n",
    "o3d.visualization.draw_geometries([pcd], point_show_normal=True) \n",
    "print(\"->正在打印前10个点的法向量...\") \n",
    "print(np.asarray(pcd.normals)[:10, :])\n"
   ]
  },
  {
   "cell_type": "code",
   "execution_count": 7,
   "metadata": {},
   "outputs": [],
   "source": [
    "pcd = o3d.io.read_point_cloud(\"beam_1.txt\", format = 'xyzn')\n",
    "o3d.visualization.draw_geometries([pcd], point_show_normal=True) "
   ]
  },
  {
   "cell_type": "markdown",
   "metadata": {},
   "source": [
    "## 传统点云分割\n",
    "### DBSCAN 聚类分割"
   ]
  },
  {
   "cell_type": "code",
   "execution_count": 10,
   "metadata": {},
   "outputs": [],
   "source": [
    "import open3d as o3d \n",
    "import numpy as np \n",
    "import matplotlib.pyplot as plt \n",
    "print(\"->正在加载点云... \") \n",
    "pcd = o3d.io.read_point_cloud(\"test.pcd\") \n",
    "print(pcd) \n",
    "print(\"->正在DBSCAN聚类...\") \n",
    "eps = 0.5 # 同一聚类中最大点间距 \n",
    "min_points = 50 # 有效聚类的最小点数 \n",
    "with o3d.utility.VerbosityContextManager(o3d.utility.VerbosityLevel.Debug) as cm: \n",
    "    labels = np.array(pcd.cluster_dbscan(eps, min_points, print_progress=True)) \n",
    "    max_label = labels.max() # 获取聚类标签的最大值 [-1,0,1,2,...,max_label]，label = -1 为噪声，因此总聚类个数为 max_label + 1 \n",
    "    print(f\"point cloud has {max_label + 1} clusters\") \n",
    "    colors = plt.get_cmap(\"tab20\")(labels / (max_label if max_label > 0 else 1)) \n",
    "    colors[labels < 0] = 0 # labels = -1 的簇为噪声，以黑色显示 \n",
    "    pcd.colors = o3d.utility.Vector3dVector(colors[:, :3]) \n",
    "o3d.visualization.draw_geometries([pcd])\n"
   ]
  },
  {
   "cell_type": "markdown",
   "metadata": {},
   "source": [
    "其它平面分割，隐藏点剔除，暂时略过"
   ]
  },
  {
   "cell_type": "markdown",
   "metadata": {},
   "source": [
    "点云曲面重建也先略过"
   ]
  },
  {
   "cell_type": "markdown",
   "metadata": {},
   "source": [
    "## 点云空间变换"
   ]
  },
  {
   "cell_type": "markdown",
   "metadata": {},
   "source": [
    "### Translate"
   ]
  },
  {
   "cell_type": "markdown",
   "metadata": {},
   "source": [
    "```\n",
    "pcd.translate((tx,ty,tz),relative=True)\n",
    "```\n",
    "relative 默认为 True, 实现平移\n",
    "\n",
    "relative 设置为 False, 则将点云移动到满足质心为 (tx, ty, tz) 的位置\n"
   ]
  },
  {
   "cell_type": "code",
   "execution_count": 10,
   "metadata": {},
   "outputs": [
    {
     "name": "stdout",
     "output_type": "stream",
     "text": [
      "->正在加载点云... \n",
      "PointCloud with 801147 points.\n",
      "pcd质心：[605.02394567 616.62997802  54.76084913]\n",
      "\n",
      "->沿X轴平移1200m\n",
      "PointCloud with 801147 points.\n",
      "pcd_tx质心：[1805.02394567  616.62997802   54.76084913]\n",
      "\n",
      "->沿Y轴平移1400m\n",
      "PointCloud with 801147 points.\n",
      "pcd_ty质心：[1805.02394567 2016.62997802   54.76084913]\n",
      "\n",
      "->沿X轴平移-2000m，再沿Y轴平移2000m\n",
      "PointCloud with 801147 points.\n",
      "pcd_txy质心： [-1394.97605433  2616.62997802    54.76084913]\n"
     ]
    }
   ],
   "source": [
    "import copy # 点云深拷贝 \n",
    "import open3d as o3d \n",
    "# -------------------------- 加载点云 ------------------------ \n",
    "print(\"->正在加载点云... \") \n",
    "pcd = o3d.io.read_point_cloud(\"test1.pcd\") \n",
    "print(pcd) \n",
    "print(f'pcd质心：{pcd.get_center()}') \n",
    "# =========================================================== \n",
    "# # -------------------------- 点云平移 ------------------------ \n",
    "print(\"\\n->沿X轴平移1200m\") \n",
    "pcd_tx = copy.deepcopy(pcd).translate((1200, 0, 0)) \n",
    "pcd_tx.paint_uniform_color([1, 0, 0]) \n",
    "print(pcd_tx) \n",
    "print(f'pcd_tx质心：{pcd_tx.get_center()}') \n",
    "print(\"\\n->沿Y轴平移1400m\") \n",
    "pcd_ty = copy.deepcopy(pcd_tx).translate((0, 1400, 0)) \n",
    "pcd_ty.paint_uniform_color([0, 1, 0]) \n",
    "print(pcd_ty) \n",
    "print(f'pcd_ty质心：{pcd_ty.get_center()}') \n",
    "print(\"\\n->沿X轴平移-2000m，再沿Y轴平移2000m\") \n",
    "pcd_txy = copy.deepcopy(pcd).translate((-2000, 2000, 0)) \n",
    "pcd_txy.paint_uniform_color([0, 0, 1]) \n",
    "print(pcd_txy) \n",
    "print('pcd_txy质心：', pcd_txy.get_center()) \n",
    "# =========================================================== \n",
    "# -------------------------- 可视化 -------------------------- \n",
    "o3d.visualization.draw_geometries([pcd, pcd_tx, pcd_ty, pcd_txy]) \n",
    "# ===========================================================\n"
   ]
  },
  {
   "cell_type": "code",
   "execution_count": 13,
   "metadata": {},
   "outputs": [
    {
     "name": "stdout",
     "output_type": "stream",
     "text": [
      "->正在加载点云... \n",
      "PointCloud with 36980 points.\n",
      "pcd质心：[ 0.00098508 -0.00621785  0.02644219]\n",
      "\n",
      "->沿X轴平移0.2m\n",
      "PointCloud with 36980 points.\n",
      "pcd_tx质心：[0.40098508 0.39378215 0.42644219]\n",
      "\n",
      "->将点云质心平移到指定位置\n",
      "PointCloud with 36980 points.\n",
      "pcd_new：[0.4 0.4 0.4]\n"
     ]
    }
   ],
   "source": [
    "import copy # 点云深拷贝 \n",
    "import open3d as o3d \n",
    "# -------------------------- 加载点云 ------------------------ \n",
    "print(\"->正在加载点云... \") \n",
    "pcd = o3d.io.read_point_cloud(\"test.pcd\") \n",
    "print(pcd) \n",
    "print(f'pcd质心：{pcd.get_center()}') \n",
    "# =========================================================== \n",
    "# # -------------------------- 点云平移 ------------------------ \n",
    "print(\"\\n->沿X轴平移0.2m\")\n",
    "pcd_tx = copy.deepcopy(pcd).translate((0.4, 0.4, 0.4)) \n",
    "pcd_tx.paint_uniform_color([1, 0, 0]) \n",
    "print(pcd_tx) \n",
    "print(f'pcd_tx质心：{pcd_tx.get_center()}') \n",
    "print(\"\\n->将点云质心平移到指定位置\") \n",
    "pcd_new = copy.deepcopy(pcd_tx).translate((0.4, 0.4, 0.4),relative=False) # pcd_new = copy.deepcopy(pcd_tx).translate((0.2, 0.2, 0.2),False) # relative 可以省略 \n",
    "pcd_new.paint_uniform_color([0, 1, 0]) \n",
    "print(pcd_new) \n",
    "print(f'pcd_new：{pcd_new.get_center()}') \n",
    "# =========================================================== \n",
    "# # -------------------------- 可视化 -------------------------- \n",
    "o3d.visualization.draw_geometries([pcd, pcd_tx, pcd_new]) \n",
    "# ===========================================================\n"
   ]
  },
  {
   "cell_type": "markdown",
   "metadata": {},
   "source": [
    "### 旋转\n",
    "Rotation\n",
    "rotate 需要两个参数，旋转矩阵R和旋转中心\n",
    "如果不指定旋转中心，则围绕点云质心旋转，旋转前后质心位置不变。\n",
    "\n",
    "旋转矩阵可以通过多种方式获得。欧拉角(xyz,zxy,xzy,yxz)，轴角，四参数等"
   ]
  },
  {
   "cell_type": "code",
   "execution_count": 17,
   "metadata": {},
   "outputs": [
    {
     "name": "stdout",
     "output_type": "stream",
     "text": [
      "->正在加载点云... \n",
      "PointCloud with 36980 points.\n",
      "->pcd质心： [ 0.00098508 -0.00621785  0.02644219]\n",
      "\n",
      "->采用欧拉角进行点云旋转\n",
      "旋转矩阵：\n",
      " [[ 6.123234e-17  0.000000e+00  1.000000e+00]\n",
      " [ 0.000000e+00  1.000000e+00  0.000000e+00]\n",
      " [-1.000000e+00  0.000000e+00  6.123234e-17]]\n",
      "\n",
      "->pcd_EulerAngle质心： [ 0.00098508 -0.00621785  0.02644219]\n"
     ]
    }
   ],
   "source": [
    "import copy # 点云深拷贝 \n",
    "import open3d as o3d \n",
    "import numpy as np \n",
    "# -------------------------- 加载点云 ------------------------ \n",
    "print(\"->正在加载点云... \") \n",
    "pcd = o3d.io.read_point_cloud(\"test.pcd\") \n",
    "print(pcd) \n",
    "pcd.paint_uniform_color([1,0,0]) \n",
    "print(\"->pcd质心：\",pcd.get_center()) \n",
    "# =========================================================== \n",
    "# # -------------------------- 点云旋转 ------------------------ \n",
    "print(\"\\n->采用欧拉角进行点云旋转\") \n",
    "pcd_EulerAngle = copy.deepcopy(pcd) \n",
    "R1 = pcd.get_rotation_matrix_from_xyz((0,np.pi/2,0)) \n",
    "print(\"旋转矩阵：\\n\",R1) \n",
    "pcd_EulerAngle.rotate(R1) # 不指定旋转中心 \n",
    "pcd_EulerAngle.paint_uniform_color([0,0,1]) \n",
    "print(\"\\n->pcd_EulerAngle质心：\",pcd_EulerAngle.get_center()) \n",
    "# =========================================================== \n",
    "# # -------------------------- 可视化 -------------------------- \n",
    "o3d.visualization.draw_geometries([pcd, pcd_EulerAngle]) # ==========================================================="
   ]
  },
  {
   "cell_type": "code",
   "execution_count": 19,
   "metadata": {},
   "outputs": [
    {
     "name": "stdout",
     "output_type": "stream",
     "text": [
      "->正在加载点云... \n",
      "PointCloud with 36980 points.\n",
      "->pcd质心： [ 0.00098508 -0.00621785  0.02644219]\n",
      "\n",
      "->采用欧拉角进行点云旋转\n",
      "旋转矩阵：\n",
      " [[ 6.123234e-17  0.000000e+00  1.000000e+00]\n",
      " [ 0.000000e+00  1.000000e+00  0.000000e+00]\n",
      " [-1.000000e+00  0.000000e+00  6.123234e-17]]\n",
      "\n",
      "->pcd_EulerAngle质心： [ 0.02644219 -0.00621785  0.19901492]\n"
     ]
    }
   ],
   "source": [
    "import copy # 点云深拷贝 \n",
    "import open3d as o3d \n",
    "import numpy as np \n",
    "# -------------------------- 加载点云 ------------------------ \n",
    "print(\"->正在加载点云... \") \n",
    "pcd = o3d.io.read_point_cloud(\"test.pcd\") \n",
    "print(pcd) \n",
    "pcd.paint_uniform_color([1,0,0]) \n",
    "print(\"->pcd质心：\",pcd.get_center()) \n",
    "# =========================================================== \n",
    "# -------------------------- 点云旋转 ------------------------ \n",
    "print(\"\\n->采用欧拉角进行点云旋转\") \n",
    "pcd_EulerAngle = copy.deepcopy(pcd) \n",
    "R1 = pcd.get_rotation_matrix_from_xyz((0,np.pi/2,0)) \n",
    "print(\"旋转矩阵：\\n\",R1) \n",
    "pcd_EulerAngle.rotate(R1,center = (0.1,0.1,0.1)) # 指定旋转中心 p\n",
    "pcd_EulerAngle.paint_uniform_color([0,0,1]) \n",
    "print(\"\\n->pcd_EulerAngle质心：\",pcd_EulerAngle.get_center()) \n",
    "# =========================================================== \n",
    "#-------------------------- 可视化 --------------------------\n",
    "o3d.visualization.draw_geometries([pcd, pcd_EulerAngle]) \n",
    "# ===========================================================\n"
   ]
  },
  {
   "cell_type": "markdown",
   "metadata": {},
   "source": [
    "## 缩放\n",
    "也是使用Rotate 实现\n",
    "缩放操作中必须指定缩放后点云质心\n"
   ]
  },
  {
   "cell_type": "code",
   "execution_count": 26,
   "metadata": {},
   "outputs": [
    {
     "name": "stdout",
     "output_type": "stream",
     "text": [
      "->正在加载点云... \n",
      "PointCloud with 36980 points.\n",
      "->pcd质心： [ 0.00098508 -0.00621785  0.02644219]\n",
      "\n",
      "->点云缩放\n",
      "->pcd_scale1质心： [ 0.00098508 -0.00621785  0.02644219]\n",
      "->pcd_scale2质心： [0.50049254 0.49689107 0.5132211 ]\n"
     ]
    }
   ],
   "source": [
    "import copy # 点云深拷贝 \n",
    "import open3d as o3d \n",
    "import numpy as np \n",
    "# -------------------------- 加载点云 ------------------------ \n",
    "print(\"->正在加载点云... \") \n",
    "pcd = o3d.io.read_point_cloud(\"test.pcd\") \n",
    "print(pcd) \n",
    "pcd.paint_uniform_color([1,0,0]) \n",
    "print(\"->pcd质心：\",pcd.get_center()) \n",
    "# =========================================================== \n",
    "# -------------------------- 点云缩放 ------------------------ \n",
    "print(\"\\n->点云缩放\") \n",
    "pcd_scale1 = copy.deepcopy(pcd) \n",
    "pcd_scale1.scale(20,center=pcd.get_center()) \n",
    "pcd_scale1.paint_uniform_color([0,0,1]) \n",
    "print(\"->pcd_scale1质心：\",pcd_scale1.get_center()) # 缩放前后质心不变 \n",
    "pcd_scale2 = copy.deepcopy(pcd) \n",
    "pcd_scale2.scale(0.5,center=(1,1,1)) # 自定义缩放后的质心 \n",
    "pcd_scale2.paint_uniform_color([0,1,0]) \n",
    "print(\"->pcd_scale2质心：\",pcd_scale2.get_center()) \n",
    "# =========================================================== \n",
    "# # -------------------------- 可视化 -------------------------- \n",
    "o3d.visualization.draw_geometries([pcd, pcd_scale1,pcd_scale2]) \n",
    "# ===========================================================\n"
   ]
  },
  {
   "cell_type": "code",
   "execution_count": 29,
   "metadata": {},
   "outputs": [
    {
     "name": "stdout",
     "output_type": "stream",
     "text": [
      "->正在加载点云... \n",
      "PointCloud with 801147 points.\n",
      "->pcd质心： [605.02394567 616.62997802  54.76084913]\n",
      "\n",
      "->点云的一般变换\n",
      "\n",
      "->变换矩阵：\n",
      " [[ 0.70710678  0.          0.70710678  5.        ]\n",
      " [ 0.35355339  0.8660254  -0.35355339  3.        ]\n",
      " [-0.61237244  0.5         0.61237244  0.        ]\n",
      " [ 0.          0.          0.          1.        ]]\n",
      "\n",
      "->pcd_scale1质心： [471.53830253 731.5646092  -28.65096369]\n"
     ]
    }
   ],
   "source": [
    "import copy # 点云深拷贝 \n",
    "import open3d as o3d \n",
    "import numpy as np \n",
    "# -------------------------- 加载点云 ------------------------ \n",
    "print(\"->正在加载点云... \") \n",
    "pcd = o3d.io.read_point_cloud(\"test1.pcd\") \n",
    "print(pcd) \n",
    "pcd.paint_uniform_color([1,0,0]) \n",
    "print(\"->pcd质心：\",pcd.get_center()) \n",
    "# =========================================================== \n",
    "# # -------------------------- transform ------------------------ \n",
    "print(\"\\n->点云的一般变换\") \n",
    "pcd_T = copy.deepcopy(pcd) \n",
    "T = np.eye(4) \n",
    "T[ :3, :3] = pcd.get_rotation_matrix_from_xyz((np.pi/6,np.pi/4,0)) # 旋转矩阵 \n",
    "T[0,3] = 5.0 # 平移向量的dx \n",
    "T[1,3] = 3.0 # 平移向量的dy \n",
    "print(\"\\n->变换矩阵：\\n\",T) \n",
    "pcd_T.transform(T) \n",
    "pcd_T.paint_uniform_color([0,0,1]) \n",
    "print(\"\\n->pcd_scale1质心：\",pcd_T.get_center()) \n",
    "# =========================================================== \n",
    "# -------------------------- 可视化 -------------------------- \n",
    "o3d.visualization.draw_geometries([pcd, pcd_T]) \n",
    "# ===========================================================\n"
   ]
  },
  {
   "cell_type": "code",
   "execution_count": null,
   "metadata": {},
   "outputs": [],
   "source": []
  }
 ],
 "metadata": {
  "kernelspec": {
   "display_name": "Python 3",
   "language": "python",
   "name": "python3"
  },
  "language_info": {
   "codemirror_mode": {
    "name": "ipython",
    "version": 3
   },
   "file_extension": ".py",
   "mimetype": "text/x-python",
   "name": "python",
   "nbconvert_exporter": "python",
   "pygments_lexer": "ipython3",
   "version": "3.11.11"
  }
 },
 "nbformat": 4,
 "nbformat_minor": 2
}
