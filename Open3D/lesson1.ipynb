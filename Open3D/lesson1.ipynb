{
 "cells": [
  {
   "cell_type": "code",
   "execution_count": 1,
   "metadata": {},
   "outputs": [],
   "source": [
    "import open3d as o3d \n",
    "import numpy as np\n"
   ]
  },
  {
   "cell_type": "code",
   "execution_count": 4,
   "metadata": {},
   "outputs": [
    {
     "name": "stdout",
     "output_type": "stream",
     "text": [
      "->正在加载点云... \n",
      "PointCloud with 36980 points.\n",
      "->正在保存点云\n"
     ]
    },
    {
     "data": {
      "text/plain": [
       "True"
      ]
     },
     "execution_count": 4,
     "metadata": {},
     "output_type": "execute_result"
    }
   ],
   "source": [
    "print(\"->正在加载点云... \") \n",
    "pcd = o3d.io.read_point_cloud(\"test.pcd\") \n",
    "print(pcd)\n",
    "print(\"->正在保存点云\")\n",
    "o3d.io.write_point_cloud(\"write.pcd\", pcd) # 默认false，保存为Binarty；True 保存为ASICC形式 print(pcd)\n",
    "o3d.io.write_point_cloud(\"write_ascii.pcd\", pcd, write_ascii=True)"
   ]
  },
  {
   "cell_type": "markdown",
   "metadata": {},
   "source": [
    "## Open3D 点云数据读取\n",
    "open3D 会通过文件后缀判断，点云文件类型。也可以手动输入文件类型。\n",
    "\n",
    "支持xyz, xyzn, xyzrbg, pts, ply, pcd\n",
    "手动输入文件类型可以读取 txt"
   ]
  },
  {
   "cell_type": "code",
   "execution_count": 18,
   "metadata": {},
   "outputs": [
    {
     "name": "stdout",
     "output_type": "stream",
     "text": [
      "(61528, 3)\n",
      "(0, 3)\n",
      "(0, 3)\n",
      "(61528, 3)\n",
      "(61528, 3)\n",
      "(0, 3)\n",
      "(0, 3)\n",
      "(0, 3)\n",
      "(0, 3)\n"
     ]
    }
   ],
   "source": [
    "pcd = o3d.io.read_point_cloud(\"beam_1.txt\", format='xyz')\n",
    "print(np.array(pcd.points).shape)\n",
    "print(np.array(pcd.normals).shape)\n",
    "print(np.array(pcd.colors).shape)\n",
    "pcd = o3d.io.read_point_cloud(\"beam_1.txt\", format='xyzn')\n",
    "print(np.array(pcd.points).shape)\n",
    "print(np.array(pcd.normals).shape)\n",
    "print(np.array(pcd.colors).shape)\n",
    "pcd = o3d.io.read_point_cloud(\"1_conferenceRoom_1.npy\", format='xyz')\n",
    "print(np.array(pcd.points).shape)\n",
    "print(np.array(pcd.normals).shape)\n",
    "print(np.array(pcd.colors).shape)"
   ]
  },
  {
   "cell_type": "markdown",
   "metadata": {},
   "source": [
    "## 点云可视化"
   ]
  },
  {
   "cell_type": "code",
   "execution_count": 20,
   "metadata": {},
   "outputs": [
    {
     "name": "stdout",
     "output_type": "stream",
     "text": [
      "->正在加载点云... \n",
      "PointCloud with 36980 points.\n",
      "->正在可视化点云\n"
     ]
    }
   ],
   "source": [
    "print(\"->正在加载点云... \") \n",
    "pcd = o3d.io.read_point_cloud(\"test.pcd\") \n",
    "print(pcd)\n",
    "print(\"->正在可视化点云\") \n",
    "o3d.visualization.draw_geometries([pcd])"
   ]
  },
  {
   "cell_type": "code",
   "execution_count": 25,
   "metadata": {},
   "outputs": [
    {
     "name": "stdout",
     "output_type": "stream",
     "text": [
      "->正在加载点云1... \n",
      "PointCloud with 801147 points.\n",
      "->正在加载点云2...\n",
      "PointCloud with 61528 points.\n",
      "->正在同时可视化两个点云...\n"
     ]
    }
   ],
   "source": [
    "import open3d as o3d \n",
    "import numpy as np \n",
    "print(\"->正在加载点云1... \") \n",
    "pcd1 = o3d.io.read_point_cloud(\"test1.pcd\") \n",
    "print(pcd1) \n",
    "print(\"->正在加载点云2...\") \n",
    "pcd2 = o3d.io.read_point_cloud(\"beam_1.txt\", format='xyzn') \n",
    "print(pcd2) \n",
    "print(\"->正在同时可视化两个点云...\") \n",
    "o3d.visualization.draw_geometries([pcd1, pcd2]) # type: ignore"
   ]
  },
  {
   "cell_type": "code",
   "execution_count": 24,
   "metadata": {},
   "outputs": [
    {
     "name": "stdout",
     "output_type": "stream",
     "text": [
      "->正在加载点云... \n",
      "PointCloud with 801147 points.\n"
     ]
    }
   ],
   "source": [
    "import open3d as o3d \n",
    "print(\"->正在加载点云... \") \n",
    "pcd = o3d.io.read_point_cloud(\"test1.pcd\") \n",
    "print(pcd) \n",
    "# 法线估计 \n",
    "radius = 0.01 \n",
    "# 搜索半径 \n",
    "max_nn = 30 # 邻域内用于估算法线的最大点数 \n",
    "pcd.estimate_normals(search_param=o3d.geometry.KDTreeSearchParamHybrid(radius, max_nn)) # 执行法线估计 \n",
    "# 可视化 \n",
    "o3d.visualization.draw_geometries([pcd], window_name = \"可视化参数设置\", width = 600, height = 450, left = 30, top = 30, point_show_normal = True)\n"
   ]
  },
  {
   "cell_type": "markdown",
   "metadata": {},
   "source": [
    "## KD-Tree 与 Octree\n",
    "- o3d.geometry.KDTreeFlann(pcd) : 建立KDTree\n",
    "- search_knn_vector_3d(search_Pt, k): KNN\n",
    "- search_radius_vector_3d(search_Pt, radius)    :半径R近搜索\n",
    "- search_hybrid_vector_3d(search_pt, radius, max_nn): 混合邻域搜索，返回半径radius 内不超过 max_nn 个近邻点"
   ]
  },
  {
   "cell_type": "markdown",
   "metadata": {},
   "source": [
    "### KDTree"
   ]
  },
  {
   "cell_type": "code",
   "execution_count": 52,
   "metadata": {},
   "outputs": [
    {
     "name": "stdout",
     "output_type": "stream",
     "text": [
      "->正在加载点云... \n",
      "PointCloud with 36980 points. (36980, 3)\n",
      "Paint the 150001st point red.\n",
      "Find its 200 nearest neighbors, and paint them blue.\n",
      "Find its neighbors with distance less than 0.2, and paint them green.\n",
      "Find its 200 nearest neighbors, and paint them blue.\n"
     ]
    }
   ],
   "source": [
    "import open3d as o3d \n",
    "import numpy as np \n",
    "print(\"->正在加载点云... \") \n",
    "pcd = o3d.io.read_point_cloud(\"test.pcd\") \n",
    "print(pcd, np.asarray(pcd.points).shape) \n",
    "# 将点云设置为灰色 \n",
    "pcd.paint_uniform_color([0.5, 0.5, 0.5])\n",
    "\n",
    "pcd_tree = o3d.geometry.KDTreeFlann(pcd)\n",
    "print(\"Paint the 150001st point red.\")\n",
    "pcd.colors[3500] = [1, 0, 0]\n",
    "print(\"Find its 200 nearest neighbors, and paint them blue.\")\n",
    "[k, idx, _] = pcd_tree.search_knn_vector_3d(pcd.points[3500], 2000)\n",
    "np.asarray(pcd.colors)[idx[1:], :] = [0, 0, 1]\n",
    "\n",
    "print(\"Find its neighbors with distance less than 0.2, and paint them green.\")\n",
    "[k, idx, _] = pcd_tree.search_radius_vector_3d(pcd.points[3500], 0.1)\n",
    "np.asarray(pcd.colors)[idx[1:], :] = [0, 1, 0]\n",
    "\n",
    "print(\"Find its 200 nearest neighbors, and paint them blue.\")\n",
    "[k, idx, _] = pcd_tree.search_hybrid_vector_3d(pcd.points[3500], 0.1, 1000) # 混合邻域搜索，返回半径radius 内不超过 max_nn 个近邻点\n",
    "np.asarray(pcd.colors)[idx[1:], :] = [0, 0, 1]\n",
    "\n",
    "# o3d.visualization.draw_geometries([pcd])\n"
   ]
  },
  {
   "cell_type": "markdown",
   "metadata": {},
   "source": [
    "### Octree\n",
    "暂时跳过"
   ]
  },
  {
   "cell_type": "code",
   "execution_count": 53,
   "metadata": {},
   "outputs": [
    {
     "name": "stdout",
     "output_type": "stream",
     "text": [
      "->正在加载点云... \n",
      "原始点云： PointCloud with 801147 points.\n",
      "octree 分割\n",
      "->正在可视化Octree...\n"
     ]
    }
   ],
   "source": [
    "import open3d as o3d \n",
    "import numpy as np \n",
    "# --------------------------- 加载点云 --------------------------- \n",
    "print(\"->正在加载点云... \") \n",
    "pcd = o3d.io.read_point_cloud(\"test1.pcd\") \n",
    "print(\"原始点云：\", pcd) \n",
    "# ============================================================== # ------------------------- 构建Octree -------------------------- \n",
    "print('octree 分割') \n",
    "octree = o3d.geometry.Octree(max_depth=4) \n",
    "octree.convert_from_point_cloud(pcd, size_expand=0.01) \n",
    "print(\"->正在可视化Octree...\") \n",
    "o3d.visualization.draw_geometries([octree]) \n",
    "# ==============================================================\n"
   ]
  },
  {
   "cell_type": "markdown",
   "metadata": {},
   "source": [
    "## 点云滤波 and 下采样"
   ]
  },
  {
   "cell_type": "markdown",
   "metadata": {},
   "source": [
    "体素下采样\n",
    "\n",
    "1. 对点云进行体素划分\n",
    "2. 取体素内的点云质心作为该体素点的位置\n",
    "\n",
    "下采样参数自动设置思路\n",
    "\n",
    "1. 空间点密度小，划分空间（grid_size， voxel_size） 就大。 反之就小\n",
    "2. 根据总点数进一步调整，总空间大，增大划分空间。总空间下，减小划分空间。"
   ]
  },
  {
   "cell_type": "code",
   "execution_count": 5,
   "metadata": {},
   "outputs": [
    {
     "name": "stdout",
     "output_type": "stream",
     "text": [
      "->正在加载点云... \n",
      "PointCloud with 801147 points.\n",
      "->正在可视化原始点云\n",
      "->正在体素下采样...\n",
      "PointCloud with 60170 points.\n",
      "->正在可视化下采样点云\n",
      "(60170, 3)\n"
     ]
    }
   ],
   "source": [
    "import open3d as o3d \n",
    "import numpy as np \n",
    "print(\"->正在加载点云... \") \n",
    "pcd = o3d.io.read_point_cloud(\"test1.pcd\") \n",
    "print(pcd) \n",
    "print(\"->正在可视化原始点云\") \n",
    "o3d.visualization.draw_geometries([pcd]) \n",
    "print(\"->正在体素下采样...\") \n",
    "voxel_size = 10\n",
    "downpcd = pcd.voxel_down_sample(voxel_size) \n",
    "print(downpcd) \n",
    "print(\"->正在可视化下采样点云\") \n",
    "o3d.visualization.draw_geometries([downpcd])\n",
    "\n",
    "np.asarray(downpcd.points)[:, :1] += 1000\n",
    "print(np.asarray(downpcd.points).shape)\n",
    "# o3d.visualization.draw_geometries([pcd, downpcd])"
   ]
  },
  {
   "cell_type": "markdown",
   "metadata": {},
   "source": [
    "### 统计滤波\n",
    "推测操作是计算周围k个点的平均距离\n",
    "\n",
    "计算标准差\n",
    "\n",
    "根据给定的阈值，高于阈值的认为是噪声，删去"
   ]
  },
  {
   "cell_type": "code",
   "execution_count": 73,
   "metadata": {},
   "outputs": [
    {
     "name": "stdout",
     "output_type": "stream",
     "text": [
      "->正在加载点云... \n",
      "原始点云： PointCloud with 801147 points.\n",
      "->正在进行统计滤波...\n",
      "统计滤波后的点云： PointCloud with 698559 points.\n",
      "噪声点云： PointCloud with 102588 points.\n"
     ]
    }
   ],
   "source": [
    "import open3d as o3d \n",
    "import numpy as np \n",
    "print(\"->正在加载点云... \") \n",
    "pcd = o3d.io.read_point_cloud(\"test1.pcd\") \n",
    "print(\"原始点云：\", pcd) \n",
    "# ------------------------- 统计滤波 --------------------------\n",
    "print(\"->正在进行统计滤波...\") \n",
    "# K邻域点的个数\n",
    "num_neighbors = 100\n",
    " \n",
    "std_ratio = 1\n",
    "# 标准差乘数 \n",
    "# # 执行统计滤波，返回滤波后的点云sor_pcd和对应的索引ind \n",
    "sor_pcd, ind = pcd.remove_statistical_outlier(num_neighbors, std_ratio) \n",
    "sor_pcd.paint_uniform_color([0, 0, 1]) \n",
    "print(\"统计滤波后的点云：\", sor_pcd) \n",
    "sor_pcd.paint_uniform_color([0, 0, 1]) \n",
    "# 提取噪声点云 \n",
    "sor_noise_pcd = pcd.select_by_index(ind,invert = True) \n",
    "print(\"噪声点云：\", sor_noise_pcd) \n",
    "sor_noise_pcd.paint_uniform_color([1, 0, 0]) \n",
    "# =========================================================== \n",
    "# # 可视化统计滤波后的点云和噪声点云 \n",
    "o3d.visualization.draw_geometries([sor_pcd, sor_noise_pcd])\n"
   ]
  },
  {
   "cell_type": "code",
   "execution_count": 84,
   "metadata": {},
   "outputs": [
    {
     "name": "stdout",
     "output_type": "stream",
     "text": [
      "->正在加载点云... \n",
      "原始点云： PointCloud with 801147 points.\n",
      "->正在进行半径滤波...\n",
      "半径滤波后的点云： PointCloud with 797122 points.\n",
      "噪声点云： PointCloud with 4025 points.\n"
     ]
    }
   ],
   "source": [
    "import open3d as o3d \n",
    "import numpy as np \n",
    "print(\"->正在加载点云... \") \n",
    "pcd = o3d.io.read_point_cloud(\"test1.pcd\") \n",
    "print(\"原始点云：\", pcd) \n",
    "# ------------------------- 半径滤波 -------------------------- \n",
    "print(\"->正在进行半径滤波...\") \n",
    "num_points = 5\n",
    "# 邻域球内的最少点数，低于该值的点为噪声点 \n",
    "radius = 10\n",
    "# 邻域半径大小 \n",
    "# # 执行半径滤波，返回滤波后的点云sor_pcd和对应的索引ind \n",
    "sor_pcd, ind = pcd.remove_radius_outlier(num_points, radius) \n",
    "sor_pcd.paint_uniform_color([0, 0, 1]) \n",
    "print(\"半径滤波后的点云：\", sor_pcd) \n",
    "sor_pcd.paint_uniform_color([0, 0, 1]) \n",
    "# 提取噪声点云 \n",
    "sor_noise_pcd = pcd.select_by_index(ind,invert = True) \n",
    "print(\"噪声点云：\", sor_noise_pcd)\n",
    "sor_noise_pcd.paint_uniform_color([1, 0, 0])    # 噪点设为红色 \n",
    "# =========================================================== \n",
    "# # 可视化半径滤波后的点云和噪声点云 \n",
    "o3d.visualization.draw_geometries([sor_pcd, sor_noise_pcd])\n"
   ]
  },
  {
   "cell_type": "code",
   "execution_count": null,
   "metadata": {},
   "outputs": [],
   "source": []
  }
 ],
 "metadata": {
  "kernelspec": {
   "display_name": "Python 3",
   "language": "python",
   "name": "python3"
  },
  "language_info": {
   "codemirror_mode": {
    "name": "ipython",
    "version": 3
   },
   "file_extension": ".py",
   "mimetype": "text/x-python",
   "name": "python",
   "nbconvert_exporter": "python",
   "pygments_lexer": "ipython3",
   "version": "3.11.11"
  }
 },
 "nbformat": 4,
 "nbformat_minor": 2
}
